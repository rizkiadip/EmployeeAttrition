{
 "cells": [
  {
   "cell_type": "markdown",
   "metadata": {},
   "source": [
    "# OVERVIEW"
   ]
  },
  {
   "cell_type": "code",
   "execution_count": 1,
   "metadata": {},
   "outputs": [],
   "source": [
    "import pandas as pd\n",
    "import numpy as np\n",
    "import seaborn as sns\n",
    "import matplotlib.pyplot as plt\n",
    "\n",
    "from sklearn.impute import SimpleImputer\n",
    "\n",
    "from sklearn.preprocessing import MinMaxScaler, StandardScaler, RobustScaler\n",
    "from sklearn.preprocessing import OneHotEncoder\n",
    "\n",
    "from sklearn.feature_selection import RFE\n",
    "\n",
    "from imblearn.over_sampling import SMOTE\n",
    "\n",
    "from imblearn.pipeline import Pipeline\n",
    "from sklearn.compose import ColumnTransformer\n",
    "\n",
    "from sklearn.model_selection import train_test_split, cross_val_score, StratifiedKFold, GridSearchCV\n",
    "\n",
    "from sklearn.neighbors import KNeighborsClassifier\n",
    "from sklearn.ensemble import RandomForestClassifier\n",
    "from sklearn.ensemble import GradientBoostingClassifier\n",
    "\n",
    "\n",
    "from sklearn.metrics import classification_report, auc, roc_auc_score, accuracy_score, precision_score, recall_score, f1_score\n",
    "from sklearn.metrics import roc_curve, plot_roc_curve, precision_recall_curve, plot_precision_recall_curve, confusion_matrix, plot_confusion_matrix\n",
    "\n",
    "import pickle"
   ]
  },
  {
   "cell_type": "code",
   "execution_count": 2,
   "metadata": {},
   "outputs": [],
   "source": [
    "pd.set_option('display.max_columns',100)\n",
    "pd.set_option('max_colwidth', 100)"
   ]
  },
  {
   "cell_type": "code",
   "execution_count": 3,
   "metadata": {
    "scrolled": false
   },
   "outputs": [
    {
     "data": {
      "text/html": [
       "<div>\n",
       "<style scoped>\n",
       "    .dataframe tbody tr th:only-of-type {\n",
       "        vertical-align: middle;\n",
       "    }\n",
       "\n",
       "    .dataframe tbody tr th {\n",
       "        vertical-align: top;\n",
       "    }\n",
       "\n",
       "    .dataframe thead th {\n",
       "        text-align: right;\n",
       "    }\n",
       "</style>\n",
       "<table border=\"1\" class=\"dataframe\">\n",
       "  <thead>\n",
       "    <tr style=\"text-align: right;\">\n",
       "      <th></th>\n",
       "      <th>Age</th>\n",
       "      <th>Attrition</th>\n",
       "      <th>BusinessTravel</th>\n",
       "      <th>Department</th>\n",
       "      <th>DistanceFromHome</th>\n",
       "      <th>Education</th>\n",
       "      <th>EducationField</th>\n",
       "      <th>EnvironmentSatisfaction</th>\n",
       "      <th>Gender</th>\n",
       "      <th>JobInvolvement</th>\n",
       "      <th>JobLevel</th>\n",
       "      <th>JobRole</th>\n",
       "      <th>JobSatisfaction</th>\n",
       "      <th>MaritalStatus</th>\n",
       "      <th>MonthlyIncome</th>\n",
       "      <th>MonthlyRate</th>\n",
       "      <th>NumCompaniesWorked</th>\n",
       "      <th>OverTime</th>\n",
       "      <th>PercentSalaryHike</th>\n",
       "      <th>PerformanceRating</th>\n",
       "      <th>RelationshipSatisfaction</th>\n",
       "      <th>StockOptionLevel</th>\n",
       "      <th>TotalWorkingYears</th>\n",
       "      <th>TrainingTimesLastYear</th>\n",
       "      <th>WorkLifeBalance</th>\n",
       "      <th>YearsAtCompany</th>\n",
       "      <th>YearsInCurrentRole</th>\n",
       "      <th>YearsSinceLastPromotion</th>\n",
       "      <th>YearsWithCurrManager</th>\n",
       "    </tr>\n",
       "  </thead>\n",
       "  <tbody>\n",
       "    <tr>\n",
       "      <th>0</th>\n",
       "      <td>50.0</td>\n",
       "      <td>No</td>\n",
       "      <td>Travel_Rarely</td>\n",
       "      <td>Research &amp; Development</td>\n",
       "      <td>1.0</td>\n",
       "      <td>2</td>\n",
       "      <td>Medical</td>\n",
       "      <td>4</td>\n",
       "      <td>Male</td>\n",
       "      <td>3</td>\n",
       "      <td>4</td>\n",
       "      <td>Research Director</td>\n",
       "      <td>4</td>\n",
       "      <td>Divorced</td>\n",
       "      <td>17399</td>\n",
       "      <td>6615</td>\n",
       "      <td>9</td>\n",
       "      <td>No</td>\n",
       "      <td>22</td>\n",
       "      <td>4</td>\n",
       "      <td>3</td>\n",
       "      <td>1</td>\n",
       "      <td>32</td>\n",
       "      <td>1</td>\n",
       "      <td>2</td>\n",
       "      <td>5</td>\n",
       "      <td>4</td>\n",
       "      <td>1</td>\n",
       "      <td>3</td>\n",
       "    </tr>\n",
       "    <tr>\n",
       "      <th>1</th>\n",
       "      <td>36.0</td>\n",
       "      <td>No</td>\n",
       "      <td>Travel_Rarely</td>\n",
       "      <td>Research &amp; Development</td>\n",
       "      <td>6.0</td>\n",
       "      <td>2</td>\n",
       "      <td>Medical</td>\n",
       "      <td>2</td>\n",
       "      <td>Male</td>\n",
       "      <td>3</td>\n",
       "      <td>2</td>\n",
       "      <td>Manufacturing Director</td>\n",
       "      <td>2</td>\n",
       "      <td>Divorced</td>\n",
       "      <td>4941</td>\n",
       "      <td>2819</td>\n",
       "      <td>6</td>\n",
       "      <td>No</td>\n",
       "      <td>20</td>\n",
       "      <td>4</td>\n",
       "      <td>4</td>\n",
       "      <td>2</td>\n",
       "      <td>7</td>\n",
       "      <td>0</td>\n",
       "      <td>3</td>\n",
       "      <td>3</td>\n",
       "      <td>2</td>\n",
       "      <td>0</td>\n",
       "      <td>1</td>\n",
       "    </tr>\n",
       "    <tr>\n",
       "      <th>2</th>\n",
       "      <td>21.0</td>\n",
       "      <td>Yes</td>\n",
       "      <td>Travel_Rarely</td>\n",
       "      <td>Sales</td>\n",
       "      <td>7.0</td>\n",
       "      <td>1</td>\n",
       "      <td>Marketing</td>\n",
       "      <td>2</td>\n",
       "      <td>Male</td>\n",
       "      <td>3</td>\n",
       "      <td>1</td>\n",
       "      <td>Sales Representative</td>\n",
       "      <td>2</td>\n",
       "      <td>Single</td>\n",
       "      <td>2679</td>\n",
       "      <td>4567</td>\n",
       "      <td>1</td>\n",
       "      <td>No</td>\n",
       "      <td>13</td>\n",
       "      <td>3</td>\n",
       "      <td>2</td>\n",
       "      <td>0</td>\n",
       "      <td>1</td>\n",
       "      <td>3</td>\n",
       "      <td>3</td>\n",
       "      <td>1</td>\n",
       "      <td>0</td>\n",
       "      <td>1</td>\n",
       "      <td>0</td>\n",
       "    </tr>\n",
       "    <tr>\n",
       "      <th>3</th>\n",
       "      <td>50.0</td>\n",
       "      <td>No</td>\n",
       "      <td>Travel_Frequently</td>\n",
       "      <td>Human Resources</td>\n",
       "      <td>NaN</td>\n",
       "      <td>3</td>\n",
       "      <td>Medical</td>\n",
       "      <td>1</td>\n",
       "      <td>Male</td>\n",
       "      <td>3</td>\n",
       "      <td>5</td>\n",
       "      <td>Manager</td>\n",
       "      <td>2</td>\n",
       "      <td>Married</td>\n",
       "      <td>18200</td>\n",
       "      <td>7999</td>\n",
       "      <td>1</td>\n",
       "      <td>No</td>\n",
       "      <td>11</td>\n",
       "      <td>3</td>\n",
       "      <td>3</td>\n",
       "      <td>1</td>\n",
       "      <td>32</td>\n",
       "      <td>2</td>\n",
       "      <td>3</td>\n",
       "      <td>32</td>\n",
       "      <td>5</td>\n",
       "      <td>10</td>\n",
       "      <td>7</td>\n",
       "    </tr>\n",
       "    <tr>\n",
       "      <th>4</th>\n",
       "      <td>52.0</td>\n",
       "      <td>No</td>\n",
       "      <td>Travel_Rarely</td>\n",
       "      <td>Research &amp; Development</td>\n",
       "      <td>7.0</td>\n",
       "      <td>4</td>\n",
       "      <td>Life Sciences</td>\n",
       "      <td>2</td>\n",
       "      <td>Male</td>\n",
       "      <td>3</td>\n",
       "      <td>3</td>\n",
       "      <td>Healthcare Representative</td>\n",
       "      <td>2</td>\n",
       "      <td>Single</td>\n",
       "      <td>10445</td>\n",
       "      <td>15322</td>\n",
       "      <td>7</td>\n",
       "      <td>No</td>\n",
       "      <td>19</td>\n",
       "      <td>3</td>\n",
       "      <td>4</td>\n",
       "      <td>0</td>\n",
       "      <td>18</td>\n",
       "      <td>4</td>\n",
       "      <td>3</td>\n",
       "      <td>8</td>\n",
       "      <td>6</td>\n",
       "      <td>4</td>\n",
       "      <td>0</td>\n",
       "    </tr>\n",
       "  </tbody>\n",
       "</table>\n",
       "</div>"
      ],
      "text/plain": [
       "    Age Attrition     BusinessTravel              Department  \\\n",
       "0  50.0        No      Travel_Rarely  Research & Development   \n",
       "1  36.0        No      Travel_Rarely  Research & Development   \n",
       "2  21.0       Yes      Travel_Rarely                   Sales   \n",
       "3  50.0        No  Travel_Frequently         Human Resources   \n",
       "4  52.0        No      Travel_Rarely  Research & Development   \n",
       "\n",
       "   DistanceFromHome  Education EducationField  EnvironmentSatisfaction Gender  \\\n",
       "0               1.0          2        Medical                        4   Male   \n",
       "1               6.0          2        Medical                        2   Male   \n",
       "2               7.0          1      Marketing                        2   Male   \n",
       "3               NaN          3        Medical                        1   Male   \n",
       "4               7.0          4  Life Sciences                        2   Male   \n",
       "\n",
       "   JobInvolvement  JobLevel                    JobRole  JobSatisfaction  \\\n",
       "0               3         4          Research Director                4   \n",
       "1               3         2     Manufacturing Director                2   \n",
       "2               3         1       Sales Representative                2   \n",
       "3               3         5                    Manager                2   \n",
       "4               3         3  Healthcare Representative                2   \n",
       "\n",
       "  MaritalStatus  MonthlyIncome  MonthlyRate  NumCompaniesWorked OverTime  \\\n",
       "0      Divorced          17399         6615                   9       No   \n",
       "1      Divorced           4941         2819                   6       No   \n",
       "2        Single           2679         4567                   1       No   \n",
       "3       Married          18200         7999                   1       No   \n",
       "4        Single          10445        15322                   7       No   \n",
       "\n",
       "   PercentSalaryHike  PerformanceRating  RelationshipSatisfaction  \\\n",
       "0                 22                  4                         3   \n",
       "1                 20                  4                         4   \n",
       "2                 13                  3                         2   \n",
       "3                 11                  3                         3   \n",
       "4                 19                  3                         4   \n",
       "\n",
       "   StockOptionLevel  TotalWorkingYears  TrainingTimesLastYear  \\\n",
       "0                 1                 32                      1   \n",
       "1                 2                  7                      0   \n",
       "2                 0                  1                      3   \n",
       "3                 1                 32                      2   \n",
       "4                 0                 18                      4   \n",
       "\n",
       "   WorkLifeBalance  YearsAtCompany  YearsInCurrentRole  \\\n",
       "0                2               5                   4   \n",
       "1                3               3                   2   \n",
       "2                3               1                   0   \n",
       "3                3              32                   5   \n",
       "4                3               8                   6   \n",
       "\n",
       "   YearsSinceLastPromotion  YearsWithCurrManager  \n",
       "0                        1                     3  \n",
       "1                        0                     1  \n",
       "2                        1                     0  \n",
       "3                       10                     7  \n",
       "4                        4                     0  "
      ]
     },
     "execution_count": 3,
     "metadata": {},
     "output_type": "execute_result"
    }
   ],
   "source": [
    "df = pd.read_csv('Data/Employee Attrition Ready.csv')\n",
    "df.head()"
   ]
  },
  {
   "cell_type": "code",
   "execution_count": 4,
   "metadata": {},
   "outputs": [],
   "source": [
    "def summary(df):\n",
    "    dtype = []\n",
    "    nan = []\n",
    "    nan_perc = []\n",
    "    nunique = []\n",
    "    unique = []\n",
    "    \n",
    "    for i in df.columns:\n",
    "        dtype.append(df[i].dtype)\n",
    "        nan.append(df[i].isna().sum())\n",
    "        nan_perc.append((df[i].isna().sum()/len(df[i]))*100)\n",
    "        nunique.append(df[i].nunique())\n",
    "        val_counts = df[i].value_counts(normalize=True)\n",
    "        unique.append(list(val_counts.index))\n",
    "    \n",
    "    summary_df = pd.DataFrame({'dtype': dtype, 'nan' : nan, 'nan_perc' : nan_perc, 'nunique' : nunique, 'unique': unique}, index=df.columns)\n",
    "    \n",
    "    return display(summary_df)"
   ]
  },
  {
   "cell_type": "code",
   "execution_count": 5,
   "metadata": {
    "scrolled": false
   },
   "outputs": [
    {
     "data": {
      "text/html": [
       "<div>\n",
       "<style scoped>\n",
       "    .dataframe tbody tr th:only-of-type {\n",
       "        vertical-align: middle;\n",
       "    }\n",
       "\n",
       "    .dataframe tbody tr th {\n",
       "        vertical-align: top;\n",
       "    }\n",
       "\n",
       "    .dataframe thead th {\n",
       "        text-align: right;\n",
       "    }\n",
       "</style>\n",
       "<table border=\"1\" class=\"dataframe\">\n",
       "  <thead>\n",
       "    <tr style=\"text-align: right;\">\n",
       "      <th></th>\n",
       "      <th>dtype</th>\n",
       "      <th>nan</th>\n",
       "      <th>nan_perc</th>\n",
       "      <th>nunique</th>\n",
       "      <th>unique</th>\n",
       "    </tr>\n",
       "  </thead>\n",
       "  <tbody>\n",
       "    <tr>\n",
       "      <th>Age</th>\n",
       "      <td>float64</td>\n",
       "      <td>136</td>\n",
       "      <td>13.216715</td>\n",
       "      <td>39</td>\n",
       "      <td>[29.0, 36.0, 34.0, 31.0, 32.0, 33.0, 30.0, 40.0, 38.0, 27.0, 42.0, 41.0, 37.0, 45.0, 39.0, 43.0,...</td>\n",
       "    </tr>\n",
       "    <tr>\n",
       "      <th>Attrition</th>\n",
       "      <td>object</td>\n",
       "      <td>0</td>\n",
       "      <td>0.000000</td>\n",
       "      <td>2</td>\n",
       "      <td>[No, Yes]</td>\n",
       "    </tr>\n",
       "    <tr>\n",
       "      <th>BusinessTravel</th>\n",
       "      <td>object</td>\n",
       "      <td>5</td>\n",
       "      <td>0.485909</td>\n",
       "      <td>3</td>\n",
       "      <td>[Travel_Rarely, Travel_Frequently, Non-Travel]</td>\n",
       "    </tr>\n",
       "    <tr>\n",
       "      <th>Department</th>\n",
       "      <td>object</td>\n",
       "      <td>0</td>\n",
       "      <td>0.000000</td>\n",
       "      <td>3</td>\n",
       "      <td>[Research &amp; Development, Sales, Human Resources]</td>\n",
       "    </tr>\n",
       "    <tr>\n",
       "      <th>DistanceFromHome</th>\n",
       "      <td>float64</td>\n",
       "      <td>95</td>\n",
       "      <td>9.232264</td>\n",
       "      <td>27</td>\n",
       "      <td>[1.0, 2.0, 9.0, 10.0, 8.0, 7.0, 4.0, 6.0, 26.0, 16.0, 18.0, 11.0, 25.0, 24.0, 29.0, 12.0, 23.0, ...</td>\n",
       "    </tr>\n",
       "    <tr>\n",
       "      <th>Education</th>\n",
       "      <td>int64</td>\n",
       "      <td>0</td>\n",
       "      <td>0.000000</td>\n",
       "      <td>5</td>\n",
       "      <td>[3, 4, 2, 1, 5]</td>\n",
       "    </tr>\n",
       "    <tr>\n",
       "      <th>EducationField</th>\n",
       "      <td>object</td>\n",
       "      <td>0</td>\n",
       "      <td>0.000000</td>\n",
       "      <td>6</td>\n",
       "      <td>[Life Sciences, Medical, Marketing, Technical Degree, Other, Human Resources]</td>\n",
       "    </tr>\n",
       "    <tr>\n",
       "      <th>EnvironmentSatisfaction</th>\n",
       "      <td>int64</td>\n",
       "      <td>0</td>\n",
       "      <td>0.000000</td>\n",
       "      <td>4</td>\n",
       "      <td>[3, 4, 2, 1]</td>\n",
       "    </tr>\n",
       "    <tr>\n",
       "      <th>Gender</th>\n",
       "      <td>object</td>\n",
       "      <td>0</td>\n",
       "      <td>0.000000</td>\n",
       "      <td>2</td>\n",
       "      <td>[Male, Female]</td>\n",
       "    </tr>\n",
       "    <tr>\n",
       "      <th>JobInvolvement</th>\n",
       "      <td>int64</td>\n",
       "      <td>0</td>\n",
       "      <td>0.000000</td>\n",
       "      <td>4</td>\n",
       "      <td>[3, 2, 4, 1]</td>\n",
       "    </tr>\n",
       "    <tr>\n",
       "      <th>JobLevel</th>\n",
       "      <td>int64</td>\n",
       "      <td>0</td>\n",
       "      <td>0.000000</td>\n",
       "      <td>5</td>\n",
       "      <td>[1, 2, 3, 4, 5]</td>\n",
       "    </tr>\n",
       "    <tr>\n",
       "      <th>JobRole</th>\n",
       "      <td>object</td>\n",
       "      <td>0</td>\n",
       "      <td>0.000000</td>\n",
       "      <td>9</td>\n",
       "      <td>[Sales Executive, Research Scientist, Laboratory Technician, Manufacturing Director, Healthcare ...</td>\n",
       "    </tr>\n",
       "    <tr>\n",
       "      <th>JobSatisfaction</th>\n",
       "      <td>int64</td>\n",
       "      <td>0</td>\n",
       "      <td>0.000000</td>\n",
       "      <td>4</td>\n",
       "      <td>[4, 3, 2, 1]</td>\n",
       "    </tr>\n",
       "    <tr>\n",
       "      <th>MaritalStatus</th>\n",
       "      <td>object</td>\n",
       "      <td>5</td>\n",
       "      <td>0.485909</td>\n",
       "      <td>3</td>\n",
       "      <td>[Married, Single, Divorced]</td>\n",
       "    </tr>\n",
       "    <tr>\n",
       "      <th>MonthlyIncome</th>\n",
       "      <td>int64</td>\n",
       "      <td>0</td>\n",
       "      <td>0.000000</td>\n",
       "      <td>963</td>\n",
       "      <td>[2342, 2451, 2610, 2404, 6347, 6272, 2657, 5562, 5561, 2132, 2127, 2559, 3038, 4907, 2996, 5228,...</td>\n",
       "    </tr>\n",
       "    <tr>\n",
       "      <th>MonthlyRate</th>\n",
       "      <td>int64</td>\n",
       "      <td>0</td>\n",
       "      <td>0.000000</td>\n",
       "      <td>1010</td>\n",
       "      <td>[19373, 7744, 4658, 22102, 7324, 11737, 16154, 15318, 24444, 21534, 12858, 5355, 12355, 9129, 20...</td>\n",
       "    </tr>\n",
       "    <tr>\n",
       "      <th>NumCompaniesWorked</th>\n",
       "      <td>int64</td>\n",
       "      <td>0</td>\n",
       "      <td>0.000000</td>\n",
       "      <td>10</td>\n",
       "      <td>[1, 0, 2, 3, 4, 7, 6, 5, 9, 8]</td>\n",
       "    </tr>\n",
       "    <tr>\n",
       "      <th>OverTime</th>\n",
       "      <td>object</td>\n",
       "      <td>0</td>\n",
       "      <td>0.000000</td>\n",
       "      <td>2</td>\n",
       "      <td>[No, Yes]</td>\n",
       "    </tr>\n",
       "    <tr>\n",
       "      <th>PercentSalaryHike</th>\n",
       "      <td>int64</td>\n",
       "      <td>0</td>\n",
       "      <td>0.000000</td>\n",
       "      <td>15</td>\n",
       "      <td>[13, 14, 11, 12, 15, 18, 17, 19, 16, 20, 22, 21, 23, 25, 24]</td>\n",
       "    </tr>\n",
       "    <tr>\n",
       "      <th>PerformanceRating</th>\n",
       "      <td>int64</td>\n",
       "      <td>0</td>\n",
       "      <td>0.000000</td>\n",
       "      <td>2</td>\n",
       "      <td>[3, 4]</td>\n",
       "    </tr>\n",
       "    <tr>\n",
       "      <th>RelationshipSatisfaction</th>\n",
       "      <td>int64</td>\n",
       "      <td>0</td>\n",
       "      <td>0.000000</td>\n",
       "      <td>4</td>\n",
       "      <td>[3, 4, 2, 1]</td>\n",
       "    </tr>\n",
       "    <tr>\n",
       "      <th>StockOptionLevel</th>\n",
       "      <td>int64</td>\n",
       "      <td>0</td>\n",
       "      <td>0.000000</td>\n",
       "      <td>4</td>\n",
       "      <td>[0, 1, 2, 3]</td>\n",
       "    </tr>\n",
       "    <tr>\n",
       "      <th>TotalWorkingYears</th>\n",
       "      <td>int64</td>\n",
       "      <td>0</td>\n",
       "      <td>0.000000</td>\n",
       "      <td>40</td>\n",
       "      <td>[10, 6, 8, 5, 1, 9, 4, 7, 15, 3, 12, 11, 21, 13, 16, 2, 20, 17, 18, 14, 19, 23, 24, 22, 26, 28, ...</td>\n",
       "    </tr>\n",
       "    <tr>\n",
       "      <th>TrainingTimesLastYear</th>\n",
       "      <td>int64</td>\n",
       "      <td>0</td>\n",
       "      <td>0.000000</td>\n",
       "      <td>7</td>\n",
       "      <td>[2, 3, 4, 5, 1, 6, 0]</td>\n",
       "    </tr>\n",
       "    <tr>\n",
       "      <th>WorkLifeBalance</th>\n",
       "      <td>int64</td>\n",
       "      <td>0</td>\n",
       "      <td>0.000000</td>\n",
       "      <td>4</td>\n",
       "      <td>[3, 2, 4, 1]</td>\n",
       "    </tr>\n",
       "    <tr>\n",
       "      <th>YearsAtCompany</th>\n",
       "      <td>int64</td>\n",
       "      <td>0</td>\n",
       "      <td>0.000000</td>\n",
       "      <td>32</td>\n",
       "      <td>[5, 1, 3, 2, 10, 4, 7, 6, 9, 8, 0, 11, 20, 13, 15, 14, 22, 18, 21, 12, 16, 19, 17, 33, 24, 25, 2...</td>\n",
       "    </tr>\n",
       "    <tr>\n",
       "      <th>YearsInCurrentRole</th>\n",
       "      <td>int64</td>\n",
       "      <td>0</td>\n",
       "      <td>0.000000</td>\n",
       "      <td>19</td>\n",
       "      <td>[2, 0, 7, 3, 4, 8, 9, 1, 6, 5, 10, 11, 13, 14, 12, 15, 16, 17, 18]</td>\n",
       "    </tr>\n",
       "    <tr>\n",
       "      <th>YearsSinceLastPromotion</th>\n",
       "      <td>int64</td>\n",
       "      <td>0</td>\n",
       "      <td>0.000000</td>\n",
       "      <td>16</td>\n",
       "      <td>[0, 1, 2, 7, 4, 3, 5, 6, 11, 8, 9, 13, 12, 15, 10, 14]</td>\n",
       "    </tr>\n",
       "    <tr>\n",
       "      <th>YearsWithCurrManager</th>\n",
       "      <td>int64</td>\n",
       "      <td>0</td>\n",
       "      <td>0.000000</td>\n",
       "      <td>17</td>\n",
       "      <td>[2, 0, 7, 3, 8, 4, 1, 9, 5, 10, 6, 11, 12, 13, 17, 15, 14]</td>\n",
       "    </tr>\n",
       "  </tbody>\n",
       "</table>\n",
       "</div>"
      ],
      "text/plain": [
       "                            dtype  nan   nan_perc  nunique  \\\n",
       "Age                       float64  136  13.216715       39   \n",
       "Attrition                  object    0   0.000000        2   \n",
       "BusinessTravel             object    5   0.485909        3   \n",
       "Department                 object    0   0.000000        3   \n",
       "DistanceFromHome          float64   95   9.232264       27   \n",
       "Education                   int64    0   0.000000        5   \n",
       "EducationField             object    0   0.000000        6   \n",
       "EnvironmentSatisfaction     int64    0   0.000000        4   \n",
       "Gender                     object    0   0.000000        2   \n",
       "JobInvolvement              int64    0   0.000000        4   \n",
       "JobLevel                    int64    0   0.000000        5   \n",
       "JobRole                    object    0   0.000000        9   \n",
       "JobSatisfaction             int64    0   0.000000        4   \n",
       "MaritalStatus              object    5   0.485909        3   \n",
       "MonthlyIncome               int64    0   0.000000      963   \n",
       "MonthlyRate                 int64    0   0.000000     1010   \n",
       "NumCompaniesWorked          int64    0   0.000000       10   \n",
       "OverTime                   object    0   0.000000        2   \n",
       "PercentSalaryHike           int64    0   0.000000       15   \n",
       "PerformanceRating           int64    0   0.000000        2   \n",
       "RelationshipSatisfaction    int64    0   0.000000        4   \n",
       "StockOptionLevel            int64    0   0.000000        4   \n",
       "TotalWorkingYears           int64    0   0.000000       40   \n",
       "TrainingTimesLastYear       int64    0   0.000000        7   \n",
       "WorkLifeBalance             int64    0   0.000000        4   \n",
       "YearsAtCompany              int64    0   0.000000       32   \n",
       "YearsInCurrentRole          int64    0   0.000000       19   \n",
       "YearsSinceLastPromotion     int64    0   0.000000       16   \n",
       "YearsWithCurrManager        int64    0   0.000000       17   \n",
       "\n",
       "                                                                                                                       unique  \n",
       "Age                       [29.0, 36.0, 34.0, 31.0, 32.0, 33.0, 30.0, 40.0, 38.0, 27.0, 42.0, 41.0, 37.0, 45.0, 39.0, 43.0,...  \n",
       "Attrition                                                                                                           [No, Yes]  \n",
       "BusinessTravel                                                                 [Travel_Rarely, Travel_Frequently, Non-Travel]  \n",
       "Department                                                                   [Research & Development, Sales, Human Resources]  \n",
       "DistanceFromHome          [1.0, 2.0, 9.0, 10.0, 8.0, 7.0, 4.0, 6.0, 26.0, 16.0, 18.0, 11.0, 25.0, 24.0, 29.0, 12.0, 23.0, ...  \n",
       "Education                                                                                                     [3, 4, 2, 1, 5]  \n",
       "EducationField                                  [Life Sciences, Medical, Marketing, Technical Degree, Other, Human Resources]  \n",
       "EnvironmentSatisfaction                                                                                          [3, 4, 2, 1]  \n",
       "Gender                                                                                                         [Male, Female]  \n",
       "JobInvolvement                                                                                                   [3, 2, 4, 1]  \n",
       "JobLevel                                                                                                      [1, 2, 3, 4, 5]  \n",
       "JobRole                   [Sales Executive, Research Scientist, Laboratory Technician, Manufacturing Director, Healthcare ...  \n",
       "JobSatisfaction                                                                                                  [4, 3, 2, 1]  \n",
       "MaritalStatus                                                                                     [Married, Single, Divorced]  \n",
       "MonthlyIncome             [2342, 2451, 2610, 2404, 6347, 6272, 2657, 5562, 5561, 2132, 2127, 2559, 3038, 4907, 2996, 5228,...  \n",
       "MonthlyRate               [19373, 7744, 4658, 22102, 7324, 11737, 16154, 15318, 24444, 21534, 12858, 5355, 12355, 9129, 20...  \n",
       "NumCompaniesWorked                                                                             [1, 0, 2, 3, 4, 7, 6, 5, 9, 8]  \n",
       "OverTime                                                                                                            [No, Yes]  \n",
       "PercentSalaryHike                                                [13, 14, 11, 12, 15, 18, 17, 19, 16, 20, 22, 21, 23, 25, 24]  \n",
       "PerformanceRating                                                                                                      [3, 4]  \n",
       "RelationshipSatisfaction                                                                                         [3, 4, 2, 1]  \n",
       "StockOptionLevel                                                                                                 [0, 1, 2, 3]  \n",
       "TotalWorkingYears         [10, 6, 8, 5, 1, 9, 4, 7, 15, 3, 12, 11, 21, 13, 16, 2, 20, 17, 18, 14, 19, 23, 24, 22, 26, 28, ...  \n",
       "TrainingTimesLastYear                                                                                   [2, 3, 4, 5, 1, 6, 0]  \n",
       "WorkLifeBalance                                                                                                  [3, 2, 4, 1]  \n",
       "YearsAtCompany            [5, 1, 3, 2, 10, 4, 7, 6, 9, 8, 0, 11, 20, 13, 15, 14, 22, 18, 21, 12, 16, 19, 17, 33, 24, 25, 2...  \n",
       "YearsInCurrentRole                                         [2, 0, 7, 3, 4, 8, 9, 1, 6, 5, 10, 11, 13, 14, 12, 15, 16, 17, 18]  \n",
       "YearsSinceLastPromotion                                                [0, 1, 2, 7, 4, 3, 5, 6, 11, 8, 9, 13, 12, 15, 10, 14]  \n",
       "YearsWithCurrManager                                               [2, 0, 7, 3, 8, 4, 1, 9, 5, 10, 6, 11, 12, 13, 17, 15, 14]  "
      ]
     },
     "metadata": {},
     "output_type": "display_data"
    }
   ],
   "source": [
    "summary(df)"
   ]
  },
  {
   "cell_type": "code",
   "execution_count": 6,
   "metadata": {},
   "outputs": [
    {
     "data": {
      "text/html": [
       "<div>\n",
       "<style scoped>\n",
       "    .dataframe tbody tr th:only-of-type {\n",
       "        vertical-align: middle;\n",
       "    }\n",
       "\n",
       "    .dataframe tbody tr th {\n",
       "        vertical-align: top;\n",
       "    }\n",
       "\n",
       "    .dataframe thead th {\n",
       "        text-align: right;\n",
       "    }\n",
       "</style>\n",
       "<table border=\"1\" class=\"dataframe\">\n",
       "  <thead>\n",
       "    <tr style=\"text-align: right;\">\n",
       "      <th></th>\n",
       "      <th>count</th>\n",
       "      <th>mean</th>\n",
       "      <th>std</th>\n",
       "      <th>min</th>\n",
       "      <th>25%</th>\n",
       "      <th>50%</th>\n",
       "      <th>75%</th>\n",
       "      <th>max</th>\n",
       "    </tr>\n",
       "  </thead>\n",
       "  <tbody>\n",
       "    <tr>\n",
       "      <th>Age</th>\n",
       "      <td>893.0</td>\n",
       "      <td>37.930571</td>\n",
       "      <td>9.395978</td>\n",
       "      <td>18.0</td>\n",
       "      <td>31.0</td>\n",
       "      <td>37.0</td>\n",
       "      <td>44.0</td>\n",
       "      <td>60.0</td>\n",
       "    </tr>\n",
       "    <tr>\n",
       "      <th>DistanceFromHome</th>\n",
       "      <td>934.0</td>\n",
       "      <td>9.930407</td>\n",
       "      <td>8.421791</td>\n",
       "      <td>1.0</td>\n",
       "      <td>2.0</td>\n",
       "      <td>8.0</td>\n",
       "      <td>16.0</td>\n",
       "      <td>29.0</td>\n",
       "    </tr>\n",
       "    <tr>\n",
       "      <th>Education</th>\n",
       "      <td>1029.0</td>\n",
       "      <td>2.892128</td>\n",
       "      <td>1.053541</td>\n",
       "      <td>1.0</td>\n",
       "      <td>2.0</td>\n",
       "      <td>3.0</td>\n",
       "      <td>4.0</td>\n",
       "      <td>5.0</td>\n",
       "    </tr>\n",
       "    <tr>\n",
       "      <th>EnvironmentSatisfaction</th>\n",
       "      <td>1029.0</td>\n",
       "      <td>2.683188</td>\n",
       "      <td>1.096829</td>\n",
       "      <td>1.0</td>\n",
       "      <td>2.0</td>\n",
       "      <td>3.0</td>\n",
       "      <td>4.0</td>\n",
       "      <td>4.0</td>\n",
       "    </tr>\n",
       "    <tr>\n",
       "      <th>JobInvolvement</th>\n",
       "      <td>1029.0</td>\n",
       "      <td>2.713314</td>\n",
       "      <td>0.710146</td>\n",
       "      <td>1.0</td>\n",
       "      <td>2.0</td>\n",
       "      <td>3.0</td>\n",
       "      <td>3.0</td>\n",
       "      <td>4.0</td>\n",
       "    </tr>\n",
       "    <tr>\n",
       "      <th>JobLevel</th>\n",
       "      <td>1029.0</td>\n",
       "      <td>2.043732</td>\n",
       "      <td>1.118918</td>\n",
       "      <td>1.0</td>\n",
       "      <td>1.0</td>\n",
       "      <td>2.0</td>\n",
       "      <td>3.0</td>\n",
       "      <td>5.0</td>\n",
       "    </tr>\n",
       "    <tr>\n",
       "      <th>JobSatisfaction</th>\n",
       "      <td>1029.0</td>\n",
       "      <td>2.712342</td>\n",
       "      <td>1.096889</td>\n",
       "      <td>1.0</td>\n",
       "      <td>2.0</td>\n",
       "      <td>3.0</td>\n",
       "      <td>4.0</td>\n",
       "      <td>4.0</td>\n",
       "    </tr>\n",
       "    <tr>\n",
       "      <th>MonthlyIncome</th>\n",
       "      <td>1029.0</td>\n",
       "      <td>6449.796890</td>\n",
       "      <td>4794.525367</td>\n",
       "      <td>1009.0</td>\n",
       "      <td>2814.0</td>\n",
       "      <td>4735.0</td>\n",
       "      <td>8446.0</td>\n",
       "      <td>19999.0</td>\n",
       "    </tr>\n",
       "    <tr>\n",
       "      <th>MonthlyRate</th>\n",
       "      <td>1029.0</td>\n",
       "      <td>14250.629738</td>\n",
       "      <td>7088.757938</td>\n",
       "      <td>2094.0</td>\n",
       "      <td>7950.0</td>\n",
       "      <td>14295.0</td>\n",
       "      <td>20392.0</td>\n",
       "      <td>26999.0</td>\n",
       "    </tr>\n",
       "    <tr>\n",
       "      <th>NumCompaniesWorked</th>\n",
       "      <td>1029.0</td>\n",
       "      <td>2.653061</td>\n",
       "      <td>2.508186</td>\n",
       "      <td>0.0</td>\n",
       "      <td>1.0</td>\n",
       "      <td>1.0</td>\n",
       "      <td>4.0</td>\n",
       "      <td>9.0</td>\n",
       "    </tr>\n",
       "    <tr>\n",
       "      <th>PercentSalaryHike</th>\n",
       "      <td>1029.0</td>\n",
       "      <td>15.260447</td>\n",
       "      <td>3.665779</td>\n",
       "      <td>11.0</td>\n",
       "      <td>12.0</td>\n",
       "      <td>14.0</td>\n",
       "      <td>18.0</td>\n",
       "      <td>25.0</td>\n",
       "    </tr>\n",
       "    <tr>\n",
       "      <th>PerformanceRating</th>\n",
       "      <td>1029.0</td>\n",
       "      <td>3.159378</td>\n",
       "      <td>0.366206</td>\n",
       "      <td>3.0</td>\n",
       "      <td>3.0</td>\n",
       "      <td>3.0</td>\n",
       "      <td>3.0</td>\n",
       "      <td>4.0</td>\n",
       "    </tr>\n",
       "    <tr>\n",
       "      <th>RelationshipSatisfaction</th>\n",
       "      <td>1029.0</td>\n",
       "      <td>2.689990</td>\n",
       "      <td>1.077767</td>\n",
       "      <td>1.0</td>\n",
       "      <td>2.0</td>\n",
       "      <td>3.0</td>\n",
       "      <td>4.0</td>\n",
       "      <td>4.0</td>\n",
       "    </tr>\n",
       "    <tr>\n",
       "      <th>StockOptionLevel</th>\n",
       "      <td>1029.0</td>\n",
       "      <td>0.822157</td>\n",
       "      <td>0.874662</td>\n",
       "      <td>0.0</td>\n",
       "      <td>0.0</td>\n",
       "      <td>1.0</td>\n",
       "      <td>1.0</td>\n",
       "      <td>3.0</td>\n",
       "    </tr>\n",
       "    <tr>\n",
       "      <th>TotalWorkingYears</th>\n",
       "      <td>1029.0</td>\n",
       "      <td>11.196307</td>\n",
       "      <td>7.857581</td>\n",
       "      <td>0.0</td>\n",
       "      <td>6.0</td>\n",
       "      <td>10.0</td>\n",
       "      <td>15.0</td>\n",
       "      <td>40.0</td>\n",
       "    </tr>\n",
       "    <tr>\n",
       "      <th>TrainingTimesLastYear</th>\n",
       "      <td>1029.0</td>\n",
       "      <td>2.782313</td>\n",
       "      <td>1.283401</td>\n",
       "      <td>0.0</td>\n",
       "      <td>2.0</td>\n",
       "      <td>3.0</td>\n",
       "      <td>3.0</td>\n",
       "      <td>6.0</td>\n",
       "    </tr>\n",
       "    <tr>\n",
       "      <th>WorkLifeBalance</th>\n",
       "      <td>1029.0</td>\n",
       "      <td>2.748299</td>\n",
       "      <td>0.697278</td>\n",
       "      <td>1.0</td>\n",
       "      <td>2.0</td>\n",
       "      <td>3.0</td>\n",
       "      <td>3.0</td>\n",
       "      <td>4.0</td>\n",
       "    </tr>\n",
       "    <tr>\n",
       "      <th>YearsAtCompany</th>\n",
       "      <td>1029.0</td>\n",
       "      <td>6.942663</td>\n",
       "      <td>6.068322</td>\n",
       "      <td>0.0</td>\n",
       "      <td>3.0</td>\n",
       "      <td>5.0</td>\n",
       "      <td>10.0</td>\n",
       "      <td>37.0</td>\n",
       "    </tr>\n",
       "    <tr>\n",
       "      <th>YearsInCurrentRole</th>\n",
       "      <td>1029.0</td>\n",
       "      <td>4.215743</td>\n",
       "      <td>3.658595</td>\n",
       "      <td>0.0</td>\n",
       "      <td>2.0</td>\n",
       "      <td>3.0</td>\n",
       "      <td>7.0</td>\n",
       "      <td>18.0</td>\n",
       "    </tr>\n",
       "    <tr>\n",
       "      <th>YearsSinceLastPromotion</th>\n",
       "      <td>1029.0</td>\n",
       "      <td>2.119534</td>\n",
       "      <td>3.108651</td>\n",
       "      <td>0.0</td>\n",
       "      <td>0.0</td>\n",
       "      <td>1.0</td>\n",
       "      <td>2.0</td>\n",
       "      <td>15.0</td>\n",
       "    </tr>\n",
       "    <tr>\n",
       "      <th>YearsWithCurrManager</th>\n",
       "      <td>1029.0</td>\n",
       "      <td>4.005831</td>\n",
       "      <td>3.522574</td>\n",
       "      <td>0.0</td>\n",
       "      <td>2.0</td>\n",
       "      <td>3.0</td>\n",
       "      <td>7.0</td>\n",
       "      <td>17.0</td>\n",
       "    </tr>\n",
       "  </tbody>\n",
       "</table>\n",
       "</div>"
      ],
      "text/plain": [
       "                           count          mean          std     min     25%  \\\n",
       "Age                        893.0     37.930571     9.395978    18.0    31.0   \n",
       "DistanceFromHome           934.0      9.930407     8.421791     1.0     2.0   \n",
       "Education                 1029.0      2.892128     1.053541     1.0     2.0   \n",
       "EnvironmentSatisfaction   1029.0      2.683188     1.096829     1.0     2.0   \n",
       "JobInvolvement            1029.0      2.713314     0.710146     1.0     2.0   \n",
       "JobLevel                  1029.0      2.043732     1.118918     1.0     1.0   \n",
       "JobSatisfaction           1029.0      2.712342     1.096889     1.0     2.0   \n",
       "MonthlyIncome             1029.0   6449.796890  4794.525367  1009.0  2814.0   \n",
       "MonthlyRate               1029.0  14250.629738  7088.757938  2094.0  7950.0   \n",
       "NumCompaniesWorked        1029.0      2.653061     2.508186     0.0     1.0   \n",
       "PercentSalaryHike         1029.0     15.260447     3.665779    11.0    12.0   \n",
       "PerformanceRating         1029.0      3.159378     0.366206     3.0     3.0   \n",
       "RelationshipSatisfaction  1029.0      2.689990     1.077767     1.0     2.0   \n",
       "StockOptionLevel          1029.0      0.822157     0.874662     0.0     0.0   \n",
       "TotalWorkingYears         1029.0     11.196307     7.857581     0.0     6.0   \n",
       "TrainingTimesLastYear     1029.0      2.782313     1.283401     0.0     2.0   \n",
       "WorkLifeBalance           1029.0      2.748299     0.697278     1.0     2.0   \n",
       "YearsAtCompany            1029.0      6.942663     6.068322     0.0     3.0   \n",
       "YearsInCurrentRole        1029.0      4.215743     3.658595     0.0     2.0   \n",
       "YearsSinceLastPromotion   1029.0      2.119534     3.108651     0.0     0.0   \n",
       "YearsWithCurrManager      1029.0      4.005831     3.522574     0.0     2.0   \n",
       "\n",
       "                              50%      75%      max  \n",
       "Age                          37.0     44.0     60.0  \n",
       "DistanceFromHome              8.0     16.0     29.0  \n",
       "Education                     3.0      4.0      5.0  \n",
       "EnvironmentSatisfaction       3.0      4.0      4.0  \n",
       "JobInvolvement                3.0      3.0      4.0  \n",
       "JobLevel                      2.0      3.0      5.0  \n",
       "JobSatisfaction               3.0      4.0      4.0  \n",
       "MonthlyIncome              4735.0   8446.0  19999.0  \n",
       "MonthlyRate               14295.0  20392.0  26999.0  \n",
       "NumCompaniesWorked            1.0      4.0      9.0  \n",
       "PercentSalaryHike            14.0     18.0     25.0  \n",
       "PerformanceRating             3.0      3.0      4.0  \n",
       "RelationshipSatisfaction      3.0      4.0      4.0  \n",
       "StockOptionLevel              1.0      1.0      3.0  \n",
       "TotalWorkingYears            10.0     15.0     40.0  \n",
       "TrainingTimesLastYear         3.0      3.0      6.0  \n",
       "WorkLifeBalance               3.0      3.0      4.0  \n",
       "YearsAtCompany                5.0     10.0     37.0  \n",
       "YearsInCurrentRole            3.0      7.0     18.0  \n",
       "YearsSinceLastPromotion       1.0      2.0     15.0  \n",
       "YearsWithCurrManager          3.0      7.0     17.0  "
      ]
     },
     "execution_count": 6,
     "metadata": {},
     "output_type": "execute_result"
    }
   ],
   "source": [
    "df.describe().T"
   ]
  },
  {
   "cell_type": "code",
   "execution_count": 7,
   "metadata": {
    "scrolled": false
   },
   "outputs": [
    {
     "data": {
      "text/html": [
       "<div>\n",
       "<style scoped>\n",
       "    .dataframe tbody tr th:only-of-type {\n",
       "        vertical-align: middle;\n",
       "    }\n",
       "\n",
       "    .dataframe tbody tr th {\n",
       "        vertical-align: top;\n",
       "    }\n",
       "\n",
       "    .dataframe thead th {\n",
       "        text-align: right;\n",
       "    }\n",
       "</style>\n",
       "<table border=\"1\" class=\"dataframe\">\n",
       "  <thead>\n",
       "    <tr style=\"text-align: right;\">\n",
       "      <th></th>\n",
       "      <th>Attrition</th>\n",
       "      <th>BusinessTravel</th>\n",
       "      <th>Department</th>\n",
       "      <th>EducationField</th>\n",
       "      <th>Gender</th>\n",
       "      <th>JobRole</th>\n",
       "      <th>MaritalStatus</th>\n",
       "      <th>OverTime</th>\n",
       "    </tr>\n",
       "  </thead>\n",
       "  <tbody>\n",
       "    <tr>\n",
       "      <th>count</th>\n",
       "      <td>1029</td>\n",
       "      <td>1024</td>\n",
       "      <td>1029</td>\n",
       "      <td>1029</td>\n",
       "      <td>1029</td>\n",
       "      <td>1029</td>\n",
       "      <td>1024</td>\n",
       "      <td>1029</td>\n",
       "    </tr>\n",
       "    <tr>\n",
       "      <th>unique</th>\n",
       "      <td>2</td>\n",
       "      <td>3</td>\n",
       "      <td>3</td>\n",
       "      <td>6</td>\n",
       "      <td>2</td>\n",
       "      <td>9</td>\n",
       "      <td>3</td>\n",
       "      <td>2</td>\n",
       "    </tr>\n",
       "    <tr>\n",
       "      <th>top</th>\n",
       "      <td>No</td>\n",
       "      <td>Travel_Rarely</td>\n",
       "      <td>Research &amp; Development</td>\n",
       "      <td>Life Sciences</td>\n",
       "      <td>Male</td>\n",
       "      <td>Sales Executive</td>\n",
       "      <td>Married</td>\n",
       "      <td>No</td>\n",
       "    </tr>\n",
       "    <tr>\n",
       "      <th>freq</th>\n",
       "      <td>853</td>\n",
       "      <td>723</td>\n",
       "      <td>676</td>\n",
       "      <td>426</td>\n",
       "      <td>617</td>\n",
       "      <td>217</td>\n",
       "      <td>474</td>\n",
       "      <td>731</td>\n",
       "    </tr>\n",
       "  </tbody>\n",
       "</table>\n",
       "</div>"
      ],
      "text/plain": [
       "       Attrition BusinessTravel              Department EducationField Gender  \\\n",
       "count       1029           1024                    1029           1029   1029   \n",
       "unique         2              3                       3              6      2   \n",
       "top           No  Travel_Rarely  Research & Development  Life Sciences   Male   \n",
       "freq         853            723                     676            426    617   \n",
       "\n",
       "                JobRole MaritalStatus OverTime  \n",
       "count              1029          1024     1029  \n",
       "unique                9             3        2  \n",
       "top     Sales Executive       Married       No  \n",
       "freq                217           474      731  "
      ]
     },
     "execution_count": 7,
     "metadata": {},
     "output_type": "execute_result"
    }
   ],
   "source": [
    "df.describe(include='O')"
   ]
  },
  {
   "cell_type": "markdown",
   "metadata": {},
   "source": [
    "# DATA PREPARATION"
   ]
  },
  {
   "cell_type": "code",
   "execution_count": 8,
   "metadata": {},
   "outputs": [
    {
     "data": {
      "text/html": [
       "<div>\n",
       "<style scoped>\n",
       "    .dataframe tbody tr th:only-of-type {\n",
       "        vertical-align: middle;\n",
       "    }\n",
       "\n",
       "    .dataframe tbody tr th {\n",
       "        vertical-align: top;\n",
       "    }\n",
       "\n",
       "    .dataframe thead th {\n",
       "        text-align: right;\n",
       "    }\n",
       "</style>\n",
       "<table border=\"1\" class=\"dataframe\">\n",
       "  <thead>\n",
       "    <tr style=\"text-align: right;\">\n",
       "      <th></th>\n",
       "      <th>Age</th>\n",
       "      <th>DistanceFromHome</th>\n",
       "      <th>MonthlyIncome</th>\n",
       "      <th>MonthlyRate</th>\n",
       "      <th>NumCompaniesWorked</th>\n",
       "      <th>PercentSalaryHike</th>\n",
       "      <th>TotalWorkingYears</th>\n",
       "      <th>TrainingTimesLastYear</th>\n",
       "      <th>YearsAtCompany</th>\n",
       "      <th>YearsInCurrentRole</th>\n",
       "      <th>YearsSinceLastPromotion</th>\n",
       "      <th>YearsWithCurrManager</th>\n",
       "    </tr>\n",
       "  </thead>\n",
       "  <tbody>\n",
       "    <tr>\n",
       "      <th>0</th>\n",
       "      <td>50.0</td>\n",
       "      <td>1.0</td>\n",
       "      <td>17399</td>\n",
       "      <td>6615</td>\n",
       "      <td>9</td>\n",
       "      <td>22</td>\n",
       "      <td>32</td>\n",
       "      <td>1</td>\n",
       "      <td>5</td>\n",
       "      <td>4</td>\n",
       "      <td>1</td>\n",
       "      <td>3</td>\n",
       "    </tr>\n",
       "    <tr>\n",
       "      <th>1</th>\n",
       "      <td>36.0</td>\n",
       "      <td>6.0</td>\n",
       "      <td>4941</td>\n",
       "      <td>2819</td>\n",
       "      <td>6</td>\n",
       "      <td>20</td>\n",
       "      <td>7</td>\n",
       "      <td>0</td>\n",
       "      <td>3</td>\n",
       "      <td>2</td>\n",
       "      <td>0</td>\n",
       "      <td>1</td>\n",
       "    </tr>\n",
       "    <tr>\n",
       "      <th>2</th>\n",
       "      <td>21.0</td>\n",
       "      <td>7.0</td>\n",
       "      <td>2679</td>\n",
       "      <td>4567</td>\n",
       "      <td>1</td>\n",
       "      <td>13</td>\n",
       "      <td>1</td>\n",
       "      <td>3</td>\n",
       "      <td>1</td>\n",
       "      <td>0</td>\n",
       "      <td>1</td>\n",
       "      <td>0</td>\n",
       "    </tr>\n",
       "  </tbody>\n",
       "</table>\n",
       "</div>"
      ],
      "text/plain": [
       "    Age  DistanceFromHome  MonthlyIncome  MonthlyRate  NumCompaniesWorked  \\\n",
       "0  50.0               1.0          17399         6615                   9   \n",
       "1  36.0               6.0           4941         2819                   6   \n",
       "2  21.0               7.0           2679         4567                   1   \n",
       "\n",
       "   PercentSalaryHike  TotalWorkingYears  TrainingTimesLastYear  \\\n",
       "0                 22                 32                      1   \n",
       "1                 20                  7                      0   \n",
       "2                 13                  1                      3   \n",
       "\n",
       "   YearsAtCompany  YearsInCurrentRole  YearsSinceLastPromotion  \\\n",
       "0               5                   4                        1   \n",
       "1               3                   2                        0   \n",
       "2               1                   0                        1   \n",
       "\n",
       "   YearsWithCurrManager  \n",
       "0                     3  \n",
       "1                     1  \n",
       "2                     0  "
      ]
     },
     "execution_count": 8,
     "metadata": {},
     "output_type": "execute_result"
    }
   ],
   "source": [
    "num_cols = ['Age', 'DistanceFromHome', 'MonthlyIncome', 'MonthlyRate', 'NumCompaniesWorked', \n",
    "            'PercentSalaryHike', 'TotalWorkingYears', 'TrainingTimesLastYear', 'YearsAtCompany', \n",
    "            'YearsInCurrentRole', 'YearsSinceLastPromotion', 'YearsWithCurrManager']\n",
    "df[num_cols].head(3)"
   ]
  },
  {
   "cell_type": "code",
   "execution_count": 9,
   "metadata": {
    "scrolled": true
   },
   "outputs": [
    {
     "data": {
      "text/html": [
       "<div>\n",
       "<style scoped>\n",
       "    .dataframe tbody tr th:only-of-type {\n",
       "        vertical-align: middle;\n",
       "    }\n",
       "\n",
       "    .dataframe tbody tr th {\n",
       "        vertical-align: top;\n",
       "    }\n",
       "\n",
       "    .dataframe thead th {\n",
       "        text-align: right;\n",
       "    }\n",
       "</style>\n",
       "<table border=\"1\" class=\"dataframe\">\n",
       "  <thead>\n",
       "    <tr style=\"text-align: right;\">\n",
       "      <th></th>\n",
       "      <th>BusinessTravel</th>\n",
       "      <th>Department</th>\n",
       "      <th>EducationField</th>\n",
       "      <th>Gender</th>\n",
       "      <th>JobRole</th>\n",
       "      <th>MaritalStatus</th>\n",
       "      <th>OverTime</th>\n",
       "    </tr>\n",
       "  </thead>\n",
       "  <tbody>\n",
       "    <tr>\n",
       "      <th>0</th>\n",
       "      <td>Travel_Rarely</td>\n",
       "      <td>Research &amp; Development</td>\n",
       "      <td>Medical</td>\n",
       "      <td>Male</td>\n",
       "      <td>Research Director</td>\n",
       "      <td>Divorced</td>\n",
       "      <td>No</td>\n",
       "    </tr>\n",
       "    <tr>\n",
       "      <th>1</th>\n",
       "      <td>Travel_Rarely</td>\n",
       "      <td>Research &amp; Development</td>\n",
       "      <td>Medical</td>\n",
       "      <td>Male</td>\n",
       "      <td>Manufacturing Director</td>\n",
       "      <td>Divorced</td>\n",
       "      <td>No</td>\n",
       "    </tr>\n",
       "    <tr>\n",
       "      <th>2</th>\n",
       "      <td>Travel_Rarely</td>\n",
       "      <td>Sales</td>\n",
       "      <td>Marketing</td>\n",
       "      <td>Male</td>\n",
       "      <td>Sales Representative</td>\n",
       "      <td>Single</td>\n",
       "      <td>No</td>\n",
       "    </tr>\n",
       "  </tbody>\n",
       "</table>\n",
       "</div>"
      ],
      "text/plain": [
       "  BusinessTravel              Department EducationField Gender  \\\n",
       "0  Travel_Rarely  Research & Development        Medical   Male   \n",
       "1  Travel_Rarely  Research & Development        Medical   Male   \n",
       "2  Travel_Rarely                   Sales      Marketing   Male   \n",
       "\n",
       "                  JobRole MaritalStatus OverTime  \n",
       "0       Research Director      Divorced       No  \n",
       "1  Manufacturing Director      Divorced       No  \n",
       "2    Sales Representative        Single       No  "
      ]
     },
     "execution_count": 9,
     "metadata": {},
     "output_type": "execute_result"
    }
   ],
   "source": [
    "cat_cols = df.select_dtypes(include=[object]).drop('Attrition', axis=1).columns\n",
    "df[cat_cols].head(3)"
   ]
  },
  {
   "cell_type": "code",
   "execution_count": 10,
   "metadata": {
    "scrolled": true
   },
   "outputs": [
    {
     "data": {
      "text/html": [
       "<div>\n",
       "<style scoped>\n",
       "    .dataframe tbody tr th:only-of-type {\n",
       "        vertical-align: middle;\n",
       "    }\n",
       "\n",
       "    .dataframe tbody tr th {\n",
       "        vertical-align: top;\n",
       "    }\n",
       "\n",
       "    .dataframe thead th {\n",
       "        text-align: right;\n",
       "    }\n",
       "</style>\n",
       "<table border=\"1\" class=\"dataframe\">\n",
       "  <thead>\n",
       "    <tr style=\"text-align: right;\">\n",
       "      <th></th>\n",
       "      <th>Education</th>\n",
       "      <th>EnvironmentSatisfaction</th>\n",
       "      <th>JobInvolvement</th>\n",
       "      <th>JobLevel</th>\n",
       "      <th>JobSatisfaction</th>\n",
       "      <th>PerformanceRating</th>\n",
       "      <th>RelationshipSatisfaction</th>\n",
       "      <th>StockOptionLevel</th>\n",
       "      <th>WorkLifeBalance</th>\n",
       "    </tr>\n",
       "  </thead>\n",
       "  <tbody>\n",
       "    <tr>\n",
       "      <th>0</th>\n",
       "      <td>2</td>\n",
       "      <td>4</td>\n",
       "      <td>3</td>\n",
       "      <td>4</td>\n",
       "      <td>4</td>\n",
       "      <td>4</td>\n",
       "      <td>3</td>\n",
       "      <td>1</td>\n",
       "      <td>2</td>\n",
       "    </tr>\n",
       "    <tr>\n",
       "      <th>1</th>\n",
       "      <td>2</td>\n",
       "      <td>2</td>\n",
       "      <td>3</td>\n",
       "      <td>2</td>\n",
       "      <td>2</td>\n",
       "      <td>4</td>\n",
       "      <td>4</td>\n",
       "      <td>2</td>\n",
       "      <td>3</td>\n",
       "    </tr>\n",
       "    <tr>\n",
       "      <th>2</th>\n",
       "      <td>1</td>\n",
       "      <td>2</td>\n",
       "      <td>3</td>\n",
       "      <td>1</td>\n",
       "      <td>2</td>\n",
       "      <td>3</td>\n",
       "      <td>2</td>\n",
       "      <td>0</td>\n",
       "      <td>3</td>\n",
       "    </tr>\n",
       "  </tbody>\n",
       "</table>\n",
       "</div>"
      ],
      "text/plain": [
       "   Education  EnvironmentSatisfaction  JobInvolvement  JobLevel  \\\n",
       "0          2                        4               3         4   \n",
       "1          2                        2               3         2   \n",
       "2          1                        2               3         1   \n",
       "\n",
       "   JobSatisfaction  PerformanceRating  RelationshipSatisfaction  \\\n",
       "0                4                  4                         3   \n",
       "1                2                  4                         4   \n",
       "2                2                  3                         2   \n",
       "\n",
       "   StockOptionLevel  WorkLifeBalance  \n",
       "0                 1                2  \n",
       "1                 2                3  \n",
       "2                 0                3  "
      ]
     },
     "execution_count": 10,
     "metadata": {},
     "output_type": "execute_result"
    }
   ],
   "source": [
    "ord_cols = df.select_dtypes(exclude=[object]).drop(num_cols , axis=1).columns\n",
    "df[ord_cols].head(3)"
   ]
  },
  {
   "cell_type": "code",
   "execution_count": 11,
   "metadata": {},
   "outputs": [
    {
     "data": {
      "text/html": [
       "<div>\n",
       "<style scoped>\n",
       "    .dataframe tbody tr th:only-of-type {\n",
       "        vertical-align: middle;\n",
       "    }\n",
       "\n",
       "    .dataframe tbody tr th {\n",
       "        vertical-align: top;\n",
       "    }\n",
       "\n",
       "    .dataframe thead th {\n",
       "        text-align: right;\n",
       "    }\n",
       "</style>\n",
       "<table border=\"1\" class=\"dataframe\">\n",
       "  <thead>\n",
       "    <tr style=\"text-align: right;\">\n",
       "      <th></th>\n",
       "      <th>Attrition</th>\n",
       "    </tr>\n",
       "  </thead>\n",
       "  <tbody>\n",
       "    <tr>\n",
       "      <th>0</th>\n",
       "      <td>0</td>\n",
       "    </tr>\n",
       "    <tr>\n",
       "      <th>1</th>\n",
       "      <td>0</td>\n",
       "    </tr>\n",
       "    <tr>\n",
       "      <th>2</th>\n",
       "      <td>1</td>\n",
       "    </tr>\n",
       "  </tbody>\n",
       "</table>\n",
       "</div>"
      ],
      "text/plain": [
       "   Attrition\n",
       "0          0\n",
       "1          0\n",
       "2          1"
      ]
     },
     "execution_count": 11,
     "metadata": {},
     "output_type": "execute_result"
    }
   ],
   "source": [
    "df['Attrition'] = df['Attrition'].replace({'No' : 0, 'Yes' : 1})\n",
    "df[['Attrition']].head(3)"
   ]
  },
  {
   "cell_type": "markdown",
   "metadata": {},
   "source": [
    "__Note :__ Data terbagi menjadi 3 jenis, yaitu kolom numerik, kolom kategori, dan klolom ordinal. Pembagian kelompok data tersebut dilakukan karena setiap kategori memiliki tahapan pre-processing yang berbeda."
   ]
  },
  {
   "cell_type": "markdown",
   "metadata": {},
   "source": [
    "# MODELING"
   ]
  },
  {
   "cell_type": "markdown",
   "metadata": {},
   "source": [
    "Pada tahap modeling, dicoba dengan menggunakan 3 algoritma machine learning yang berbeda, yaitu K-Nearest Neighbor, Random Forest Classifier, dan Gradient Boosting classifier. Skema yang dilakuan untuk mencari machine learning terbaik ialah sebagai berikut.\n",
    "- Tahap 1 : Membandingkan antara model dengan resampling dengan tanpa resampling di setiap algoritma machine learning.\n",
    "- Tahap 2 : Membandingkan antara benchmark model dengan hyperparameter tuned model di setiap algortma machine learning.\n",
    "- Tahap 3 : Membandingkan hasil keluaran terbaik dari ke-3 algoritma machine learning.\n",
    "\n",
    "Proses modeling dilakukan secara end-to-end menggunakan Pipeline. Di dalam pipeline ini terdapat beberapa tahapan pr-procesing seperti handling missing value, standarisasi (untuk KNN), encoding pada categorical features, feature selection menggunakan RFE (untuk RFC & GBC), dan resampling menggunakan SMOTE (untuk RFC & GBC). Setelah tahap pre-processing, maka model dilatih dengan melakukan prediksi data."
   ]
  },
  {
   "cell_type": "markdown",
   "metadata": {},
   "source": [
    "# Data Splitting"
   ]
  },
  {
   "cell_type": "code",
   "execution_count": 12,
   "metadata": {},
   "outputs": [],
   "source": [
    "X = df.drop(['Attrition'], axis=1)\n",
    "y = df['Attrition']"
   ]
  },
  {
   "cell_type": "code",
   "execution_count": 13,
   "metadata": {},
   "outputs": [],
   "source": [
    "X_train_val, X_test, y_train_val, y_test = train_test_split(X, y, test_size=.25, stratify=y, random_state=77)"
   ]
  },
  {
   "cell_type": "markdown",
   "metadata": {},
   "source": [
    "# Benchmark Model Parameters"
   ]
  },
  {
   "cell_type": "code",
   "execution_count": 14,
   "metadata": {},
   "outputs": [],
   "source": [
    "knn = KNeighborsClassifier(n_neighbors=5)\n",
    "rfc = RandomForestClassifier(max_depth=10, random_state=77)\n",
    "gbc = GradientBoostingClassifier(max_depth=10, random_state=77)"
   ]
  },
  {
   "cell_type": "markdown",
   "metadata": {},
   "source": [
    "# K-Nearest Neighbor Model Performances"
   ]
  },
  {
   "cell_type": "markdown",
   "metadata": {},
   "source": [
    "> # K-Nearest Neighbor Pipeline"
   ]
  },
  {
   "cell_type": "code",
   "execution_count": 15,
   "metadata": {},
   "outputs": [],
   "source": [
    "# For numeric columns \n",
    "knn_pipe_num = Pipeline([\n",
    "    ('imputer', SimpleImputer(strategy='median')), # For Age & DistanceFromHome\n",
    "    ('scaler', RobustScaler())\n",
    "])\n",
    "\n",
    "# For category nominal columns\n",
    "knn_pipe_cat = Pipeline([\n",
    "    ('imputer', SimpleImputer(strategy='most_frequent')), # For BusinessTravel & Maritalstatus\n",
    "    ('onehot', OneHotEncoder(drop='first')),\n",
    "])\n",
    "\n",
    "# Transforming all columns\n",
    "knn_transformer = ColumnTransformer([\n",
    "    ('pipe_num', knn_pipe_num, num_cols),\n",
    "    ('onehot', knn_pipe_cat, cat_cols), \n",
    "], remainder='passthrough')\n",
    "\n",
    "# Combine all pipelines\n",
    "knn_pipe_all = Pipeline([\n",
    "    ('transformer', knn_transformer),\n",
    "    ('knn', knn)\n",
    "])\n",
    "\n",
    "# If need resampling\n",
    "knn_pipe_all_smo = Pipeline([\n",
    "    ('transformer', knn_transformer),\n",
    "    ('resampling', SMOTE(random_state=77)),\n",
    "    ('knn', knn)\n",
    "])"
   ]
  },
  {
   "cell_type": "markdown",
   "metadata": {},
   "source": [
    "> ## K-Nearest Neighbor Benchmark Model Performane"
   ]
  },
  {
   "cell_type": "code",
   "execution_count": 16,
   "metadata": {},
   "outputs": [],
   "source": [
    "skfold = StratifiedKFold(n_splits = 5, random_state=77, shuffle=True)\n",
    "knn_score = cross_val_score(knn_pipe_all, X_train_val, y_train_val, scoring='recall', cv=skfold, n_jobs=-1)\n",
    "knn_smo_score = cross_val_score(knn_pipe_all_smo, X_train_val, y_train_val, scoring='recall', cv=skfold, n_jobs=-1)"
   ]
  },
  {
   "cell_type": "code",
   "execution_count": 17,
   "metadata": {},
   "outputs": [
    {
     "name": "stdout",
     "output_type": "stream",
     "text": [
      "CV K-Nearest Neighbor : [0.11111111 0.03703704 0.03846154 0.15384615 0.23076923]\n",
      "CV K-Nearest Neighbor Resampling : [0.7037037  0.66666667 0.65384615 0.53846154 0.69230769]\n"
     ]
    }
   ],
   "source": [
    "print('CV K-Nearest Neighbor :', knn_score)\n",
    "print('CV K-Nearest Neighbor Resampling :', knn_smo_score)"
   ]
  },
  {
   "cell_type": "code",
   "execution_count": 18,
   "metadata": {},
   "outputs": [
    {
     "name": "stdout",
     "output_type": "stream",
     "text": [
      "CV K-Nearest Neighbor : 0.11424501424501425\n",
      "CV K-Nearest Neighbor Resampling : 0.6509971509971508\n"
     ]
    }
   ],
   "source": [
    "print('CV K-Nearest Neighbor :', knn_score.mean())\n",
    "print('CV K-Nearest Neighbor Resampling :', knn_smo_score.mean())"
   ]
  },
  {
   "cell_type": "code",
   "execution_count": 19,
   "metadata": {},
   "outputs": [],
   "source": [
    "knn_default = knn_pipe_all.fit(X_train_val, y_train_val)\n",
    "y_pred_knn_default = knn_default.predict(X_test) "
   ]
  },
  {
   "cell_type": "code",
   "execution_count": 20,
   "metadata": {
    "scrolled": true
   },
   "outputs": [
    {
     "name": "stdout",
     "output_type": "stream",
     "text": [
      "Report for K-Nearest Neighbor Benchmark : \n",
      "\n",
      "              precision    recall  f1-score   support\n",
      "\n",
      "           0       0.84      0.96      0.89       214\n",
      "           1       0.31      0.09      0.14        44\n",
      "\n",
      "    accuracy                           0.81       258\n",
      "   macro avg       0.57      0.52      0.52       258\n",
      "weighted avg       0.75      0.81      0.76       258\n",
      "\n"
     ]
    }
   ],
   "source": [
    "print('Report for K-Nearest Neighbor Benchmark : \\n')\n",
    "print(classification_report(y_test, y_pred_knn_default))"
   ]
  },
  {
   "cell_type": "code",
   "execution_count": 21,
   "metadata": {},
   "outputs": [],
   "source": [
    "knn_default_smo = knn_pipe_all_smo.fit(X_train_val, y_train_val)\n",
    "y_pred_knn_default_smo = knn_default_smo.predict(X_test) "
   ]
  },
  {
   "cell_type": "code",
   "execution_count": 22,
   "metadata": {
    "scrolled": true
   },
   "outputs": [
    {
     "name": "stdout",
     "output_type": "stream",
     "text": [
      "Report for K-Nearest Neighbor Benchmark Resampling : \n",
      "\n",
      "              precision    recall  f1-score   support\n",
      "\n",
      "           0       0.92      0.57      0.70       214\n",
      "           1       0.27      0.77      0.40        44\n",
      "\n",
      "    accuracy                           0.60       258\n",
      "   macro avg       0.60      0.67      0.55       258\n",
      "weighted avg       0.81      0.60      0.65       258\n",
      "\n"
     ]
    }
   ],
   "source": [
    "print('Report for K-Nearest Neighbor Benchmark Resampling : \\n')\n",
    "print(classification_report(y_test, y_pred_knn_default_smo))"
   ]
  },
  {
   "cell_type": "markdown",
   "metadata": {},
   "source": [
    "__Note :__ Berdasarkan classification report model yang dipilih adalah K-Nearest Neighbor dengan Resampling."
   ]
  },
  {
   "cell_type": "markdown",
   "metadata": {},
   "source": [
    "> # K-Nearest Neighbor Hyperparameter Tuned Model Performane"
   ]
  },
  {
   "cell_type": "code",
   "execution_count": 23,
   "metadata": {
    "scrolled": false
   },
   "outputs": [
    {
     "data": {
      "text/plain": [
       "{'memory': None,\n",
       " 'steps': [('transformer',\n",
       "   ColumnTransformer(remainder='passthrough',\n",
       "                     transformers=[('pipe_num',\n",
       "                                    Pipeline(steps=[('imputer',\n",
       "                                                     SimpleImputer(strategy='median')),\n",
       "                                                    ('scaler', RobustScaler())]),\n",
       "                                    ['Age', 'DistanceFromHome', 'MonthlyIncome',\n",
       "                                     'MonthlyRate', 'NumCompaniesWorked',\n",
       "                                     'PercentSalaryHike', 'TotalWorkingYears',\n",
       "                                     'TrainingTimesLastYear', 'YearsAtCompany',\n",
       "                                     'YearsInCurrentRole',\n",
       "                                     'YearsSinceLastPromotion',\n",
       "                                     'YearsWithCurrManager']),\n",
       "                                   ('onehot',\n",
       "                                    Pipeline(steps=[('imputer',\n",
       "                                                     SimpleImputer(strategy='most_frequent')),\n",
       "                                                    ('onehot',\n",
       "                                                     OneHotEncoder(drop='first'))]),\n",
       "                                    Index(['BusinessTravel', 'Department', 'EducationField', 'Gender', 'JobRole',\n",
       "          'MaritalStatus', 'OverTime'],\n",
       "         dtype='object'))])),\n",
       "  ('resampling', SMOTE(random_state=77)),\n",
       "  ('knn', KNeighborsClassifier())],\n",
       " 'verbose': False,\n",
       " 'transformer': ColumnTransformer(remainder='passthrough',\n",
       "                   transformers=[('pipe_num',\n",
       "                                  Pipeline(steps=[('imputer',\n",
       "                                                   SimpleImputer(strategy='median')),\n",
       "                                                  ('scaler', RobustScaler())]),\n",
       "                                  ['Age', 'DistanceFromHome', 'MonthlyIncome',\n",
       "                                   'MonthlyRate', 'NumCompaniesWorked',\n",
       "                                   'PercentSalaryHike', 'TotalWorkingYears',\n",
       "                                   'TrainingTimesLastYear', 'YearsAtCompany',\n",
       "                                   'YearsInCurrentRole',\n",
       "                                   'YearsSinceLastPromotion',\n",
       "                                   'YearsWithCurrManager']),\n",
       "                                 ('onehot',\n",
       "                                  Pipeline(steps=[('imputer',\n",
       "                                                   SimpleImputer(strategy='most_frequent')),\n",
       "                                                  ('onehot',\n",
       "                                                   OneHotEncoder(drop='first'))]),\n",
       "                                  Index(['BusinessTravel', 'Department', 'EducationField', 'Gender', 'JobRole',\n",
       "        'MaritalStatus', 'OverTime'],\n",
       "       dtype='object'))]),\n",
       " 'resampling': SMOTE(random_state=77),\n",
       " 'knn': KNeighborsClassifier(),\n",
       " 'transformer__n_jobs': None,\n",
       " 'transformer__remainder': 'passthrough',\n",
       " 'transformer__sparse_threshold': 0.3,\n",
       " 'transformer__transformer_weights': None,\n",
       " 'transformer__transformers': [('pipe_num',\n",
       "   Pipeline(steps=[('imputer', SimpleImputer(strategy='median')),\n",
       "                   ('scaler', RobustScaler())]),\n",
       "   ['Age',\n",
       "    'DistanceFromHome',\n",
       "    'MonthlyIncome',\n",
       "    'MonthlyRate',\n",
       "    'NumCompaniesWorked',\n",
       "    'PercentSalaryHike',\n",
       "    'TotalWorkingYears',\n",
       "    'TrainingTimesLastYear',\n",
       "    'YearsAtCompany',\n",
       "    'YearsInCurrentRole',\n",
       "    'YearsSinceLastPromotion',\n",
       "    'YearsWithCurrManager']),\n",
       "  ('onehot',\n",
       "   Pipeline(steps=[('imputer', SimpleImputer(strategy='most_frequent')),\n",
       "                   ('onehot', OneHotEncoder(drop='first'))]),\n",
       "   Index(['BusinessTravel', 'Department', 'EducationField', 'Gender', 'JobRole',\n",
       "          'MaritalStatus', 'OverTime'],\n",
       "         dtype='object'))],\n",
       " 'transformer__verbose': False,\n",
       " 'transformer__pipe_num': Pipeline(steps=[('imputer', SimpleImputer(strategy='median')),\n",
       "                 ('scaler', RobustScaler())]),\n",
       " 'transformer__onehot': Pipeline(steps=[('imputer', SimpleImputer(strategy='most_frequent')),\n",
       "                 ('onehot', OneHotEncoder(drop='first'))]),\n",
       " 'transformer__pipe_num__memory': None,\n",
       " 'transformer__pipe_num__steps': [('imputer',\n",
       "   SimpleImputer(strategy='median')),\n",
       "  ('scaler', RobustScaler())],\n",
       " 'transformer__pipe_num__verbose': False,\n",
       " 'transformer__pipe_num__imputer': SimpleImputer(strategy='median'),\n",
       " 'transformer__pipe_num__scaler': RobustScaler(),\n",
       " 'transformer__pipe_num__imputer__add_indicator': False,\n",
       " 'transformer__pipe_num__imputer__copy': True,\n",
       " 'transformer__pipe_num__imputer__fill_value': None,\n",
       " 'transformer__pipe_num__imputer__missing_values': nan,\n",
       " 'transformer__pipe_num__imputer__strategy': 'median',\n",
       " 'transformer__pipe_num__imputer__verbose': 0,\n",
       " 'transformer__pipe_num__scaler__copy': True,\n",
       " 'transformer__pipe_num__scaler__quantile_range': (25.0, 75.0),\n",
       " 'transformer__pipe_num__scaler__with_centering': True,\n",
       " 'transformer__pipe_num__scaler__with_scaling': True,\n",
       " 'transformer__onehot__memory': None,\n",
       " 'transformer__onehot__steps': [('imputer',\n",
       "   SimpleImputer(strategy='most_frequent')),\n",
       "  ('onehot', OneHotEncoder(drop='first'))],\n",
       " 'transformer__onehot__verbose': False,\n",
       " 'transformer__onehot__imputer': SimpleImputer(strategy='most_frequent'),\n",
       " 'transformer__onehot__onehot': OneHotEncoder(drop='first'),\n",
       " 'transformer__onehot__imputer__add_indicator': False,\n",
       " 'transformer__onehot__imputer__copy': True,\n",
       " 'transformer__onehot__imputer__fill_value': None,\n",
       " 'transformer__onehot__imputer__missing_values': nan,\n",
       " 'transformer__onehot__imputer__strategy': 'most_frequent',\n",
       " 'transformer__onehot__imputer__verbose': 0,\n",
       " 'transformer__onehot__onehot__categories': 'auto',\n",
       " 'transformer__onehot__onehot__drop': 'first',\n",
       " 'transformer__onehot__onehot__dtype': numpy.float64,\n",
       " 'transformer__onehot__onehot__handle_unknown': 'error',\n",
       " 'transformer__onehot__onehot__sparse': True,\n",
       " 'resampling__k_neighbors': 5,\n",
       " 'resampling__n_jobs': None,\n",
       " 'resampling__random_state': 77,\n",
       " 'resampling__sampling_strategy': 'auto',\n",
       " 'knn__algorithm': 'auto',\n",
       " 'knn__leaf_size': 30,\n",
       " 'knn__metric': 'minkowski',\n",
       " 'knn__metric_params': None,\n",
       " 'knn__n_jobs': None,\n",
       " 'knn__n_neighbors': 5,\n",
       " 'knn__p': 2,\n",
       " 'knn__weights': 'uniform'}"
      ]
     },
     "execution_count": 23,
     "metadata": {},
     "output_type": "execute_result"
    }
   ],
   "source": [
    "knn_pipe_all_smo.get_params()"
   ]
  },
  {
   "cell_type": "code",
   "execution_count": 24,
   "metadata": {
    "scrolled": false
   },
   "outputs": [
    {
     "name": "stdout",
     "output_type": "stream",
     "text": [
      "Fitting 5 folds for each of 600 candidates, totalling 3000 fits\n"
     ]
    },
    {
     "name": "stderr",
     "output_type": "stream",
     "text": [
      "[Parallel(n_jobs=-1)]: Using backend LokyBackend with 4 concurrent workers.\n",
      "[Parallel(n_jobs=-1)]: Done  76 tasks      | elapsed:    3.4s\n",
      "[Parallel(n_jobs=-1)]: Done 376 tasks      | elapsed:   15.9s\n",
      "[Parallel(n_jobs=-1)]: Done 876 tasks      | elapsed:   33.1s\n",
      "[Parallel(n_jobs=-1)]: Done 1576 tasks      | elapsed:   53.8s\n",
      "[Parallel(n_jobs=-1)]: Done 2476 tasks      | elapsed:  1.3min\n",
      "[Parallel(n_jobs=-1)]: Done 3000 out of 3000 | elapsed:  1.6min finished\n"
     ]
    },
    {
     "data": {
      "text/plain": [
       "GridSearchCV(cv=StratifiedKFold(n_splits=5, random_state=77, shuffle=True),\n",
       "             estimator=Pipeline(steps=[('transformer',\n",
       "                                        ColumnTransformer(remainder='passthrough',\n",
       "                                                          transformers=[('pipe_num',\n",
       "                                                                         Pipeline(steps=[('imputer',\n",
       "                                                                                          SimpleImputer(strategy='median')),\n",
       "                                                                                         ('scaler',\n",
       "                                                                                          RobustScaler())]),\n",
       "                                                                         ['Age',\n",
       "                                                                          'DistanceFromHome',\n",
       "                                                                          'MonthlyIncome',\n",
       "                                                                          'MonthlyRate',\n",
       "                                                                          'NumCompaniesWorked',\n",
       "                                                                          'P...\n",
       "       'MaritalStatus', 'OverTime'],\n",
       "      dtype='object'))])),\n",
       "                                       ('resampling', SMOTE(random_state=77)),\n",
       "                                       ('knn', KNeighborsClassifier())]),\n",
       "             n_jobs=-1,\n",
       "             param_grid={'knn__leaf_size': array([ 10,  20,  30,  40,  50,  60,  70,  80,  90, 100]),\n",
       "                         'knn__metric': ['euclidean', 'minkowski', 'manhattan'],\n",
       "                         'knn__n_neighbors': array([ 3,  5,  7,  9, 11, 13, 15, 17, 19, 21]),\n",
       "                         'knn__weights': ['uniform', 'distance']},\n",
       "             scoring='recall', verbose=1)"
      ]
     },
     "execution_count": 24,
     "metadata": {},
     "output_type": "execute_result"
    }
   ],
   "source": [
    "knn_params = {\n",
    "        'knn__n_neighbors': np.arange(3,22,2),\n",
    "        'knn__weights' : ['uniform', 'distance'],\n",
    "        'knn__metric' : ['euclidean', 'minkowski', 'manhattan'],\n",
    "        'knn__leaf_size': np.arange(10,110,10)\n",
    "}\n",
    "\n",
    "skfold = StratifiedKFold(n_splits = 5, random_state=77, shuffle=True)\n",
    "\n",
    "grid_knn = GridSearchCV(\n",
    "    knn_pipe_all_smo, # model yang mau di tune\n",
    "    param_grid = knn_params, # hyperparameter option\n",
    "    cv = skfold, # evaluation method\n",
    "    scoring = 'recall', # metrics\n",
    "    n_jobs = -1,\n",
    "    verbose = 1\n",
    ")\n",
    "\n",
    "grid_knn.fit(X_train_val, y_train_val)"
   ]
  },
  {
   "cell_type": "code",
   "execution_count": 25,
   "metadata": {
    "scrolled": true
   },
   "outputs": [
    {
     "data": {
      "text/plain": [
       "{'knn__leaf_size': 10,\n",
       " 'knn__metric': 'euclidean',\n",
       " 'knn__n_neighbors': 17,\n",
       " 'knn__weights': 'distance'}"
      ]
     },
     "execution_count": 25,
     "metadata": {},
     "output_type": "execute_result"
    }
   ],
   "source": [
    "grid_knn.best_params_"
   ]
  },
  {
   "cell_type": "code",
   "execution_count": 26,
   "metadata": {},
   "outputs": [],
   "source": [
    "knn_tuned = grid_knn.best_estimator_.fit(X_train_val, y_train_val)\n",
    "y_pred_knn_tuned = knn_tuned.predict(X_test)"
   ]
  },
  {
   "cell_type": "code",
   "execution_count": 27,
   "metadata": {
    "scrolled": false
   },
   "outputs": [
    {
     "name": "stdout",
     "output_type": "stream",
     "text": [
      "Report for K-Nearest Neighbor Tuned : \n",
      "\n",
      "              precision    recall  f1-score   support\n",
      "\n",
      "           0       0.94      0.47      0.62       214\n",
      "           1       0.25      0.86      0.39        44\n",
      "\n",
      "    accuracy                           0.53       258\n",
      "   macro avg       0.60      0.67      0.51       258\n",
      "weighted avg       0.83      0.53      0.58       258\n",
      "\n"
     ]
    }
   ],
   "source": [
    "print('Report for K-Nearest Neighbor Tuned : \\n')\n",
    "print(classification_report(y_test, y_pred_knn_tuned))"
   ]
  },
  {
   "cell_type": "markdown",
   "metadata": {},
   "source": [
    "__Note :__ Setelah melakukan hyperparameter tuning, terjadi peningkatan nilai Recall dibandingkan Benchmark Model."
   ]
  },
  {
   "cell_type": "code",
   "execution_count": 28,
   "metadata": {},
   "outputs": [
    {
     "data": {
      "text/plain": [
       "<sklearn.metrics._plot.roc_curve.RocCurveDisplay at 0x25f7c1d43d0>"
      ]
     },
     "execution_count": 28,
     "metadata": {},
     "output_type": "execute_result"
    },
    {
     "data": {
      "image/png": "[encoded data removed]",
      "text/plain": [
       "<Figure size 576x396 with 1 Axes>"
      ]
     },
     "metadata": {},
     "output_type": "display_data"
    }
   ],
   "source": [
    "plot_roc_curve(knn_tuned, X_test, y_test)"
   ]
  },
  {
   "cell_type": "code",
   "execution_count": 29,
   "metadata": {
    "scrolled": false
   },
   "outputs": [
    {
     "data": {
      "text/plain": [
       "<sklearn.metrics._plot.precision_recall_curve.PrecisionRecallDisplay at 0x25f7bfefbe0>"
      ]
     },
     "execution_count": 29,
     "metadata": {},
     "output_type": "execute_result"
    },
    {
     "data": {
      "image/png": "[encoded data removed]",
      "text/plain": [
       "<Figure size 576x396 with 1 Axes>"
      ]
     },
     "metadata": {},
     "output_type": "display_data"
    }
   ],
   "source": [
    "plot_precision_recall_curve(knn_tuned, X_test, y_test)"
   ]
  },
  {
   "cell_type": "code",
   "execution_count": 30,
   "metadata": {},
   "outputs": [
    {
     "data": {
      "text/plain": [
       "<sklearn.metrics._plot.confusion_matrix.ConfusionMatrixDisplay at 0x25f7c23c100>"
      ]
     },
     "execution_count": 30,
     "metadata": {},
     "output_type": "execute_result"
    },
    {
     "data": {
      "image/png": "[encoded data removed]",
      "text/plain": [
       "<Figure size 576x396 with 2 Axes>"
      ]
     },
     "metadata": {},
     "output_type": "display_data"
    }
   ],
   "source": [
    "plot_confusion_matrix(knn_tuned, X_test, y_test, cmap='YlGnBu')"
   ]
  },
  {
   "cell_type": "code",
   "execution_count": 31,
   "metadata": {},
   "outputs": [],
   "source": [
    "def make_confusion_matrix(conf_matrix):\n",
    "    tn, fp, fn, tp = conf_matrix.ravel()\n",
    "    conf_df = pd.DataFrame(\n",
    "        {'prediction_0': [tn, fn, tn+fn], 'prediction_1': [fp, tp, fp+tp]}, index = ['actual_0', 'actual_1', 'total_prediction']\n",
    "    )\n",
    "    conf_df['total_actual'] = conf_df['prediction_0'] + conf_df['prediction_1']\n",
    "    return conf_df"
   ]
  },
  {
   "cell_type": "code",
   "execution_count": 32,
   "metadata": {
    "scrolled": true
   },
   "outputs": [
    {
     "data": {
      "text/html": [
       "<div>\n",
       "<style scoped>\n",
       "    .dataframe tbody tr th:only-of-type {\n",
       "        vertical-align: middle;\n",
       "    }\n",
       "\n",
       "    .dataframe tbody tr th {\n",
       "        vertical-align: top;\n",
       "    }\n",
       "\n",
       "    .dataframe thead th {\n",
       "        text-align: right;\n",
       "    }\n",
       "</style>\n",
       "<table border=\"1\" class=\"dataframe\">\n",
       "  <thead>\n",
       "    <tr style=\"text-align: right;\">\n",
       "      <th></th>\n",
       "      <th>prediction_0</th>\n",
       "      <th>prediction_1</th>\n",
       "      <th>total_actual</th>\n",
       "    </tr>\n",
       "  </thead>\n",
       "  <tbody>\n",
       "    <tr>\n",
       "      <th>actual_0</th>\n",
       "      <td>100</td>\n",
       "      <td>114</td>\n",
       "      <td>214</td>\n",
       "    </tr>\n",
       "    <tr>\n",
       "      <th>actual_1</th>\n",
       "      <td>6</td>\n",
       "      <td>38</td>\n",
       "      <td>44</td>\n",
       "    </tr>\n",
       "    <tr>\n",
       "      <th>total_prediction</th>\n",
       "      <td>106</td>\n",
       "      <td>152</td>\n",
       "      <td>258</td>\n",
       "    </tr>\n",
       "  </tbody>\n",
       "</table>\n",
       "</div>"
      ],
      "text/plain": [
       "                  prediction_0  prediction_1  total_actual\n",
       "actual_0                   100           114           214\n",
       "actual_1                     6            38            44\n",
       "total_prediction           106           152           258"
      ]
     },
     "execution_count": 32,
     "metadata": {},
     "output_type": "execute_result"
    }
   ],
   "source": [
    "make_confusion_matrix(confusion_matrix(y_test, y_pred_knn_tuned))"
   ]
  },
  {
   "cell_type": "markdown",
   "metadata": {},
   "source": [
    "> # K-Nearest Neighbor Model Improvement\n",
    "Model improvement merupakan upaya untuk meningkatkan nilai Recall dengan cara menggeser threshold. Model improvement dilakukan pada K-Nearest Neighbor Hyperparameter Tuned Model."
   ]
  },
  {
   "cell_type": "code",
   "execution_count": 33,
   "metadata": {
    "scrolled": false
   },
   "outputs": [
    {
     "data": {
      "text/html": [
       "<div>\n",
       "<style scoped>\n",
       "    .dataframe tbody tr th:only-of-type {\n",
       "        vertical-align: middle;\n",
       "    }\n",
       "\n",
       "    .dataframe tbody tr th {\n",
       "        vertical-align: top;\n",
       "    }\n",
       "\n",
       "    .dataframe thead th {\n",
       "        text-align: right;\n",
       "    }\n",
       "</style>\n",
       "<table border=\"1\" class=\"dataframe\">\n",
       "  <thead>\n",
       "    <tr style=\"text-align: right;\">\n",
       "      <th></th>\n",
       "      <th>Precision</th>\n",
       "      <th>Recall</th>\n",
       "      <th>Thresholds</th>\n",
       "    </tr>\n",
       "  </thead>\n",
       "  <tbody>\n",
       "    <tr>\n",
       "      <th>0</th>\n",
       "      <td>0.192982</td>\n",
       "      <td>1.000000</td>\n",
       "      <td>0.283758</td>\n",
       "    </tr>\n",
       "    <tr>\n",
       "      <th>1</th>\n",
       "      <td>0.189427</td>\n",
       "      <td>0.977273</td>\n",
       "      <td>0.284352</td>\n",
       "    </tr>\n",
       "    <tr>\n",
       "      <th>2</th>\n",
       "      <td>0.190265</td>\n",
       "      <td>0.977273</td>\n",
       "      <td>0.285956</td>\n",
       "    </tr>\n",
       "    <tr>\n",
       "      <th>3</th>\n",
       "      <td>0.191111</td>\n",
       "      <td>0.977273</td>\n",
       "      <td>0.287171</td>\n",
       "    </tr>\n",
       "    <tr>\n",
       "      <th>4</th>\n",
       "      <td>0.191964</td>\n",
       "      <td>0.977273</td>\n",
       "      <td>0.288143</td>\n",
       "    </tr>\n",
       "    <tr>\n",
       "      <th>...</th>\n",
       "      <td>...</td>\n",
       "      <td>...</td>\n",
       "      <td>...</td>\n",
       "    </tr>\n",
       "    <tr>\n",
       "      <th>217</th>\n",
       "      <td>0.545455</td>\n",
       "      <td>0.136364</td>\n",
       "      <td>0.941666</td>\n",
       "    </tr>\n",
       "    <tr>\n",
       "      <th>218</th>\n",
       "      <td>0.500000</td>\n",
       "      <td>0.113636</td>\n",
       "      <td>0.942349</td>\n",
       "    </tr>\n",
       "    <tr>\n",
       "      <th>219</th>\n",
       "      <td>0.444444</td>\n",
       "      <td>0.090909</td>\n",
       "      <td>0.944564</td>\n",
       "    </tr>\n",
       "    <tr>\n",
       "      <th>220</th>\n",
       "      <td>0.500000</td>\n",
       "      <td>0.090909</td>\n",
       "      <td>0.945582</td>\n",
       "    </tr>\n",
       "    <tr>\n",
       "      <th>221</th>\n",
       "      <td>0.428571</td>\n",
       "      <td>0.068182</td>\n",
       "      <td>1.000000</td>\n",
       "    </tr>\n",
       "  </tbody>\n",
       "</table>\n",
       "<p>222 rows × 3 columns</p>\n",
       "</div>"
      ],
      "text/plain": [
       "     Precision    Recall  Thresholds\n",
       "0     0.192982  1.000000    0.283758\n",
       "1     0.189427  0.977273    0.284352\n",
       "2     0.190265  0.977273    0.285956\n",
       "3     0.191111  0.977273    0.287171\n",
       "4     0.191964  0.977273    0.288143\n",
       "..         ...       ...         ...\n",
       "217   0.545455  0.136364    0.941666\n",
       "218   0.500000  0.113636    0.942349\n",
       "219   0.444444  0.090909    0.944564\n",
       "220   0.500000  0.090909    0.945582\n",
       "221   0.428571  0.068182    1.000000\n",
       "\n",
       "[222 rows x 3 columns]"
      ]
     },
     "execution_count": 33,
     "metadata": {},
     "output_type": "execute_result"
    }
   ],
   "source": [
    "proba_knn = knn_tuned.predict_proba(X_test)\n",
    "proba_1_knn = proba_knn[:,1]\n",
    "pr_knn, rc_knn, thrs_knn = precision_recall_curve(y_test, proba_1_knn)\n",
    "pr_df_knn = pd.DataFrame({'Precision': pr_knn[:-1], 'Recall': rc_knn[:-1], 'Thresholds': thrs_knn})\n",
    "pr_df_knn"
   ]
  },
  {
   "cell_type": "code",
   "execution_count": 34,
   "metadata": {
    "scrolled": false
   },
   "outputs": [
    {
     "data": {
      "text/html": [
       "<div>\n",
       "<style scoped>\n",
       "    .dataframe tbody tr th:only-of-type {\n",
       "        vertical-align: middle;\n",
       "    }\n",
       "\n",
       "    .dataframe tbody tr th {\n",
       "        vertical-align: top;\n",
       "    }\n",
       "\n",
       "    .dataframe thead th {\n",
       "        text-align: right;\n",
       "    }\n",
       "</style>\n",
       "<table border=\"1\" class=\"dataframe\">\n",
       "  <thead>\n",
       "    <tr style=\"text-align: right;\">\n",
       "      <th></th>\n",
       "      <th>Precision</th>\n",
       "      <th>Recall</th>\n",
       "      <th>Thresholds</th>\n",
       "    </tr>\n",
       "  </thead>\n",
       "  <tbody>\n",
       "    <tr>\n",
       "      <th>148</th>\n",
       "      <td>0.387500</td>\n",
       "      <td>0.704545</td>\n",
       "      <td>0.663305</td>\n",
       "    </tr>\n",
       "    <tr>\n",
       "      <th>147</th>\n",
       "      <td>0.382716</td>\n",
       "      <td>0.704545</td>\n",
       "      <td>0.662342</td>\n",
       "    </tr>\n",
       "    <tr>\n",
       "      <th>146</th>\n",
       "      <td>0.378049</td>\n",
       "      <td>0.704545</td>\n",
       "      <td>0.660533</td>\n",
       "    </tr>\n",
       "    <tr>\n",
       "      <th>143</th>\n",
       "      <td>0.376471</td>\n",
       "      <td>0.727273</td>\n",
       "      <td>0.649262</td>\n",
       "    </tr>\n",
       "    <tr>\n",
       "      <th>145</th>\n",
       "      <td>0.373494</td>\n",
       "      <td>0.704545</td>\n",
       "      <td>0.656962</td>\n",
       "    </tr>\n",
       "    <tr>\n",
       "      <th>...</th>\n",
       "      <td>...</td>\n",
       "      <td>...</td>\n",
       "      <td>...</td>\n",
       "    </tr>\n",
       "    <tr>\n",
       "      <th>67</th>\n",
       "      <td>0.236025</td>\n",
       "      <td>0.863636</td>\n",
       "      <td>0.463531</td>\n",
       "    </tr>\n",
       "    <tr>\n",
       "      <th>66</th>\n",
       "      <td>0.234568</td>\n",
       "      <td>0.863636</td>\n",
       "      <td>0.461982</td>\n",
       "    </tr>\n",
       "    <tr>\n",
       "      <th>65</th>\n",
       "      <td>0.233129</td>\n",
       "      <td>0.863636</td>\n",
       "      <td>0.461155</td>\n",
       "    </tr>\n",
       "    <tr>\n",
       "      <th>64</th>\n",
       "      <td>0.231707</td>\n",
       "      <td>0.863636</td>\n",
       "      <td>0.460612</td>\n",
       "    </tr>\n",
       "    <tr>\n",
       "      <th>63</th>\n",
       "      <td>0.230303</td>\n",
       "      <td>0.863636</td>\n",
       "      <td>0.460406</td>\n",
       "    </tr>\n",
       "  </tbody>\n",
       "</table>\n",
       "<p>86 rows × 3 columns</p>\n",
       "</div>"
      ],
      "text/plain": [
       "     Precision    Recall  Thresholds\n",
       "148   0.387500  0.704545    0.663305\n",
       "147   0.382716  0.704545    0.662342\n",
       "146   0.378049  0.704545    0.660533\n",
       "143   0.376471  0.727273    0.649262\n",
       "145   0.373494  0.704545    0.656962\n",
       "..         ...       ...         ...\n",
       "67    0.236025  0.863636    0.463531\n",
       "66    0.234568  0.863636    0.461982\n",
       "65    0.233129  0.863636    0.461155\n",
       "64    0.231707  0.863636    0.460612\n",
       "63    0.230303  0.863636    0.460406\n",
       "\n",
       "[86 rows x 3 columns]"
      ]
     },
     "execution_count": 34,
     "metadata": {},
     "output_type": "execute_result"
    }
   ],
   "source": [
    "pr_df_knn[pr_df_knn['Recall'].between(0.7, 0.87)].sort_values('Precision', ascending=False)"
   ]
  },
  {
   "cell_type": "code",
   "execution_count": 101,
   "metadata": {
    "scrolled": false
   },
   "outputs": [
    {
     "name": "stdout",
     "output_type": "stream",
     "text": [
      "              precision    recall  f1-score   support\n",
      "\n",
      "           0       0.95      0.40      0.56       214\n",
      "           1       0.23      0.89      0.37        44\n",
      "\n",
      "    accuracy                           0.48       258\n",
      "   macro avg       0.59      0.64      0.47       258\n",
      "weighted avg       0.82      0.48      0.53       258\n",
      "\n"
     ]
    },
    {
     "data": {
      "image/png": "[encoded data removed]",
      "text/plain": [
       "<Figure size 1152x432 with 2 Axes>"
      ]
     },
     "metadata": {},
     "output_type": "display_data"
    }
   ],
   "source": [
    "thr_knn = 0.430221\n",
    "y_pred_thr_knn = np.where(knn_tuned.predict_proba(X_test)[:,1] > thr_knn, 1, 0)\n",
    "print(classification_report(y_test, y_pred_thr_knn))\n",
    "\n",
    "thr_knn_df = pd.DataFrame(dict(zip(['label', 'prob1', 'label_043'], [y_pred_thr_knn, knn_tuned.predict_proba(X_test)[:,1], knn_tuned.predict(X_test)])))\n",
    "plt.figure(figsize=(16,6))\n",
    "plt.subplot(121)\n",
    "plt.title(f'Threshold moved to: {thr_knn}')\n",
    "sns.scatterplot(x=thr_knn_df.index, y=thr_knn_df['prob1'], hue=thr_knn_df['label'], palette='YlGnBu')\n",
    "plt.axhline(thr_knn, color='red')\n",
    "plt.legend(loc='upper right')\n",
    "\n",
    "plt.subplot(122)\n",
    "plt.title('Default Threshold: 0.5')\n",
    "sns.scatterplot(x=thr_knn_df.index, y=thr_knn_df['prob1'], hue=thr_knn_df['label_043'], palette='YlGnBu')\n",
    "plt.axhline(0.5, color='red')\n",
    "plt.legend(loc='upper right')\n",
    "\n",
    "plt.show()"
   ]
  },
  {
   "cell_type": "code",
   "execution_count": 36,
   "metadata": {
    "scrolled": true
   },
   "outputs": [
    {
     "data": {
      "text/html": [
       "<div>\n",
       "<style scoped>\n",
       "    .dataframe tbody tr th:only-of-type {\n",
       "        vertical-align: middle;\n",
       "    }\n",
       "\n",
       "    .dataframe tbody tr th {\n",
       "        vertical-align: top;\n",
       "    }\n",
       "\n",
       "    .dataframe thead th {\n",
       "        text-align: right;\n",
       "    }\n",
       "</style>\n",
       "<table border=\"1\" class=\"dataframe\">\n",
       "  <thead>\n",
       "    <tr style=\"text-align: right;\">\n",
       "      <th></th>\n",
       "      <th>prediction_0</th>\n",
       "      <th>prediction_1</th>\n",
       "      <th>total_actual</th>\n",
       "    </tr>\n",
       "  </thead>\n",
       "  <tbody>\n",
       "    <tr>\n",
       "      <th>actual_0</th>\n",
       "      <td>86</td>\n",
       "      <td>128</td>\n",
       "      <td>214</td>\n",
       "    </tr>\n",
       "    <tr>\n",
       "      <th>actual_1</th>\n",
       "      <td>5</td>\n",
       "      <td>39</td>\n",
       "      <td>44</td>\n",
       "    </tr>\n",
       "    <tr>\n",
       "      <th>total_prediction</th>\n",
       "      <td>91</td>\n",
       "      <td>167</td>\n",
       "      <td>258</td>\n",
       "    </tr>\n",
       "  </tbody>\n",
       "</table>\n",
       "</div>"
      ],
      "text/plain": [
       "                  prediction_0  prediction_1  total_actual\n",
       "actual_0                    86           128           214\n",
       "actual_1                     5            39            44\n",
       "total_prediction            91           167           258"
      ]
     },
     "execution_count": 36,
     "metadata": {},
     "output_type": "execute_result"
    }
   ],
   "source": [
    "make_confusion_matrix(confusion_matrix(y_test, y_pred_thr_knn))"
   ]
  },
  {
   "cell_type": "markdown",
   "metadata": {},
   "source": [
    "__Note :__ Berdasarkan hasil model improvement untuk K-Nearest Neighbor, didapatkan peningkatan nilai recall. Penggeseran threshold yang dilakukan pun tidak terlalu jauh dari threshold awal, yaitu bergeser menjadi 0,43. Hal tersebut membuat model improvement dapat diterapkan."
   ]
  },
  {
   "cell_type": "markdown",
   "metadata": {},
   "source": [
    "# Random Forest Model Performances"
   ]
  },
  {
   "cell_type": "markdown",
   "metadata": {},
   "source": [
    "> # Random Forest Pipeline"
   ]
  },
  {
   "cell_type": "code",
   "execution_count": 85,
   "metadata": {},
   "outputs": [],
   "source": [
    "# For numeric columns \n",
    "rfc_pipe_num = Pipeline([\n",
    "    ('imputer', SimpleImputer(strategy='median')) # For Age & DistanceFromHome\n",
    "])\n",
    "\n",
    "# For category nominal columns\n",
    "rfc_pipe_cat = Pipeline([\n",
    "    ('imputer', SimpleImputer(strategy='most_frequent')), # For BusinessTravel & Maritalstatus\n",
    "    ('onehot', OneHotEncoder(drop='first')),\n",
    "])\n",
    "\n",
    "# Transforming all columns\n",
    "rfc_transformer = ColumnTransformer([\n",
    "    ('pipe_num', rfc_pipe_num, num_cols),\n",
    "    ('onehot', rfc_pipe_cat, cat_cols), \n",
    "], remainder='passthrough')\n",
    "\n",
    "# Combine all pipelines\n",
    "rfc_pipe_all = Pipeline([\n",
    "    ('transformer', rfc_transformer),\n",
    "    ('rfe', RFE(rfc)),\n",
    "    ('rfc', rfc)\n",
    "])\n",
    "\n",
    "# If need resampling\n",
    "rfc_pipe_all_smo = Pipeline([\n",
    "    ('transformer', rfc_transformer),\n",
    "    ('rfe', RFE(rfc)),\n",
    "    ('resampling', SMOTE(random_state=77)),\n",
    "    ('rfc', rfc)\n",
    "])"
   ]
  },
  {
   "cell_type": "markdown",
   "metadata": {},
   "source": [
    "> # Random Forest Benchmark Model"
   ]
  },
  {
   "cell_type": "code",
   "execution_count": 86,
   "metadata": {},
   "outputs": [],
   "source": [
    "skfold = StratifiedKFold(n_splits = 5, random_state=77, shuffle=True)\n",
    "rfc_score = cross_val_score(rfc_pipe_all, X_train_val, y_train_val, scoring='recall', cv=skfold, n_jobs=-1)\n",
    "rfc_smo_score = cross_val_score(rfc_pipe_all_smo, X_train_val, y_train_val, scoring='recall', cv=skfold, n_jobs=-1)"
   ]
  },
  {
   "cell_type": "code",
   "execution_count": 94,
   "metadata": {},
   "outputs": [
    {
     "name": "stdout",
     "output_type": "stream",
     "text": [
      "CV Random Forest : [0.18518519 0.22222222 0.19230769 0.15384615 0.15384615]\n",
      "CV Random Forest Resampling : [0.37037037 0.33333333 0.42307692 0.38461538 0.38461538]\n"
     ]
    }
   ],
   "source": [
    "print('CV Random Forest :', rfc_score)\n",
    "print('CV Random Forest Resampling :', rfc_smo_score)"
   ]
  },
  {
   "cell_type": "code",
   "execution_count": 95,
   "metadata": {},
   "outputs": [
    {
     "name": "stdout",
     "output_type": "stream",
     "text": [
      "CV Random Forest : 0.1814814814814815\n",
      "CV Random Forest Resampling : 0.3792022792022792\n"
     ]
    }
   ],
   "source": [
    "print('CV Random Forest :', rfc_score.mean())\n",
    "print('CV Random Forest Resampling :', rfc_smo_score.mean())"
   ]
  },
  {
   "cell_type": "code",
   "execution_count": 89,
   "metadata": {},
   "outputs": [],
   "source": [
    "rfc_default = rfc_pipe_all.fit(X_train_val, y_train_val)\n",
    "y_pred_rfc_default = rfc_default.predict(X_test)"
   ]
  },
  {
   "cell_type": "code",
   "execution_count": 90,
   "metadata": {
    "scrolled": false
   },
   "outputs": [
    {
     "name": "stdout",
     "output_type": "stream",
     "text": [
      "Report for Random Forest Benchmark : \n",
      "\n",
      "              precision    recall  f1-score   support\n",
      "\n",
      "           0       0.88      0.97      0.92       214\n",
      "           1       0.71      0.39      0.50        44\n",
      "\n",
      "    accuracy                           0.87       258\n",
      "   macro avg       0.80      0.68      0.71       258\n",
      "weighted avg       0.85      0.87      0.85       258\n",
      "\n"
     ]
    }
   ],
   "source": [
    "print('Report for Random Forest Benchmark : \\n')\n",
    "print(classification_report(y_test, y_pred_rfc_default))"
   ]
  },
  {
   "cell_type": "code",
   "execution_count": 91,
   "metadata": {},
   "outputs": [],
   "source": [
    "rfc_default_smo = rfc_pipe_all_smo.fit(X_train_val, y_train_val)\n",
    "y_pred_rfc_default_smo = rfc_default_smo.predict(X_test)"
   ]
  },
  {
   "cell_type": "code",
   "execution_count": 93,
   "metadata": {
    "scrolled": true
   },
   "outputs": [
    {
     "name": "stdout",
     "output_type": "stream",
     "text": [
      "Report for Random Forest Benchmark Resampling : \n",
      "\n",
      "              precision    recall  f1-score   support\n",
      "\n",
      "           0       0.88      0.93      0.91       214\n",
      "           1       0.55      0.41      0.47        44\n",
      "\n",
      "    accuracy                           0.84       258\n",
      "   macro avg       0.71      0.67      0.69       258\n",
      "weighted avg       0.83      0.84      0.83       258\n",
      "\n"
     ]
    }
   ],
   "source": [
    "print('Report for Random Forest Benchmark Resampling : \\n')\n",
    "print(classification_report(y_test, y_pred_rfc_default_smo))"
   ]
  },
  {
   "cell_type": "markdown",
   "metadata": {},
   "source": [
    "__Note :__ Berdasarkan classification report model yang dipilih adalah Random Forest dengan Resampling."
   ]
  },
  {
   "cell_type": "markdown",
   "metadata": {},
   "source": [
    "> # Random Forest Hyperparameter Tuned Model"
   ]
  },
  {
   "cell_type": "code",
   "execution_count": 45,
   "metadata": {},
   "outputs": [
    {
     "data": {
      "text/plain": [
       "<bound method Pipeline.get_params of Pipeline(steps=[('transformer',\n",
       "                 ColumnTransformer(remainder='passthrough',\n",
       "                                   transformers=[('pipe_num',\n",
       "                                                  Pipeline(steps=[('imputer',\n",
       "                                                                   SimpleImputer(strategy='median'))]),\n",
       "                                                  ['Age', 'DistanceFromHome',\n",
       "                                                   'MonthlyIncome',\n",
       "                                                   'MonthlyRate',\n",
       "                                                   'NumCompaniesWorked',\n",
       "                                                   'PercentSalaryHike',\n",
       "                                                   'TotalWorkingYears',\n",
       "                                                   'TrainingTimesLastYear',\n",
       "                                                   'YearsAtCompany',\n",
       "                                                   'YearsInCurrentRole',\n",
       "                                                   'YearsSin...\n",
       "                                                                   SimpleImputer(strategy='most_frequent')),\n",
       "                                                                  ('onehot',\n",
       "                                                                   OneHotEncoder(drop='first'))]),\n",
       "                                                  Index(['BusinessTravel', 'Department', 'EducationField', 'Gender', 'JobRole',\n",
       "       'MaritalStatus', 'OverTime'],\n",
       "      dtype='object'))])),\n",
       "                ('rfe',\n",
       "                 RFE(estimator=RandomForestClassifier(max_depth=10,\n",
       "                                                      random_state=77))),\n",
       "                ('resampling', SMOTE(random_state=77)),\n",
       "                ('rfc', RandomForestClassifier(max_depth=10, random_state=77))])>"
      ]
     },
     "execution_count": 45,
     "metadata": {},
     "output_type": "execute_result"
    }
   ],
   "source": [
    "rfc_pipe_all_smo.get_params"
   ]
  },
  {
   "cell_type": "code",
   "execution_count": 46,
   "metadata": {
    "scrolled": false
   },
   "outputs": [
    {
     "name": "stdout",
     "output_type": "stream",
     "text": [
      "Fitting 5 folds for each of 225 candidates, totalling 1125 fits\n"
     ]
    },
    {
     "name": "stderr",
     "output_type": "stream",
     "text": [
      "[Parallel(n_jobs=-1)]: Using backend LokyBackend with 4 concurrent workers.\n",
      "[Parallel(n_jobs=-1)]: Done  42 tasks      | elapsed:  2.1min\n",
      "[Parallel(n_jobs=-1)]: Done 192 tasks      | elapsed:  9.2min\n",
      "[Parallel(n_jobs=-1)]: Done 442 tasks      | elapsed: 21.0min\n",
      "[Parallel(n_jobs=-1)]: Done 792 tasks      | elapsed: 37.6min\n",
      "[Parallel(n_jobs=-1)]: Done 1125 out of 1125 | elapsed: 53.5min finished\n"
     ]
    },
    {
     "data": {
      "text/plain": [
       "GridSearchCV(cv=StratifiedKFold(n_splits=5, random_state=77, shuffle=True),\n",
       "             estimator=Pipeline(steps=[('transformer',\n",
       "                                        ColumnTransformer(remainder='passthrough',\n",
       "                                                          transformers=[('pipe_num',\n",
       "                                                                         Pipeline(steps=[('imputer',\n",
       "                                                                                          SimpleImputer(strategy='median'))]),\n",
       "                                                                         ['Age',\n",
       "                                                                          'DistanceFromHome',\n",
       "                                                                          'MonthlyIncome',\n",
       "                                                                          'MonthlyRate',\n",
       "                                                                          'NumCompaniesWorked',\n",
       "                                                                          'PercentSalaryHike',\n",
       "                                                                          'TotalWo...\n",
       "                                        RFE(estimator=RandomForestClassifier(max_depth=10,\n",
       "                                                                             random_state=77))),\n",
       "                                       ('resampling', SMOTE(random_state=77)),\n",
       "                                       ('rfc',\n",
       "                                        RandomForestClassifier(max_depth=10,\n",
       "                                                               random_state=77))]),\n",
       "             n_jobs=-1,\n",
       "             param_grid={'rfc__max_depth': array([ 6,  8, 10, 12, 14]),\n",
       "                         'rfc__min_samples_leaf': [100, 150, 200],\n",
       "                         'rfc__min_samples_split': [200, 300, 400],\n",
       "                         'rfc__n_estimators': array([100, 300, 500, 700, 900])},\n",
       "             scoring='recall', verbose=1)"
      ]
     },
     "execution_count": 46,
     "metadata": {},
     "output_type": "execute_result"
    }
   ],
   "source": [
    "rfc_params = {\n",
    "    'rfc__max_depth': np.arange(6,16,2),\n",
    "    'rfc__min_samples_split': [200, 300, 400],\n",
    "    'rfc__min_samples_leaf': [100,150,200],\n",
    "    'rfc__n_estimators': np.arange(100, 1000, 200)\n",
    "}\n",
    "\n",
    "skfold = StratifiedKFold(n_splits = 5, random_state=77, shuffle=True)\n",
    "\n",
    "grid_rfc = GridSearchCV(\n",
    "    rfc_pipe_all_smo, # model yang mau di tune\n",
    "    param_grid = rfc_params, # hyperparameter option\n",
    "    cv = skfold, # evaluation method\n",
    "    scoring = 'recall', # metrics\n",
    "    n_jobs = -1,\n",
    "    verbose = 1\n",
    ")\n",
    " \n",
    "grid_rfc.fit(X_train_val, y_train_val)"
   ]
  },
  {
   "cell_type": "code",
   "execution_count": 47,
   "metadata": {},
   "outputs": [
    {
     "data": {
      "text/plain": [
       "{'rfc__max_depth': 6,\n",
       " 'rfc__min_samples_leaf': 150,\n",
       " 'rfc__min_samples_split': 400,\n",
       " 'rfc__n_estimators': 300}"
      ]
     },
     "execution_count": 47,
     "metadata": {},
     "output_type": "execute_result"
    }
   ],
   "source": [
    "grid_rfc.best_params_"
   ]
  },
  {
   "cell_type": "code",
   "execution_count": 48,
   "metadata": {},
   "outputs": [],
   "source": [
    "rfc_tuned = grid_rfc.best_estimator_.fit(X_train_val, y_train_val)\n",
    "y_pred_rfc_tuned = rfc_tuned.predict(X_test)"
   ]
  },
  {
   "cell_type": "code",
   "execution_count": 49,
   "metadata": {
    "scrolled": true
   },
   "outputs": [
    {
     "name": "stdout",
     "output_type": "stream",
     "text": [
      "Report for Random Forest Tuned : \n",
      "\n",
      "              precision    recall  f1-score   support\n",
      "\n",
      "           0       0.89      0.85      0.87       214\n",
      "           1       0.41      0.50      0.45        44\n",
      "\n",
      "    accuracy                           0.79       258\n",
      "   macro avg       0.65      0.68      0.66       258\n",
      "weighted avg       0.81      0.79      0.80       258\n",
      "\n"
     ]
    }
   ],
   "source": [
    "print('Report for Random Forest Tuned : \\n')\n",
    "print(classification_report(y_test, y_pred_rfc_tuned))"
   ]
  },
  {
   "cell_type": "markdown",
   "metadata": {},
   "source": [
    "__Note :__ Setelah melakukan hyperparameter tuning, terjadi peningkatan nilai Recall dibandingkan Benchmark Model."
   ]
  },
  {
   "cell_type": "code",
   "execution_count": 50,
   "metadata": {
    "scrolled": false
   },
   "outputs": [
    {
     "data": {
      "text/plain": [
       "<sklearn.metrics._plot.roc_curve.RocCurveDisplay at 0x25f7da93040>"
      ]
     },
     "execution_count": 50,
     "metadata": {},
     "output_type": "execute_result"
    },
    {
     "data": {
      "image/png": "[encoded data removed]",
      "text/plain": [
       "<Figure size 576x396 with 1 Axes>"
      ]
     },
     "metadata": {},
     "output_type": "display_data"
    }
   ],
   "source": [
    "plot_roc_curve(rfc_tuned, X_test, y_test)"
   ]
  },
  {
   "cell_type": "code",
   "execution_count": 51,
   "metadata": {
    "scrolled": false
   },
   "outputs": [
    {
     "data": {
      "text/plain": [
       "<sklearn.metrics._plot.precision_recall_curve.PrecisionRecallDisplay at 0x25f7da9aac0>"
      ]
     },
     "execution_count": 51,
     "metadata": {},
     "output_type": "execute_result"
    },
    {
     "data": {
      "image/png": "[encoded data removed]",
      "text/plain": [
       "<Figure size 576x396 with 1 Axes>"
      ]
     },
     "metadata": {},
     "output_type": "display_data"
    }
   ],
   "source": [
    "plot_precision_recall_curve(rfc_tuned, X_test, y_test)"
   ]
  },
  {
   "cell_type": "code",
   "execution_count": 52,
   "metadata": {},
   "outputs": [
    {
     "data": {
      "text/plain": [
       "<sklearn.metrics._plot.confusion_matrix.ConfusionMatrixDisplay at 0x25f7db4f430>"
      ]
     },
     "execution_count": 52,
     "metadata": {},
     "output_type": "execute_result"
    },
    {
     "data": {
      "image/png": "[encoded data removed]",
      "text/plain": [
       "<Figure size 576x396 with 2 Axes>"
      ]
     },
     "metadata": {},
     "output_type": "display_data"
    }
   ],
   "source": [
    "plot_confusion_matrix(rfc_tuned, X_test, y_test, cmap='YlGnBu')"
   ]
  },
  {
   "cell_type": "code",
   "execution_count": 53,
   "metadata": {},
   "outputs": [
    {
     "data": {
      "text/html": [
       "<div>\n",
       "<style scoped>\n",
       "    .dataframe tbody tr th:only-of-type {\n",
       "        vertical-align: middle;\n",
       "    }\n",
       "\n",
       "    .dataframe tbody tr th {\n",
       "        vertical-align: top;\n",
       "    }\n",
       "\n",
       "    .dataframe thead th {\n",
       "        text-align: right;\n",
       "    }\n",
       "</style>\n",
       "<table border=\"1\" class=\"dataframe\">\n",
       "  <thead>\n",
       "    <tr style=\"text-align: right;\">\n",
       "      <th></th>\n",
       "      <th>prediction_0</th>\n",
       "      <th>prediction_1</th>\n",
       "      <th>total_actual</th>\n",
       "    </tr>\n",
       "  </thead>\n",
       "  <tbody>\n",
       "    <tr>\n",
       "      <th>actual_0</th>\n",
       "      <td>182</td>\n",
       "      <td>32</td>\n",
       "      <td>214</td>\n",
       "    </tr>\n",
       "    <tr>\n",
       "      <th>actual_1</th>\n",
       "      <td>22</td>\n",
       "      <td>22</td>\n",
       "      <td>44</td>\n",
       "    </tr>\n",
       "    <tr>\n",
       "      <th>total_prediction</th>\n",
       "      <td>204</td>\n",
       "      <td>54</td>\n",
       "      <td>258</td>\n",
       "    </tr>\n",
       "  </tbody>\n",
       "</table>\n",
       "</div>"
      ],
      "text/plain": [
       "                  prediction_0  prediction_1  total_actual\n",
       "actual_0                   182            32           214\n",
       "actual_1                    22            22            44\n",
       "total_prediction           204            54           258"
      ]
     },
     "execution_count": 53,
     "metadata": {},
     "output_type": "execute_result"
    }
   ],
   "source": [
    "make_confusion_matrix(confusion_matrix(y_test, y_pred_rfc_tuned))"
   ]
  },
  {
   "cell_type": "markdown",
   "metadata": {},
   "source": [
    "> # Random Forest Model Improvement\n",
    "Model improvement merupakan upaya untuk meningkatkan nilai Recall dengan cara menggeser threshold. Model improvement dilakukan pada Random Forest Hyperparameter Tuned Model."
   ]
  },
  {
   "cell_type": "code",
   "execution_count": 54,
   "metadata": {},
   "outputs": [
    {
     "data": {
      "text/html": [
       "<div>\n",
       "<style scoped>\n",
       "    .dataframe tbody tr th:only-of-type {\n",
       "        vertical-align: middle;\n",
       "    }\n",
       "\n",
       "    .dataframe tbody tr th {\n",
       "        vertical-align: top;\n",
       "    }\n",
       "\n",
       "    .dataframe thead th {\n",
       "        text-align: right;\n",
       "    }\n",
       "</style>\n",
       "<table border=\"1\" class=\"dataframe\">\n",
       "  <thead>\n",
       "    <tr style=\"text-align: right;\">\n",
       "      <th></th>\n",
       "      <th>Precision</th>\n",
       "      <th>Recall</th>\n",
       "      <th>Thresholds</th>\n",
       "    </tr>\n",
       "  </thead>\n",
       "  <tbody>\n",
       "    <tr>\n",
       "      <th>0</th>\n",
       "      <td>0.209524</td>\n",
       "      <td>1.000000</td>\n",
       "      <td>0.305407</td>\n",
       "    </tr>\n",
       "    <tr>\n",
       "      <th>1</th>\n",
       "      <td>0.205742</td>\n",
       "      <td>0.977273</td>\n",
       "      <td>0.306295</td>\n",
       "    </tr>\n",
       "    <tr>\n",
       "      <th>2</th>\n",
       "      <td>0.206731</td>\n",
       "      <td>0.977273</td>\n",
       "      <td>0.310957</td>\n",
       "    </tr>\n",
       "    <tr>\n",
       "      <th>3</th>\n",
       "      <td>0.207729</td>\n",
       "      <td>0.977273</td>\n",
       "      <td>0.312657</td>\n",
       "    </tr>\n",
       "    <tr>\n",
       "      <th>4</th>\n",
       "      <td>0.208738</td>\n",
       "      <td>0.977273</td>\n",
       "      <td>0.315096</td>\n",
       "    </tr>\n",
       "    <tr>\n",
       "      <th>...</th>\n",
       "      <td>...</td>\n",
       "      <td>...</td>\n",
       "      <td>...</td>\n",
       "    </tr>\n",
       "    <tr>\n",
       "      <th>205</th>\n",
       "      <td>0.600000</td>\n",
       "      <td>0.068182</td>\n",
       "      <td>0.724463</td>\n",
       "    </tr>\n",
       "    <tr>\n",
       "      <th>206</th>\n",
       "      <td>0.750000</td>\n",
       "      <td>0.068182</td>\n",
       "      <td>0.733608</td>\n",
       "    </tr>\n",
       "    <tr>\n",
       "      <th>207</th>\n",
       "      <td>1.000000</td>\n",
       "      <td>0.068182</td>\n",
       "      <td>0.736697</td>\n",
       "    </tr>\n",
       "    <tr>\n",
       "      <th>208</th>\n",
       "      <td>1.000000</td>\n",
       "      <td>0.045455</td>\n",
       "      <td>0.736946</td>\n",
       "    </tr>\n",
       "    <tr>\n",
       "      <th>209</th>\n",
       "      <td>1.000000</td>\n",
       "      <td>0.022727</td>\n",
       "      <td>0.740978</td>\n",
       "    </tr>\n",
       "  </tbody>\n",
       "</table>\n",
       "<p>210 rows × 3 columns</p>\n",
       "</div>"
      ],
      "text/plain": [
       "     Precision    Recall  Thresholds\n",
       "0     0.209524  1.000000    0.305407\n",
       "1     0.205742  0.977273    0.306295\n",
       "2     0.206731  0.977273    0.310957\n",
       "3     0.207729  0.977273    0.312657\n",
       "4     0.208738  0.977273    0.315096\n",
       "..         ...       ...         ...\n",
       "205   0.600000  0.068182    0.724463\n",
       "206   0.750000  0.068182    0.733608\n",
       "207   1.000000  0.068182    0.736697\n",
       "208   1.000000  0.045455    0.736946\n",
       "209   1.000000  0.022727    0.740978\n",
       "\n",
       "[210 rows x 3 columns]"
      ]
     },
     "execution_count": 54,
     "metadata": {},
     "output_type": "execute_result"
    }
   ],
   "source": [
    "proba_rfc = rfc_tuned.predict_proba(X_test)\n",
    "proba_1_rfc = proba_rfc[:,1]\n",
    "pr_rfc, rc_rfc, thrs_rfc = precision_recall_curve(y_test, proba_1_rfc)\n",
    "pr_rfc_df = pd.DataFrame({'Precision': pr_rfc[:-1], 'Recall': rc_rfc[:-1], 'Thresholds': thrs_rfc})\n",
    "pr_rfc_df"
   ]
  },
  {
   "cell_type": "code",
   "execution_count": 55,
   "metadata": {
    "scrolled": false
   },
   "outputs": [
    {
     "data": {
      "text/html": [
       "<div>\n",
       "<style scoped>\n",
       "    .dataframe tbody tr th:only-of-type {\n",
       "        vertical-align: middle;\n",
       "    }\n",
       "\n",
       "    .dataframe tbody tr th {\n",
       "        vertical-align: top;\n",
       "    }\n",
       "\n",
       "    .dataframe thead th {\n",
       "        text-align: right;\n",
       "    }\n",
       "</style>\n",
       "<table border=\"1\" class=\"dataframe\">\n",
       "  <thead>\n",
       "    <tr style=\"text-align: right;\">\n",
       "      <th></th>\n",
       "      <th>Precision</th>\n",
       "      <th>Recall</th>\n",
       "      <th>Thresholds</th>\n",
       "    </tr>\n",
       "  </thead>\n",
       "  <tbody>\n",
       "    <tr>\n",
       "      <th>134</th>\n",
       "      <td>0.394737</td>\n",
       "      <td>0.681818</td>\n",
       "      <td>0.465616</td>\n",
       "    </tr>\n",
       "    <tr>\n",
       "      <th>136</th>\n",
       "      <td>0.391892</td>\n",
       "      <td>0.659091</td>\n",
       "      <td>0.468474</td>\n",
       "    </tr>\n",
       "    <tr>\n",
       "      <th>133</th>\n",
       "      <td>0.389610</td>\n",
       "      <td>0.681818</td>\n",
       "      <td>0.463628</td>\n",
       "    </tr>\n",
       "    <tr>\n",
       "      <th>138</th>\n",
       "      <td>0.388889</td>\n",
       "      <td>0.636364</td>\n",
       "      <td>0.469688</td>\n",
       "    </tr>\n",
       "    <tr>\n",
       "      <th>135</th>\n",
       "      <td>0.386667</td>\n",
       "      <td>0.659091</td>\n",
       "      <td>0.467271</td>\n",
       "    </tr>\n",
       "    <tr>\n",
       "      <th>132</th>\n",
       "      <td>0.384615</td>\n",
       "      <td>0.681818</td>\n",
       "      <td>0.460465</td>\n",
       "    </tr>\n",
       "    <tr>\n",
       "      <th>124</th>\n",
       "      <td>0.383721</td>\n",
       "      <td>0.750000</td>\n",
       "      <td>0.453083</td>\n",
       "    </tr>\n",
       "    <tr>\n",
       "      <th>137</th>\n",
       "      <td>0.383562</td>\n",
       "      <td>0.636364</td>\n",
       "      <td>0.469230</td>\n",
       "    </tr>\n",
       "    <tr>\n",
       "      <th>139</th>\n",
       "      <td>0.380282</td>\n",
       "      <td>0.613636</td>\n",
       "      <td>0.471502</td>\n",
       "    </tr>\n",
       "    <tr>\n",
       "      <th>131</th>\n",
       "      <td>0.379747</td>\n",
       "      <td>0.681818</td>\n",
       "      <td>0.458184</td>\n",
       "    </tr>\n",
       "    <tr>\n",
       "      <th>123</th>\n",
       "      <td>0.379310</td>\n",
       "      <td>0.750000</td>\n",
       "      <td>0.452547</td>\n",
       "    </tr>\n",
       "    <tr>\n",
       "      <th>125</th>\n",
       "      <td>0.376471</td>\n",
       "      <td>0.727273</td>\n",
       "      <td>0.453401</td>\n",
       "    </tr>\n",
       "    <tr>\n",
       "      <th>130</th>\n",
       "      <td>0.375000</td>\n",
       "      <td>0.681818</td>\n",
       "      <td>0.456684</td>\n",
       "    </tr>\n",
       "    <tr>\n",
       "      <th>122</th>\n",
       "      <td>0.375000</td>\n",
       "      <td>0.750000</td>\n",
       "      <td>0.451386</td>\n",
       "    </tr>\n",
       "    <tr>\n",
       "      <th>119</th>\n",
       "      <td>0.373626</td>\n",
       "      <td>0.772727</td>\n",
       "      <td>0.450617</td>\n",
       "    </tr>\n",
       "    <tr>\n",
       "      <th>121</th>\n",
       "      <td>0.370787</td>\n",
       "      <td>0.750000</td>\n",
       "      <td>0.451203</td>\n",
       "    </tr>\n",
       "    <tr>\n",
       "      <th>129</th>\n",
       "      <td>0.370370</td>\n",
       "      <td>0.681818</td>\n",
       "      <td>0.455449</td>\n",
       "    </tr>\n",
       "    <tr>\n",
       "      <th>118</th>\n",
       "      <td>0.369565</td>\n",
       "      <td>0.772727</td>\n",
       "      <td>0.450577</td>\n",
       "    </tr>\n",
       "    <tr>\n",
       "      <th>126</th>\n",
       "      <td>0.369048</td>\n",
       "      <td>0.704545</td>\n",
       "      <td>0.454783</td>\n",
       "    </tr>\n",
       "    <tr>\n",
       "      <th>120</th>\n",
       "      <td>0.366667</td>\n",
       "      <td>0.750000</td>\n",
       "      <td>0.450814</td>\n",
       "    </tr>\n",
       "    <tr>\n",
       "      <th>128</th>\n",
       "      <td>0.365854</td>\n",
       "      <td>0.681818</td>\n",
       "      <td>0.455257</td>\n",
       "    </tr>\n",
       "    <tr>\n",
       "      <th>117</th>\n",
       "      <td>0.365591</td>\n",
       "      <td>0.772727</td>\n",
       "      <td>0.447229</td>\n",
       "    </tr>\n",
       "    <tr>\n",
       "      <th>116</th>\n",
       "      <td>0.361702</td>\n",
       "      <td>0.772727</td>\n",
       "      <td>0.444341</td>\n",
       "    </tr>\n",
       "    <tr>\n",
       "      <th>127</th>\n",
       "      <td>0.361446</td>\n",
       "      <td>0.681818</td>\n",
       "      <td>0.454929</td>\n",
       "    </tr>\n",
       "    <tr>\n",
       "      <th>115</th>\n",
       "      <td>0.357895</td>\n",
       "      <td>0.772727</td>\n",
       "      <td>0.439621</td>\n",
       "    </tr>\n",
       "    <tr>\n",
       "      <th>114</th>\n",
       "      <td>0.354167</td>\n",
       "      <td>0.772727</td>\n",
       "      <td>0.439057</td>\n",
       "    </tr>\n",
       "    <tr>\n",
       "      <th>111</th>\n",
       "      <td>0.353535</td>\n",
       "      <td>0.795455</td>\n",
       "      <td>0.436871</td>\n",
       "    </tr>\n",
       "    <tr>\n",
       "      <th>113</th>\n",
       "      <td>0.350515</td>\n",
       "      <td>0.772727</td>\n",
       "      <td>0.438068</td>\n",
       "    </tr>\n",
       "    <tr>\n",
       "      <th>110</th>\n",
       "      <td>0.350000</td>\n",
       "      <td>0.795455</td>\n",
       "      <td>0.434946</td>\n",
       "    </tr>\n",
       "    <tr>\n",
       "      <th>107</th>\n",
       "      <td>0.349515</td>\n",
       "      <td>0.818182</td>\n",
       "      <td>0.430221</td>\n",
       "    </tr>\n",
       "    <tr>\n",
       "      <th>112</th>\n",
       "      <td>0.346939</td>\n",
       "      <td>0.772727</td>\n",
       "      <td>0.437574</td>\n",
       "    </tr>\n",
       "    <tr>\n",
       "      <th>109</th>\n",
       "      <td>0.346535</td>\n",
       "      <td>0.795455</td>\n",
       "      <td>0.433377</td>\n",
       "    </tr>\n",
       "    <tr>\n",
       "      <th>106</th>\n",
       "      <td>0.346154</td>\n",
       "      <td>0.818182</td>\n",
       "      <td>0.429879</td>\n",
       "    </tr>\n",
       "    <tr>\n",
       "      <th>108</th>\n",
       "      <td>0.343137</td>\n",
       "      <td>0.795455</td>\n",
       "      <td>0.432254</td>\n",
       "    </tr>\n",
       "    <tr>\n",
       "      <th>105</th>\n",
       "      <td>0.342857</td>\n",
       "      <td>0.818182</td>\n",
       "      <td>0.427818</td>\n",
       "    </tr>\n",
       "    <tr>\n",
       "      <th>104</th>\n",
       "      <td>0.339623</td>\n",
       "      <td>0.818182</td>\n",
       "      <td>0.426272</td>\n",
       "    </tr>\n",
       "    <tr>\n",
       "      <th>103</th>\n",
       "      <td>0.336449</td>\n",
       "      <td>0.818182</td>\n",
       "      <td>0.425424</td>\n",
       "    </tr>\n",
       "    <tr>\n",
       "      <th>102</th>\n",
       "      <td>0.333333</td>\n",
       "      <td>0.818182</td>\n",
       "      <td>0.423239</td>\n",
       "    </tr>\n",
       "    <tr>\n",
       "      <th>101</th>\n",
       "      <td>0.330275</td>\n",
       "      <td>0.818182</td>\n",
       "      <td>0.423032</td>\n",
       "    </tr>\n",
       "    <tr>\n",
       "      <th>100</th>\n",
       "      <td>0.327273</td>\n",
       "      <td>0.818182</td>\n",
       "      <td>0.419206</td>\n",
       "    </tr>\n",
       "    <tr>\n",
       "      <th>99</th>\n",
       "      <td>0.324324</td>\n",
       "      <td>0.818182</td>\n",
       "      <td>0.418563</td>\n",
       "    </tr>\n",
       "    <tr>\n",
       "      <th>98</th>\n",
       "      <td>0.321429</td>\n",
       "      <td>0.818182</td>\n",
       "      <td>0.417440</td>\n",
       "    </tr>\n",
       "    <tr>\n",
       "      <th>97</th>\n",
       "      <td>0.318584</td>\n",
       "      <td>0.818182</td>\n",
       "      <td>0.416711</td>\n",
       "    </tr>\n",
       "    <tr>\n",
       "      <th>96</th>\n",
       "      <td>0.315789</td>\n",
       "      <td>0.818182</td>\n",
       "      <td>0.416524</td>\n",
       "    </tr>\n",
       "    <tr>\n",
       "      <th>95</th>\n",
       "      <td>0.313043</td>\n",
       "      <td>0.818182</td>\n",
       "      <td>0.411887</td>\n",
       "    </tr>\n",
       "    <tr>\n",
       "      <th>94</th>\n",
       "      <td>0.310345</td>\n",
       "      <td>0.818182</td>\n",
       "      <td>0.411027</td>\n",
       "    </tr>\n",
       "    <tr>\n",
       "      <th>93</th>\n",
       "      <td>0.307692</td>\n",
       "      <td>0.818182</td>\n",
       "      <td>0.409730</td>\n",
       "    </tr>\n",
       "    <tr>\n",
       "      <th>92</th>\n",
       "      <td>0.305085</td>\n",
       "      <td>0.818182</td>\n",
       "      <td>0.408713</td>\n",
       "    </tr>\n",
       "    <tr>\n",
       "      <th>91</th>\n",
       "      <td>0.302521</td>\n",
       "      <td>0.818182</td>\n",
       "      <td>0.405903</td>\n",
       "    </tr>\n",
       "    <tr>\n",
       "      <th>90</th>\n",
       "      <td>0.300000</td>\n",
       "      <td>0.818182</td>\n",
       "      <td>0.405252</td>\n",
       "    </tr>\n",
       "    <tr>\n",
       "      <th>89</th>\n",
       "      <td>0.297521</td>\n",
       "      <td>0.818182</td>\n",
       "      <td>0.405250</td>\n",
       "    </tr>\n",
       "    <tr>\n",
       "      <th>88</th>\n",
       "      <td>0.295082</td>\n",
       "      <td>0.818182</td>\n",
       "      <td>0.404987</td>\n",
       "    </tr>\n",
       "    <tr>\n",
       "      <th>84</th>\n",
       "      <td>0.293651</td>\n",
       "      <td>0.840909</td>\n",
       "      <td>0.401728</td>\n",
       "    </tr>\n",
       "    <tr>\n",
       "      <th>87</th>\n",
       "      <td>0.292683</td>\n",
       "      <td>0.818182</td>\n",
       "      <td>0.404652</td>\n",
       "    </tr>\n",
       "    <tr>\n",
       "      <th>86</th>\n",
       "      <td>0.290323</td>\n",
       "      <td>0.818182</td>\n",
       "      <td>0.403122</td>\n",
       "    </tr>\n",
       "    <tr>\n",
       "      <th>85</th>\n",
       "      <td>0.288000</td>\n",
       "      <td>0.818182</td>\n",
       "      <td>0.402478</td>\n",
       "    </tr>\n",
       "  </tbody>\n",
       "</table>\n",
       "</div>"
      ],
      "text/plain": [
       "     Precision    Recall  Thresholds\n",
       "134   0.394737  0.681818    0.465616\n",
       "136   0.391892  0.659091    0.468474\n",
       "133   0.389610  0.681818    0.463628\n",
       "138   0.388889  0.636364    0.469688\n",
       "135   0.386667  0.659091    0.467271\n",
       "132   0.384615  0.681818    0.460465\n",
       "124   0.383721  0.750000    0.453083\n",
       "137   0.383562  0.636364    0.469230\n",
       "139   0.380282  0.613636    0.471502\n",
       "131   0.379747  0.681818    0.458184\n",
       "123   0.379310  0.750000    0.452547\n",
       "125   0.376471  0.727273    0.453401\n",
       "130   0.375000  0.681818    0.456684\n",
       "122   0.375000  0.750000    0.451386\n",
       "119   0.373626  0.772727    0.450617\n",
       "121   0.370787  0.750000    0.451203\n",
       "129   0.370370  0.681818    0.455449\n",
       "118   0.369565  0.772727    0.450577\n",
       "126   0.369048  0.704545    0.454783\n",
       "120   0.366667  0.750000    0.450814\n",
       "128   0.365854  0.681818    0.455257\n",
       "117   0.365591  0.772727    0.447229\n",
       "116   0.361702  0.772727    0.444341\n",
       "127   0.361446  0.681818    0.454929\n",
       "115   0.357895  0.772727    0.439621\n",
       "114   0.354167  0.772727    0.439057\n",
       "111   0.353535  0.795455    0.436871\n",
       "113   0.350515  0.772727    0.438068\n",
       "110   0.350000  0.795455    0.434946\n",
       "107   0.349515  0.818182    0.430221\n",
       "112   0.346939  0.772727    0.437574\n",
       "109   0.346535  0.795455    0.433377\n",
       "106   0.346154  0.818182    0.429879\n",
       "108   0.343137  0.795455    0.432254\n",
       "105   0.342857  0.818182    0.427818\n",
       "104   0.339623  0.818182    0.426272\n",
       "103   0.336449  0.818182    0.425424\n",
       "102   0.333333  0.818182    0.423239\n",
       "101   0.330275  0.818182    0.423032\n",
       "100   0.327273  0.818182    0.419206\n",
       "99    0.324324  0.818182    0.418563\n",
       "98    0.321429  0.818182    0.417440\n",
       "97    0.318584  0.818182    0.416711\n",
       "96    0.315789  0.818182    0.416524\n",
       "95    0.313043  0.818182    0.411887\n",
       "94    0.310345  0.818182    0.411027\n",
       "93    0.307692  0.818182    0.409730\n",
       "92    0.305085  0.818182    0.408713\n",
       "91    0.302521  0.818182    0.405903\n",
       "90    0.300000  0.818182    0.405252\n",
       "89    0.297521  0.818182    0.405250\n",
       "88    0.295082  0.818182    0.404987\n",
       "84    0.293651  0.840909    0.401728\n",
       "87    0.292683  0.818182    0.404652\n",
       "86    0.290323  0.818182    0.403122\n",
       "85    0.288000  0.818182    0.402478"
      ]
     },
     "execution_count": 55,
     "metadata": {},
     "output_type": "execute_result"
    }
   ],
   "source": [
    "pr_rfc_df[pr_rfc_df['Recall'].between(0.6, 0.85)].sort_values('Precision', ascending=False)"
   ]
  },
  {
   "cell_type": "code",
   "execution_count": 110,
   "metadata": {
    "scrolled": false
   },
   "outputs": [
    {
     "name": "stdout",
     "output_type": "stream",
     "text": [
      "              precision    recall  f1-score   support\n",
      "\n",
      "           0       0.95      0.68      0.79       214\n",
      "           1       0.35      0.82      0.49        44\n",
      "\n",
      "    accuracy                           0.71       258\n",
      "   macro avg       0.65      0.75      0.64       258\n",
      "weighted avg       0.85      0.71      0.74       258\n",
      "\n"
     ]
    },
    {
     "data": {
      "image/png": "[encoded data removed]",
      "text/plain": [
       "<Figure size 1152x432 with 2 Axes>"
      ]
     },
     "metadata": {},
     "output_type": "display_data"
    }
   ],
   "source": [
    "thr_rfc = 0.429879\n",
    "y_pred_thr_rfc = np.where(rfc_tuned.predict_proba(X_test)[:,1] > thr_rfc, 1, 0)\n",
    "print(classification_report(y_test, y_pred_thr_rfc))\n",
    "\n",
    "thr_rfc_df = pd.DataFrame(dict(zip(['label', 'prob1', 'label_043'], [y_pred_thr_rfc, rfc_tuned.predict_proba(X_test)[:,1], rfc_tuned.predict(X_test)])))\n",
    "plt.figure(figsize=(16,6))\n",
    "plt.subplot(121)\n",
    "plt.title(f'Threshold moved to: {thr_rfc}')\n",
    "sns.scatterplot(x=thr_rfc_df.index, y=thr_rfc_df['prob1'], hue=thr_rfc_df['label'], palette='YlGnBu')\n",
    "plt.axhline(thr_rfc, color='red')\n",
    "plt.legend(loc='upper right')\n",
    "\n",
    "plt.subplot(122)\n",
    "plt.title('Default Threshold: 0.5')\n",
    "sns.scatterplot(x=thr_rfc_df.index, y=thr_rfc_df['prob1'], hue=thr_rfc_df['label_043'], palette='YlGnBu')\n",
    "plt.axhline(0.5, color='red')\n",
    "plt.legend(loc='upper right')\n",
    "\n",
    "plt.show()"
   ]
  },
  {
   "cell_type": "code",
   "execution_count": 116,
   "metadata": {},
   "outputs": [
    {
     "data": {
      "text/html": [
       "<div>\n",
       "<style scoped>\n",
       "    .dataframe tbody tr th:only-of-type {\n",
       "        vertical-align: middle;\n",
       "    }\n",
       "\n",
       "    .dataframe tbody tr th {\n",
       "        vertical-align: top;\n",
       "    }\n",
       "\n",
       "    .dataframe thead th {\n",
       "        text-align: right;\n",
       "    }\n",
       "</style>\n",
       "<table border=\"1\" class=\"dataframe\">\n",
       "  <thead>\n",
       "    <tr style=\"text-align: right;\">\n",
       "      <th></th>\n",
       "      <th>label</th>\n",
       "      <th>prob1</th>\n",
       "      <th>label_043</th>\n",
       "    </tr>\n",
       "  </thead>\n",
       "  <tbody>\n",
       "    <tr>\n",
       "      <th>0</th>\n",
       "      <td>0</td>\n",
       "      <td>0.373476</td>\n",
       "      <td>0</td>\n",
       "    </tr>\n",
       "    <tr>\n",
       "      <th>1</th>\n",
       "      <td>0</td>\n",
       "      <td>0.306295</td>\n",
       "      <td>0</td>\n",
       "    </tr>\n",
       "    <tr>\n",
       "      <th>2</th>\n",
       "      <td>0</td>\n",
       "      <td>0.310957</td>\n",
       "      <td>0</td>\n",
       "    </tr>\n",
       "    <tr>\n",
       "      <th>3</th>\n",
       "      <td>0</td>\n",
       "      <td>0.328079</td>\n",
       "      <td>0</td>\n",
       "    </tr>\n",
       "    <tr>\n",
       "      <th>4</th>\n",
       "      <td>0</td>\n",
       "      <td>0.403122</td>\n",
       "      <td>0</td>\n",
       "    </tr>\n",
       "    <tr>\n",
       "      <th>...</th>\n",
       "      <td>...</td>\n",
       "      <td>...</td>\n",
       "      <td>...</td>\n",
       "    </tr>\n",
       "    <tr>\n",
       "      <th>253</th>\n",
       "      <td>0</td>\n",
       "      <td>0.318534</td>\n",
       "      <td>0</td>\n",
       "    </tr>\n",
       "    <tr>\n",
       "      <th>254</th>\n",
       "      <td>0</td>\n",
       "      <td>0.379078</td>\n",
       "      <td>0</td>\n",
       "    </tr>\n",
       "    <tr>\n",
       "      <th>255</th>\n",
       "      <td>0</td>\n",
       "      <td>0.246153</td>\n",
       "      <td>0</td>\n",
       "    </tr>\n",
       "    <tr>\n",
       "      <th>256</th>\n",
       "      <td>1</td>\n",
       "      <td>0.551060</td>\n",
       "      <td>1</td>\n",
       "    </tr>\n",
       "    <tr>\n",
       "      <th>257</th>\n",
       "      <td>1</td>\n",
       "      <td>0.480828</td>\n",
       "      <td>0</td>\n",
       "    </tr>\n",
       "  </tbody>\n",
       "</table>\n",
       "<p>258 rows × 3 columns</p>\n",
       "</div>"
      ],
      "text/plain": [
       "     label     prob1  label_043\n",
       "0        0  0.373476          0\n",
       "1        0  0.306295          0\n",
       "2        0  0.310957          0\n",
       "3        0  0.328079          0\n",
       "4        0  0.403122          0\n",
       "..     ...       ...        ...\n",
       "253      0  0.318534          0\n",
       "254      0  0.379078          0\n",
       "255      0  0.246153          0\n",
       "256      1  0.551060          1\n",
       "257      1  0.480828          0\n",
       "\n",
       "[258 rows x 3 columns]"
      ]
     },
     "execution_count": 116,
     "metadata": {},
     "output_type": "execute_result"
    }
   ],
   "source": [
    "thr_rfc_df"
   ]
  },
  {
   "cell_type": "code",
   "execution_count": 57,
   "metadata": {
    "scrolled": false
   },
   "outputs": [
    {
     "data": {
      "text/html": [
       "<div>\n",
       "<style scoped>\n",
       "    .dataframe tbody tr th:only-of-type {\n",
       "        vertical-align: middle;\n",
       "    }\n",
       "\n",
       "    .dataframe tbody tr th {\n",
       "        vertical-align: top;\n",
       "    }\n",
       "\n",
       "    .dataframe thead th {\n",
       "        text-align: right;\n",
       "    }\n",
       "</style>\n",
       "<table border=\"1\" class=\"dataframe\">\n",
       "  <thead>\n",
       "    <tr style=\"text-align: right;\">\n",
       "      <th></th>\n",
       "      <th>prediction_0</th>\n",
       "      <th>prediction_1</th>\n",
       "      <th>total_actual</th>\n",
       "    </tr>\n",
       "  </thead>\n",
       "  <tbody>\n",
       "    <tr>\n",
       "      <th>actual_0</th>\n",
       "      <td>146</td>\n",
       "      <td>68</td>\n",
       "      <td>214</td>\n",
       "    </tr>\n",
       "    <tr>\n",
       "      <th>actual_1</th>\n",
       "      <td>8</td>\n",
       "      <td>36</td>\n",
       "      <td>44</td>\n",
       "    </tr>\n",
       "    <tr>\n",
       "      <th>total_prediction</th>\n",
       "      <td>154</td>\n",
       "      <td>104</td>\n",
       "      <td>258</td>\n",
       "    </tr>\n",
       "  </tbody>\n",
       "</table>\n",
       "</div>"
      ],
      "text/plain": [
       "                  prediction_0  prediction_1  total_actual\n",
       "actual_0                   146            68           214\n",
       "actual_1                     8            36            44\n",
       "total_prediction           154           104           258"
      ]
     },
     "execution_count": 57,
     "metadata": {},
     "output_type": "execute_result"
    }
   ],
   "source": [
    "make_confusion_matrix(confusion_matrix(y_test, y_pred_thr_rfc))"
   ]
  },
  {
   "cell_type": "markdown",
   "metadata": {},
   "source": [
    "__Note :__ Berdasarkan hasil model improvement untuk Random Forest, didapatkan peningkatan nilai recall. Penggeseran threshold yang dilakukan pun tidak terlalu jauh dari threshold awal, yaitu bergeser menjadi 0,43. Hal tersebut membuat model improvement dapat diterapkan."
   ]
  },
  {
   "cell_type": "markdown",
   "metadata": {},
   "source": [
    "# Gradient Boosting  Model Performances"
   ]
  },
  {
   "cell_type": "markdown",
   "metadata": {},
   "source": [
    "> # Gradient Boosting Pipeline"
   ]
  },
  {
   "cell_type": "code",
   "execution_count": 58,
   "metadata": {},
   "outputs": [],
   "source": [
    "# For numeric columns \n",
    "gbc_pipe_num = Pipeline([\n",
    "    ('imputer', SimpleImputer(strategy='median')) # For Age & DistanceFromHome\n",
    "])\n",
    "\n",
    "# For category nominal columns\n",
    "gbc_pipe_cat = Pipeline([\n",
    "    ('imputer', SimpleImputer(strategy='most_frequent')), # For BusinessTravel & Maritalstatus\n",
    "    ('onehot', OneHotEncoder(drop='first')),\n",
    "])\n",
    "\n",
    "# Transforming all columns\n",
    "gbc_transformer = ColumnTransformer([\n",
    "    ('pipe_num', gbc_pipe_num, num_cols),\n",
    "    ('onehot', gbc_pipe_cat, cat_cols), \n",
    "], remainder='passthrough')\n",
    "\n",
    "# Combine all pipelines\n",
    "gbc_pipe_all = Pipeline([\n",
    "    ('transformer', gbc_transformer),\n",
    "    ('rfe', RFE(gbc)),\n",
    "    ('gbc', gbc)\n",
    "])\n",
    "\n",
    "# Combine all pipelines\n",
    "gbc_pipe_all_smo = Pipeline([\n",
    "    ('transformer', gbc_transformer),\n",
    "    ('rfe', RFE(gbc)),\n",
    "    ('resampling', SMOTE(random_state=77)),\n",
    "    ('gbc', gbc)\n",
    "])"
   ]
  },
  {
   "cell_type": "markdown",
   "metadata": {},
   "source": [
    "> # Gradient Boosting Benchmark Model Performance"
   ]
  },
  {
   "cell_type": "code",
   "execution_count": 59,
   "metadata": {},
   "outputs": [],
   "source": [
    "skfold = StratifiedKFold(n_splits = 5, random_state=77, shuffle=True)\n",
    "gbc_score = cross_val_score(gbc_pipe_all, X_train_val, y_train_val, scoring='recall', cv=skfold, n_jobs=-1)\n",
    "gbc_smo_score = cross_val_score(gbc_pipe_all_smo, X_train_val, y_train_val, scoring='recall', cv=skfold, n_jobs=-1)"
   ]
  },
  {
   "cell_type": "code",
   "execution_count": 96,
   "metadata": {},
   "outputs": [
    {
     "name": "stdout",
     "output_type": "stream",
     "text": [
      "CV Gradient Boosting : [0.40740741 0.37037037 0.38461538 0.23076923 0.42307692]\n",
      "CV Gradient Boosting Resampling : [0.37037037 0.37037037 0.53846154 0.30769231 0.46153846]\n"
     ]
    }
   ],
   "source": [
    "print('CV Gradient Boosting :', gbc_score)\n",
    "print('CV Gradient Boosting Resampling :', gbc_smo_score)"
   ]
  },
  {
   "cell_type": "code",
   "execution_count": 97,
   "metadata": {
    "scrolled": true
   },
   "outputs": [
    {
     "name": "stdout",
     "output_type": "stream",
     "text": [
      "CV Gradient Boosting : 0.36324786324786323\n",
      "CV Gradient Boosting Resampling : 0.4096866096866097\n"
     ]
    }
   ],
   "source": [
    "print('CV Gradient Boosting :', gbc_score.mean())\n",
    "print('CV Gradient Boosting Resampling :', gbc_smo_score.mean())"
   ]
  },
  {
   "cell_type": "code",
   "execution_count": 62,
   "metadata": {
    "scrolled": true
   },
   "outputs": [],
   "source": [
    "gbc_default = gbc_pipe_all.fit(X_train_val, y_train_val)\n",
    "y_pred_gbc_default = gbc_default.predict(X_test) "
   ]
  },
  {
   "cell_type": "code",
   "execution_count": 63,
   "metadata": {
    "scrolled": true
   },
   "outputs": [
    {
     "name": "stdout",
     "output_type": "stream",
     "text": [
      "Report for Gradient Boosting Benchmark : \n",
      "\n",
      "              precision    recall  f1-score   support\n",
      "\n",
      "           0       0.89      0.91      0.90       214\n",
      "           1       0.53      0.48      0.50        44\n",
      "\n",
      "    accuracy                           0.84       258\n",
      "   macro avg       0.71      0.69      0.70       258\n",
      "weighted avg       0.83      0.84      0.83       258\n",
      "\n"
     ]
    }
   ],
   "source": [
    "print('Report for Gradient Boosting Benchmark : \\n')\n",
    "print(classification_report(y_test, y_pred_gbc_default))"
   ]
  },
  {
   "cell_type": "code",
   "execution_count": 64,
   "metadata": {},
   "outputs": [],
   "source": [
    "gbc_default_smo = gbc_pipe_all_smo.fit(X_train_val, y_train_val)\n",
    "y_pred_gbc_default_smo = gbc_default_smo.predict(X_test) "
   ]
  },
  {
   "cell_type": "code",
   "execution_count": 65,
   "metadata": {
    "scrolled": true
   },
   "outputs": [
    {
     "name": "stdout",
     "output_type": "stream",
     "text": [
      "Report for Gradient Boosting Resampling : \n",
      "\n",
      "              precision    recall  f1-score   support\n",
      "\n",
      "           0       0.87      0.87      0.87       214\n",
      "           1       0.39      0.39      0.39        44\n",
      "\n",
      "    accuracy                           0.79       258\n",
      "   macro avg       0.63      0.63      0.63       258\n",
      "weighted avg       0.79      0.79      0.79       258\n",
      "\n"
     ]
    }
   ],
   "source": [
    "print('Report for Gradient Boosting Resampling : \\n')\n",
    "print(classification_report(y_test, y_pred_gbc_default_smo))"
   ]
  },
  {
   "cell_type": "markdown",
   "metadata": {},
   "source": [
    "__Note :__ Berdasarkan classification report model yang dipilih adalah Grradient Boosting tanpa Resampling."
   ]
  },
  {
   "cell_type": "markdown",
   "metadata": {},
   "source": [
    "> # Gradient Boosting Hyperparameter Tuned Model Performance"
   ]
  },
  {
   "cell_type": "code",
   "execution_count": 66,
   "metadata": {
    "scrolled": false
   },
   "outputs": [
    {
     "data": {
      "text/plain": [
       "{'memory': None,\n",
       " 'steps': [('transformer',\n",
       "   ColumnTransformer(remainder='passthrough',\n",
       "                     transformers=[('pipe_num',\n",
       "                                    Pipeline(steps=[('imputer',\n",
       "                                                     SimpleImputer(strategy='median'))]),\n",
       "                                    ['Age', 'DistanceFromHome', 'MonthlyIncome',\n",
       "                                     'MonthlyRate', 'NumCompaniesWorked',\n",
       "                                     'PercentSalaryHike', 'TotalWorkingYears',\n",
       "                                     'TrainingTimesLastYear', 'YearsAtCompany',\n",
       "                                     'YearsInCurrentRole',\n",
       "                                     'YearsSinceLastPromotion',\n",
       "                                     'YearsWithCurrManager']),\n",
       "                                   ('onehot',\n",
       "                                    Pipeline(steps=[('imputer',\n",
       "                                                     SimpleImputer(strategy='most_frequent')),\n",
       "                                                    ('onehot',\n",
       "                                                     OneHotEncoder(drop='first'))]),\n",
       "                                    Index(['BusinessTravel', 'Department', 'EducationField', 'Gender', 'JobRole',\n",
       "          'MaritalStatus', 'OverTime'],\n",
       "         dtype='object'))])),\n",
       "  ('rfe',\n",
       "   RFE(estimator=GradientBoostingClassifier(max_depth=10, random_state=77))),\n",
       "  ('gbc', GradientBoostingClassifier(max_depth=10, random_state=77))],\n",
       " 'verbose': False,\n",
       " 'transformer': ColumnTransformer(remainder='passthrough',\n",
       "                   transformers=[('pipe_num',\n",
       "                                  Pipeline(steps=[('imputer',\n",
       "                                                   SimpleImputer(strategy='median'))]),\n",
       "                                  ['Age', 'DistanceFromHome', 'MonthlyIncome',\n",
       "                                   'MonthlyRate', 'NumCompaniesWorked',\n",
       "                                   'PercentSalaryHike', 'TotalWorkingYears',\n",
       "                                   'TrainingTimesLastYear', 'YearsAtCompany',\n",
       "                                   'YearsInCurrentRole',\n",
       "                                   'YearsSinceLastPromotion',\n",
       "                                   'YearsWithCurrManager']),\n",
       "                                 ('onehot',\n",
       "                                  Pipeline(steps=[('imputer',\n",
       "                                                   SimpleImputer(strategy='most_frequent')),\n",
       "                                                  ('onehot',\n",
       "                                                   OneHotEncoder(drop='first'))]),\n",
       "                                  Index(['BusinessTravel', 'Department', 'EducationField', 'Gender', 'JobRole',\n",
       "        'MaritalStatus', 'OverTime'],\n",
       "       dtype='object'))]),\n",
       " 'rfe': RFE(estimator=GradientBoostingClassifier(max_depth=10, random_state=77)),\n",
       " 'gbc': GradientBoostingClassifier(max_depth=10, random_state=77),\n",
       " 'transformer__n_jobs': None,\n",
       " 'transformer__remainder': 'passthrough',\n",
       " 'transformer__sparse_threshold': 0.3,\n",
       " 'transformer__transformer_weights': None,\n",
       " 'transformer__transformers': [('pipe_num',\n",
       "   Pipeline(steps=[('imputer', SimpleImputer(strategy='median'))]),\n",
       "   ['Age',\n",
       "    'DistanceFromHome',\n",
       "    'MonthlyIncome',\n",
       "    'MonthlyRate',\n",
       "    'NumCompaniesWorked',\n",
       "    'PercentSalaryHike',\n",
       "    'TotalWorkingYears',\n",
       "    'TrainingTimesLastYear',\n",
       "    'YearsAtCompany',\n",
       "    'YearsInCurrentRole',\n",
       "    'YearsSinceLastPromotion',\n",
       "    'YearsWithCurrManager']),\n",
       "  ('onehot',\n",
       "   Pipeline(steps=[('imputer', SimpleImputer(strategy='most_frequent')),\n",
       "                   ('onehot', OneHotEncoder(drop='first'))]),\n",
       "   Index(['BusinessTravel', 'Department', 'EducationField', 'Gender', 'JobRole',\n",
       "          'MaritalStatus', 'OverTime'],\n",
       "         dtype='object'))],\n",
       " 'transformer__verbose': False,\n",
       " 'transformer__pipe_num': Pipeline(steps=[('imputer', SimpleImputer(strategy='median'))]),\n",
       " 'transformer__onehot': Pipeline(steps=[('imputer', SimpleImputer(strategy='most_frequent')),\n",
       "                 ('onehot', OneHotEncoder(drop='first'))]),\n",
       " 'transformer__pipe_num__memory': None,\n",
       " 'transformer__pipe_num__steps': [('imputer',\n",
       "   SimpleImputer(strategy='median'))],\n",
       " 'transformer__pipe_num__verbose': False,\n",
       " 'transformer__pipe_num__imputer': SimpleImputer(strategy='median'),\n",
       " 'transformer__pipe_num__imputer__add_indicator': False,\n",
       " 'transformer__pipe_num__imputer__copy': True,\n",
       " 'transformer__pipe_num__imputer__fill_value': None,\n",
       " 'transformer__pipe_num__imputer__missing_values': nan,\n",
       " 'transformer__pipe_num__imputer__strategy': 'median',\n",
       " 'transformer__pipe_num__imputer__verbose': 0,\n",
       " 'transformer__onehot__memory': None,\n",
       " 'transformer__onehot__steps': [('imputer',\n",
       "   SimpleImputer(strategy='most_frequent')),\n",
       "  ('onehot', OneHotEncoder(drop='first'))],\n",
       " 'transformer__onehot__verbose': False,\n",
       " 'transformer__onehot__imputer': SimpleImputer(strategy='most_frequent'),\n",
       " 'transformer__onehot__onehot': OneHotEncoder(drop='first'),\n",
       " 'transformer__onehot__imputer__add_indicator': False,\n",
       " 'transformer__onehot__imputer__copy': True,\n",
       " 'transformer__onehot__imputer__fill_value': None,\n",
       " 'transformer__onehot__imputer__missing_values': nan,\n",
       " 'transformer__onehot__imputer__strategy': 'most_frequent',\n",
       " 'transformer__onehot__imputer__verbose': 0,\n",
       " 'transformer__onehot__onehot__categories': 'auto',\n",
       " 'transformer__onehot__onehot__drop': 'first',\n",
       " 'transformer__onehot__onehot__dtype': numpy.float64,\n",
       " 'transformer__onehot__onehot__handle_unknown': 'error',\n",
       " 'transformer__onehot__onehot__sparse': True,\n",
       " 'rfe__estimator__ccp_alpha': 0.0,\n",
       " 'rfe__estimator__criterion': 'friedman_mse',\n",
       " 'rfe__estimator__init': None,\n",
       " 'rfe__estimator__learning_rate': 0.1,\n",
       " 'rfe__estimator__loss': 'deviance',\n",
       " 'rfe__estimator__max_depth': 10,\n",
       " 'rfe__estimator__max_features': None,\n",
       " 'rfe__estimator__max_leaf_nodes': None,\n",
       " 'rfe__estimator__min_impurity_decrease': 0.0,\n",
       " 'rfe__estimator__min_impurity_split': None,\n",
       " 'rfe__estimator__min_samples_leaf': 1,\n",
       " 'rfe__estimator__min_samples_split': 2,\n",
       " 'rfe__estimator__min_weight_fraction_leaf': 0.0,\n",
       " 'rfe__estimator__n_estimators': 100,\n",
       " 'rfe__estimator__n_iter_no_change': None,\n",
       " 'rfe__estimator__presort': 'deprecated',\n",
       " 'rfe__estimator__random_state': 77,\n",
       " 'rfe__estimator__subsample': 1.0,\n",
       " 'rfe__estimator__tol': 0.0001,\n",
       " 'rfe__estimator__validation_fraction': 0.1,\n",
       " 'rfe__estimator__verbose': 0,\n",
       " 'rfe__estimator__warm_start': False,\n",
       " 'rfe__estimator': GradientBoostingClassifier(max_depth=10, random_state=77),\n",
       " 'rfe__n_features_to_select': None,\n",
       " 'rfe__step': 1,\n",
       " 'rfe__verbose': 0,\n",
       " 'gbc__ccp_alpha': 0.0,\n",
       " 'gbc__criterion': 'friedman_mse',\n",
       " 'gbc__init': None,\n",
       " 'gbc__learning_rate': 0.1,\n",
       " 'gbc__loss': 'deviance',\n",
       " 'gbc__max_depth': 10,\n",
       " 'gbc__max_features': None,\n",
       " 'gbc__max_leaf_nodes': None,\n",
       " 'gbc__min_impurity_decrease': 0.0,\n",
       " 'gbc__min_impurity_split': None,\n",
       " 'gbc__min_samples_leaf': 1,\n",
       " 'gbc__min_samples_split': 2,\n",
       " 'gbc__min_weight_fraction_leaf': 0.0,\n",
       " 'gbc__n_estimators': 100,\n",
       " 'gbc__n_iter_no_change': None,\n",
       " 'gbc__presort': 'deprecated',\n",
       " 'gbc__random_state': 77,\n",
       " 'gbc__subsample': 1.0,\n",
       " 'gbc__tol': 0.0001,\n",
       " 'gbc__validation_fraction': 0.1,\n",
       " 'gbc__verbose': 0,\n",
       " 'gbc__warm_start': False}"
      ]
     },
     "execution_count": 66,
     "metadata": {},
     "output_type": "execute_result"
    }
   ],
   "source": [
    "gbc_pipe_all.get_params()"
   ]
  },
  {
   "cell_type": "code",
   "execution_count": 67,
   "metadata": {
    "scrolled": false
   },
   "outputs": [
    {
     "name": "stdout",
     "output_type": "stream",
     "text": [
      "Fitting 5 folds for each of 72 candidates, totalling 360 fits\n"
     ]
    },
    {
     "name": "stderr",
     "output_type": "stream",
     "text": [
      "[Parallel(n_jobs=-1)]: Using backend LokyBackend with 4 concurrent workers.\n",
      "[Parallel(n_jobs=-1)]: Done  42 tasks      | elapsed:  6.4min\n",
      "[Parallel(n_jobs=-1)]: Done 192 tasks      | elapsed: 26.6min\n",
      "[Parallel(n_jobs=-1)]: Done 360 out of 360 | elapsed: 49.2min finished\n"
     ]
    },
    {
     "data": {
      "text/plain": [
       "GridSearchCV(cv=StratifiedKFold(n_splits=5, random_state=77, shuffle=True),\n",
       "             estimator=Pipeline(steps=[('transformer',\n",
       "                                        ColumnTransformer(remainder='passthrough',\n",
       "                                                          transformers=[('pipe_num',\n",
       "                                                                         Pipeline(steps=[('imputer',\n",
       "                                                                                          SimpleImputer(strategy='median'))]),\n",
       "                                                                         ['Age',\n",
       "                                                                          'DistanceFromHome',\n",
       "                                                                          'MonthlyIncome',\n",
       "                                                                          'MonthlyRate',\n",
       "                                                                          'NumCompaniesWorked',\n",
       "                                                                          'PercentSalaryHike',\n",
       "                                                                          'TotalWo...\n",
       "                                       ('rfe',\n",
       "                                        RFE(estimator=GradientBoostingClassifier(max_depth=10,\n",
       "                                                                                 random_state=77))),\n",
       "                                       ('gbc',\n",
       "                                        GradientBoostingClassifier(max_depth=10,\n",
       "                                                                   random_state=77))]),\n",
       "             n_jobs=-1,\n",
       "             param_grid={'gbc__learning_rate': [0.1, 0.5],\n",
       "                         'gbc__max_depth': [6, 8, 10],\n",
       "                         'gbc__min_samples_leaf': [75, 100],\n",
       "                         'gbc__min_samples_split': [200, 400],\n",
       "                         'gbc__n_estimators': [100, 200, 300]},\n",
       "             scoring='recall', verbose=1)"
      ]
     },
     "execution_count": 67,
     "metadata": {},
     "output_type": "execute_result"
    }
   ],
   "source": [
    "gbc_params = {\n",
    "    'gbc__learning_rate': [0.1, 0.5],\n",
    "    'gbc__max_depth' : [6, 8, 10],\n",
    "    'gbc__min_samples_split': [200, 400],\n",
    "    'gbc__min_samples_leaf': [75, 100],\n",
    "    'gbc__n_estimators': [100, 200, 300]\n",
    "}\n",
    "\n",
    "skfold = StratifiedKFold(n_splits = 5, random_state=77, shuffle=True)\n",
    "\n",
    "grid_gbc = GridSearchCV(\n",
    "    gbc_pipe_all, # model yang mau di tune\n",
    "    param_grid = gbc_params, # hyperparameter option\n",
    "    cv = skfold, # evaluation method\n",
    "    scoring = 'recall', # metrics\n",
    "    n_jobs = -1,\n",
    "    verbose = 1\n",
    ")\n",
    "\n",
    "grid_gbc.fit(X_train_val, y_train_val)"
   ]
  },
  {
   "cell_type": "code",
   "execution_count": 68,
   "metadata": {},
   "outputs": [
    {
     "data": {
      "text/plain": [
       "{'gbc__learning_rate': 0.5,\n",
       " 'gbc__max_depth': 6,\n",
       " 'gbc__min_samples_leaf': 100,\n",
       " 'gbc__min_samples_split': 400,\n",
       " 'gbc__n_estimators': 300}"
      ]
     },
     "execution_count": 68,
     "metadata": {},
     "output_type": "execute_result"
    }
   ],
   "source": [
    "grid_gbc.best_params_"
   ]
  },
  {
   "cell_type": "code",
   "execution_count": 69,
   "metadata": {},
   "outputs": [],
   "source": [
    "gbc_tuned = grid_gbc.best_estimator_.fit(X_train_val, y_train_val)\n",
    "y_pred_gbc_tuned = gbc_tuned.predict(X_test)"
   ]
  },
  {
   "cell_type": "code",
   "execution_count": 98,
   "metadata": {
    "scrolled": true
   },
   "outputs": [
    {
     "name": "stdout",
     "output_type": "stream",
     "text": [
      "Report for Gradient Boosting Tuned : \n",
      "\n",
      "              precision    recall  f1-score   support\n",
      "\n",
      "           0       0.89      0.92      0.90       214\n",
      "           1       0.51      0.43      0.47        44\n",
      "\n",
      "    accuracy                           0.83       258\n",
      "   macro avg       0.70      0.67      0.69       258\n",
      "weighted avg       0.82      0.83      0.83       258\n",
      "\n"
     ]
    }
   ],
   "source": [
    "print('Report for Gradient Boosting Tuned : \\n')\n",
    "print(classification_report(y_test, y_pred_gbc_tuned))"
   ]
  },
  {
   "cell_type": "markdown",
   "metadata": {},
   "source": [
    "__Note :__ Setelah melakukan hyperparameter tuning, terjadi peningkatan nilai Recall dibandingkan Benchmark Model."
   ]
  },
  {
   "cell_type": "code",
   "execution_count": 71,
   "metadata": {},
   "outputs": [
    {
     "data": {
      "text/plain": [
       "<sklearn.metrics._plot.roc_curve.RocCurveDisplay at 0x25f7c52e100>"
      ]
     },
     "execution_count": 71,
     "metadata": {},
     "output_type": "execute_result"
    },
    {
     "data": {
      "image/png": "[encoded data removed]",
      "text/plain": [
       "<Figure size 576x396 with 1 Axes>"
      ]
     },
     "metadata": {},
     "output_type": "display_data"
    }
   ],
   "source": [
    "plot_roc_curve(gbc_tuned, X_test, y_test)"
   ]
  },
  {
   "cell_type": "code",
   "execution_count": 72,
   "metadata": {
    "scrolled": false
   },
   "outputs": [
    {
     "data": {
      "text/plain": [
       "<sklearn.metrics._plot.precision_recall_curve.PrecisionRecallDisplay at 0x25f7da1b070>"
      ]
     },
     "execution_count": 72,
     "metadata": {},
     "output_type": "execute_result"
    },
    {
     "data": {
      "image/png": "[encoded data removed]",
      "text/plain": [
       "<Figure size 576x396 with 1 Axes>"
      ]
     },
     "metadata": {},
     "output_type": "display_data"
    }
   ],
   "source": [
    "plot_precision_recall_curve(gbc_tuned, X_test, y_test)"
   ]
  },
  {
   "cell_type": "code",
   "execution_count": null,
   "metadata": {},
   "outputs": [],
   "source": [
    "pr_score = average_precision_score()"
   ]
  },
  {
   "cell_type": "code",
   "execution_count": 73,
   "metadata": {
    "scrolled": false
   },
   "outputs": [
    {
     "data": {
      "text/plain": [
       "<sklearn.metrics._plot.confusion_matrix.ConfusionMatrixDisplay at 0x25f7c06a790>"
      ]
     },
     "execution_count": 73,
     "metadata": {},
     "output_type": "execute_result"
    },
    {
     "data": {
      "image/png": "[encoded data removed]",
      "text/plain": [
       "<Figure size 576x396 with 2 Axes>"
      ]
     },
     "metadata": {},
     "output_type": "display_data"
    }
   ],
   "source": [
    "plot_confusion_matrix(gbc_tuned, X_test, y_test, cmap='YlGnBu')"
   ]
  },
  {
   "cell_type": "code",
   "execution_count": 74,
   "metadata": {
    "scrolled": true
   },
   "outputs": [
    {
     "data": {
      "text/html": [
       "<div>\n",
       "<style scoped>\n",
       "    .dataframe tbody tr th:only-of-type {\n",
       "        vertical-align: middle;\n",
       "    }\n",
       "\n",
       "    .dataframe tbody tr th {\n",
       "        vertical-align: top;\n",
       "    }\n",
       "\n",
       "    .dataframe thead th {\n",
       "        text-align: right;\n",
       "    }\n",
       "</style>\n",
       "<table border=\"1\" class=\"dataframe\">\n",
       "  <thead>\n",
       "    <tr style=\"text-align: right;\">\n",
       "      <th></th>\n",
       "      <th>prediction_0</th>\n",
       "      <th>prediction_1</th>\n",
       "      <th>total_actual</th>\n",
       "    </tr>\n",
       "  </thead>\n",
       "  <tbody>\n",
       "    <tr>\n",
       "      <th>actual_0</th>\n",
       "      <td>196</td>\n",
       "      <td>18</td>\n",
       "      <td>214</td>\n",
       "    </tr>\n",
       "    <tr>\n",
       "      <th>actual_1</th>\n",
       "      <td>25</td>\n",
       "      <td>19</td>\n",
       "      <td>44</td>\n",
       "    </tr>\n",
       "    <tr>\n",
       "      <th>total_prediction</th>\n",
       "      <td>221</td>\n",
       "      <td>37</td>\n",
       "      <td>258</td>\n",
       "    </tr>\n",
       "  </tbody>\n",
       "</table>\n",
       "</div>"
      ],
      "text/plain": [
       "                  prediction_0  prediction_1  total_actual\n",
       "actual_0                   196            18           214\n",
       "actual_1                    25            19            44\n",
       "total_prediction           221            37           258"
      ]
     },
     "execution_count": 74,
     "metadata": {},
     "output_type": "execute_result"
    }
   ],
   "source": [
    "make_confusion_matrix(confusion_matrix(y_test, y_pred_gbc_tuned))"
   ]
  },
  {
   "cell_type": "markdown",
   "metadata": {},
   "source": [
    "> # Gradient Boosting Model Improvement \n",
    "Model improvement merupakan upaya untuk meningkatkan nilai Recall dengan cara menggeser threshold. Model improvement dilakukan pada Gradient Boosting Hyperparameter Tuned Model."
   ]
  },
  {
   "cell_type": "code",
   "execution_count": 75,
   "metadata": {},
   "outputs": [
    {
     "data": {
      "text/html": [
       "<div>\n",
       "<style scoped>\n",
       "    .dataframe tbody tr th:only-of-type {\n",
       "        vertical-align: middle;\n",
       "    }\n",
       "\n",
       "    .dataframe tbody tr th {\n",
       "        vertical-align: top;\n",
       "    }\n",
       "\n",
       "    .dataframe thead th {\n",
       "        text-align: right;\n",
       "    }\n",
       "</style>\n",
       "<table border=\"1\" class=\"dataframe\">\n",
       "  <thead>\n",
       "    <tr style=\"text-align: right;\">\n",
       "      <th></th>\n",
       "      <th>Precision</th>\n",
       "      <th>Recall</th>\n",
       "      <th>Thresholds</th>\n",
       "    </tr>\n",
       "  </thead>\n",
       "  <tbody>\n",
       "    <tr>\n",
       "      <th>0</th>\n",
       "      <td>0.171875</td>\n",
       "      <td>1.000000</td>\n",
       "      <td>0.000025</td>\n",
       "    </tr>\n",
       "    <tr>\n",
       "      <th>1</th>\n",
       "      <td>0.168627</td>\n",
       "      <td>0.977273</td>\n",
       "      <td>0.000026</td>\n",
       "    </tr>\n",
       "    <tr>\n",
       "      <th>2</th>\n",
       "      <td>0.169291</td>\n",
       "      <td>0.977273</td>\n",
       "      <td>0.000047</td>\n",
       "    </tr>\n",
       "    <tr>\n",
       "      <th>3</th>\n",
       "      <td>0.169960</td>\n",
       "      <td>0.977273</td>\n",
       "      <td>0.000047</td>\n",
       "    </tr>\n",
       "    <tr>\n",
       "      <th>4</th>\n",
       "      <td>0.170635</td>\n",
       "      <td>0.977273</td>\n",
       "      <td>0.000050</td>\n",
       "    </tr>\n",
       "    <tr>\n",
       "      <th>...</th>\n",
       "      <td>...</td>\n",
       "      <td>...</td>\n",
       "      <td>...</td>\n",
       "    </tr>\n",
       "    <tr>\n",
       "      <th>251</th>\n",
       "      <td>0.800000</td>\n",
       "      <td>0.090909</td>\n",
       "      <td>0.987901</td>\n",
       "    </tr>\n",
       "    <tr>\n",
       "      <th>252</th>\n",
       "      <td>1.000000</td>\n",
       "      <td>0.090909</td>\n",
       "      <td>0.995034</td>\n",
       "    </tr>\n",
       "    <tr>\n",
       "      <th>253</th>\n",
       "      <td>1.000000</td>\n",
       "      <td>0.068182</td>\n",
       "      <td>0.995064</td>\n",
       "    </tr>\n",
       "    <tr>\n",
       "      <th>254</th>\n",
       "      <td>1.000000</td>\n",
       "      <td>0.045455</td>\n",
       "      <td>0.995577</td>\n",
       "    </tr>\n",
       "    <tr>\n",
       "      <th>255</th>\n",
       "      <td>1.000000</td>\n",
       "      <td>0.022727</td>\n",
       "      <td>0.998096</td>\n",
       "    </tr>\n",
       "  </tbody>\n",
       "</table>\n",
       "<p>256 rows × 3 columns</p>\n",
       "</div>"
      ],
      "text/plain": [
       "     Precision    Recall  Thresholds\n",
       "0     0.171875  1.000000    0.000025\n",
       "1     0.168627  0.977273    0.000026\n",
       "2     0.169291  0.977273    0.000047\n",
       "3     0.169960  0.977273    0.000047\n",
       "4     0.170635  0.977273    0.000050\n",
       "..         ...       ...         ...\n",
       "251   0.800000  0.090909    0.987901\n",
       "252   1.000000  0.090909    0.995034\n",
       "253   1.000000  0.068182    0.995064\n",
       "254   1.000000  0.045455    0.995577\n",
       "255   1.000000  0.022727    0.998096\n",
       "\n",
       "[256 rows x 3 columns]"
      ]
     },
     "execution_count": 75,
     "metadata": {},
     "output_type": "execute_result"
    }
   ],
   "source": [
    "proba_gbc = gbc_tuned.predict_proba(X_test)\n",
    "proba_1_gbc = proba_gbc[:,1]\n",
    "pr_gbc, rc_gbc, thrs_gbc = precision_recall_curve(y_test, proba_1_gbc)\n",
    "pr_gbc_df = pd.DataFrame({'Precision': pr_gbc[:-1], 'Recall': rc_gbc[:-1], 'Thresholds': thrs_gbc})\n",
    "pr_gbc_df"
   ]
  },
  {
   "cell_type": "code",
   "execution_count": 76,
   "metadata": {},
   "outputs": [
    {
     "data": {
      "text/html": [
       "<div>\n",
       "<style scoped>\n",
       "    .dataframe tbody tr th:only-of-type {\n",
       "        vertical-align: middle;\n",
       "    }\n",
       "\n",
       "    .dataframe tbody tr th {\n",
       "        vertical-align: top;\n",
       "    }\n",
       "\n",
       "    .dataframe thead th {\n",
       "        text-align: right;\n",
       "    }\n",
       "</style>\n",
       "<table border=\"1\" class=\"dataframe\">\n",
       "  <thead>\n",
       "    <tr style=\"text-align: right;\">\n",
       "      <th></th>\n",
       "      <th>Precision</th>\n",
       "      <th>Recall</th>\n",
       "      <th>Thresholds</th>\n",
       "    </tr>\n",
       "  </thead>\n",
       "  <tbody>\n",
       "    <tr>\n",
       "      <th>147</th>\n",
       "      <td>0.321101</td>\n",
       "      <td>0.795455</td>\n",
       "      <td>0.033687</td>\n",
       "    </tr>\n",
       "    <tr>\n",
       "      <th>149</th>\n",
       "      <td>0.327103</td>\n",
       "      <td>0.795455</td>\n",
       "      <td>0.035580</td>\n",
       "    </tr>\n",
       "    <tr>\n",
       "      <th>150</th>\n",
       "      <td>0.330189</td>\n",
       "      <td>0.795455</td>\n",
       "      <td>0.037882</td>\n",
       "    </tr>\n",
       "    <tr>\n",
       "      <th>151</th>\n",
       "      <td>0.333333</td>\n",
       "      <td>0.795455</td>\n",
       "      <td>0.040880</td>\n",
       "    </tr>\n",
       "    <tr>\n",
       "      <th>152</th>\n",
       "      <td>0.336538</td>\n",
       "      <td>0.795455</td>\n",
       "      <td>0.041572</td>\n",
       "    </tr>\n",
       "    <tr>\n",
       "      <th>153</th>\n",
       "      <td>0.339806</td>\n",
       "      <td>0.795455</td>\n",
       "      <td>0.045146</td>\n",
       "    </tr>\n",
       "    <tr>\n",
       "      <th>148</th>\n",
       "      <td>0.324074</td>\n",
       "      <td>0.795455</td>\n",
       "      <td>0.034551</td>\n",
       "    </tr>\n",
       "    <tr>\n",
       "      <th>154</th>\n",
       "      <td>0.333333</td>\n",
       "      <td>0.772727</td>\n",
       "      <td>0.045323</td>\n",
       "    </tr>\n",
       "    <tr>\n",
       "      <th>157</th>\n",
       "      <td>0.333333</td>\n",
       "      <td>0.750000</td>\n",
       "      <td>0.051231</td>\n",
       "    </tr>\n",
       "    <tr>\n",
       "      <th>158</th>\n",
       "      <td>0.336735</td>\n",
       "      <td>0.750000</td>\n",
       "      <td>0.055470</td>\n",
       "    </tr>\n",
       "    <tr>\n",
       "      <th>156</th>\n",
       "      <td>0.330000</td>\n",
       "      <td>0.750000</td>\n",
       "      <td>0.048087</td>\n",
       "    </tr>\n",
       "    <tr>\n",
       "      <th>155</th>\n",
       "      <td>0.326733</td>\n",
       "      <td>0.750000</td>\n",
       "      <td>0.045586</td>\n",
       "    </tr>\n",
       "    <tr>\n",
       "      <th>165</th>\n",
       "      <td>0.351648</td>\n",
       "      <td>0.727273</td>\n",
       "      <td>0.085984</td>\n",
       "    </tr>\n",
       "    <tr>\n",
       "      <th>171</th>\n",
       "      <td>0.376471</td>\n",
       "      <td>0.727273</td>\n",
       "      <td>0.119006</td>\n",
       "    </tr>\n",
       "    <tr>\n",
       "      <th>169</th>\n",
       "      <td>0.367816</td>\n",
       "      <td>0.727273</td>\n",
       "      <td>0.111759</td>\n",
       "    </tr>\n",
       "    <tr>\n",
       "      <th>168</th>\n",
       "      <td>0.363636</td>\n",
       "      <td>0.727273</td>\n",
       "      <td>0.107500</td>\n",
       "    </tr>\n",
       "    <tr>\n",
       "      <th>167</th>\n",
       "      <td>0.359551</td>\n",
       "      <td>0.727273</td>\n",
       "      <td>0.097302</td>\n",
       "    </tr>\n",
       "    <tr>\n",
       "      <th>166</th>\n",
       "      <td>0.355556</td>\n",
       "      <td>0.727273</td>\n",
       "      <td>0.095777</td>\n",
       "    </tr>\n",
       "    <tr>\n",
       "      <th>170</th>\n",
       "      <td>0.372093</td>\n",
       "      <td>0.727273</td>\n",
       "      <td>0.117882</td>\n",
       "    </tr>\n",
       "    <tr>\n",
       "      <th>164</th>\n",
       "      <td>0.347826</td>\n",
       "      <td>0.727273</td>\n",
       "      <td>0.085662</td>\n",
       "    </tr>\n",
       "    <tr>\n",
       "      <th>163</th>\n",
       "      <td>0.344086</td>\n",
       "      <td>0.727273</td>\n",
       "      <td>0.081057</td>\n",
       "    </tr>\n",
       "    <tr>\n",
       "      <th>162</th>\n",
       "      <td>0.340426</td>\n",
       "      <td>0.727273</td>\n",
       "      <td>0.074984</td>\n",
       "    </tr>\n",
       "    <tr>\n",
       "      <th>161</th>\n",
       "      <td>0.336842</td>\n",
       "      <td>0.727273</td>\n",
       "      <td>0.065210</td>\n",
       "    </tr>\n",
       "    <tr>\n",
       "      <th>160</th>\n",
       "      <td>0.333333</td>\n",
       "      <td>0.727273</td>\n",
       "      <td>0.064042</td>\n",
       "    </tr>\n",
       "    <tr>\n",
       "      <th>159</th>\n",
       "      <td>0.329897</td>\n",
       "      <td>0.727273</td>\n",
       "      <td>0.056053</td>\n",
       "    </tr>\n",
       "    <tr>\n",
       "      <th>172</th>\n",
       "      <td>0.369048</td>\n",
       "      <td>0.704545</td>\n",
       "      <td>0.119929</td>\n",
       "    </tr>\n",
       "    <tr>\n",
       "      <th>173</th>\n",
       "      <td>0.373494</td>\n",
       "      <td>0.704545</td>\n",
       "      <td>0.120852</td>\n",
       "    </tr>\n",
       "    <tr>\n",
       "      <th>174</th>\n",
       "      <td>0.378049</td>\n",
       "      <td>0.704545</td>\n",
       "      <td>0.125050</td>\n",
       "    </tr>\n",
       "    <tr>\n",
       "      <th>183</th>\n",
       "      <td>0.410959</td>\n",
       "      <td>0.681818</td>\n",
       "      <td>0.152576</td>\n",
       "    </tr>\n",
       "    <tr>\n",
       "      <th>182</th>\n",
       "      <td>0.405405</td>\n",
       "      <td>0.681818</td>\n",
       "      <td>0.152349</td>\n",
       "    </tr>\n",
       "    <tr>\n",
       "      <th>181</th>\n",
       "      <td>0.400000</td>\n",
       "      <td>0.681818</td>\n",
       "      <td>0.140951</td>\n",
       "    </tr>\n",
       "    <tr>\n",
       "      <th>180</th>\n",
       "      <td>0.394737</td>\n",
       "      <td>0.681818</td>\n",
       "      <td>0.134078</td>\n",
       "    </tr>\n",
       "    <tr>\n",
       "      <th>179</th>\n",
       "      <td>0.389610</td>\n",
       "      <td>0.681818</td>\n",
       "      <td>0.131755</td>\n",
       "    </tr>\n",
       "    <tr>\n",
       "      <th>178</th>\n",
       "      <td>0.384615</td>\n",
       "      <td>0.681818</td>\n",
       "      <td>0.128997</td>\n",
       "    </tr>\n",
       "    <tr>\n",
       "      <th>177</th>\n",
       "      <td>0.379747</td>\n",
       "      <td>0.681818</td>\n",
       "      <td>0.128818</td>\n",
       "    </tr>\n",
       "    <tr>\n",
       "      <th>176</th>\n",
       "      <td>0.375000</td>\n",
       "      <td>0.681818</td>\n",
       "      <td>0.128556</td>\n",
       "    </tr>\n",
       "    <tr>\n",
       "      <th>175</th>\n",
       "      <td>0.370370</td>\n",
       "      <td>0.681818</td>\n",
       "      <td>0.126913</td>\n",
       "    </tr>\n",
       "    <tr>\n",
       "      <th>184</th>\n",
       "      <td>0.402778</td>\n",
       "      <td>0.659091</td>\n",
       "      <td>0.156153</td>\n",
       "    </tr>\n",
       "    <tr>\n",
       "      <th>185</th>\n",
       "      <td>0.408451</td>\n",
       "      <td>0.659091</td>\n",
       "      <td>0.160559</td>\n",
       "    </tr>\n",
       "    <tr>\n",
       "      <th>186</th>\n",
       "      <td>0.414286</td>\n",
       "      <td>0.659091</td>\n",
       "      <td>0.161114</td>\n",
       "    </tr>\n",
       "    <tr>\n",
       "      <th>187</th>\n",
       "      <td>0.420290</td>\n",
       "      <td>0.659091</td>\n",
       "      <td>0.166493</td>\n",
       "    </tr>\n",
       "    <tr>\n",
       "      <th>188</th>\n",
       "      <td>0.426471</td>\n",
       "      <td>0.659091</td>\n",
       "      <td>0.168649</td>\n",
       "    </tr>\n",
       "    <tr>\n",
       "      <th>189</th>\n",
       "      <td>0.432836</td>\n",
       "      <td>0.659091</td>\n",
       "      <td>0.171371</td>\n",
       "    </tr>\n",
       "    <tr>\n",
       "      <th>190</th>\n",
       "      <td>0.439394</td>\n",
       "      <td>0.659091</td>\n",
       "      <td>0.183156</td>\n",
       "    </tr>\n",
       "    <tr>\n",
       "      <th>191</th>\n",
       "      <td>0.430769</td>\n",
       "      <td>0.636364</td>\n",
       "      <td>0.187189</td>\n",
       "    </tr>\n",
       "    <tr>\n",
       "      <th>192</th>\n",
       "      <td>0.421875</td>\n",
       "      <td>0.613636</td>\n",
       "      <td>0.202040</td>\n",
       "    </tr>\n",
       "  </tbody>\n",
       "</table>\n",
       "</div>"
      ],
      "text/plain": [
       "     Precision    Recall  Thresholds\n",
       "147   0.321101  0.795455    0.033687\n",
       "149   0.327103  0.795455    0.035580\n",
       "150   0.330189  0.795455    0.037882\n",
       "151   0.333333  0.795455    0.040880\n",
       "152   0.336538  0.795455    0.041572\n",
       "153   0.339806  0.795455    0.045146\n",
       "148   0.324074  0.795455    0.034551\n",
       "154   0.333333  0.772727    0.045323\n",
       "157   0.333333  0.750000    0.051231\n",
       "158   0.336735  0.750000    0.055470\n",
       "156   0.330000  0.750000    0.048087\n",
       "155   0.326733  0.750000    0.045586\n",
       "165   0.351648  0.727273    0.085984\n",
       "171   0.376471  0.727273    0.119006\n",
       "169   0.367816  0.727273    0.111759\n",
       "168   0.363636  0.727273    0.107500\n",
       "167   0.359551  0.727273    0.097302\n",
       "166   0.355556  0.727273    0.095777\n",
       "170   0.372093  0.727273    0.117882\n",
       "164   0.347826  0.727273    0.085662\n",
       "163   0.344086  0.727273    0.081057\n",
       "162   0.340426  0.727273    0.074984\n",
       "161   0.336842  0.727273    0.065210\n",
       "160   0.333333  0.727273    0.064042\n",
       "159   0.329897  0.727273    0.056053\n",
       "172   0.369048  0.704545    0.119929\n",
       "173   0.373494  0.704545    0.120852\n",
       "174   0.378049  0.704545    0.125050\n",
       "183   0.410959  0.681818    0.152576\n",
       "182   0.405405  0.681818    0.152349\n",
       "181   0.400000  0.681818    0.140951\n",
       "180   0.394737  0.681818    0.134078\n",
       "179   0.389610  0.681818    0.131755\n",
       "178   0.384615  0.681818    0.128997\n",
       "177   0.379747  0.681818    0.128818\n",
       "176   0.375000  0.681818    0.128556\n",
       "175   0.370370  0.681818    0.126913\n",
       "184   0.402778  0.659091    0.156153\n",
       "185   0.408451  0.659091    0.160559\n",
       "186   0.414286  0.659091    0.161114\n",
       "187   0.420290  0.659091    0.166493\n",
       "188   0.426471  0.659091    0.168649\n",
       "189   0.432836  0.659091    0.171371\n",
       "190   0.439394  0.659091    0.183156\n",
       "191   0.430769  0.636364    0.187189\n",
       "192   0.421875  0.613636    0.202040"
      ]
     },
     "execution_count": 76,
     "metadata": {},
     "output_type": "execute_result"
    }
   ],
   "source": [
    "pr_gbc_df[pr_gbc_df['Recall'].between(0.6, 0.8)].sort_values('Recall', ascending=False)"
   ]
  },
  {
   "cell_type": "code",
   "execution_count": 111,
   "metadata": {
    "scrolled": false
   },
   "outputs": [
    {
     "name": "stdout",
     "output_type": "stream",
     "text": [
      "              precision    recall  f1-score   support\n",
      "\n",
      "           0       0.94      0.65      0.77       214\n",
      "           1       0.32      0.80      0.46        44\n",
      "\n",
      "    accuracy                           0.68       258\n",
      "   macro avg       0.63      0.72      0.61       258\n",
      "weighted avg       0.83      0.68      0.72       258\n",
      "\n"
     ]
    },
    {
     "data": {
      "image/png": "[encoded data removed]",
      "text/plain": [
       "<Figure size 1152x432 with 2 Axes>"
      ]
     },
     "metadata": {},
     "output_type": "display_data"
    }
   ],
   "source": [
    "thr_gbc = 0.033687\n",
    "y_pred_thr_gbc = np.where(gbc_tuned.predict_proba(X_test)[:,1] > thr_gbc, 1, 0)\n",
    "print(classification_report(y_test, y_pred_thr_gbc))\n",
    "\n",
    "thr_gbc_df = pd.DataFrame(dict(zip(['label', 'prob1', 'label_003'], [y_pred_thr_gbc, gbc_tuned.predict_proba(X_test)[:,1], gbc_tuned.predict(X_test)])))\n",
    "plt.figure(figsize=(16,6))\n",
    "plt.subplot(121)\n",
    "plt.title(f'Threshold moved to: {thr_gbc}')\n",
    "sns.scatterplot(x=thr_gbc_df.index, y=thr_gbc_df['prob1'], hue=thr_gbc_df['label'], palette='YlGnBu')\n",
    "plt.axhline(thr_gbc, color='red')\n",
    "plt.legend(loc='upper right')\n",
    "\n",
    "plt.subplot(122)\n",
    "plt.title('Default Threshold: 0.5')\n",
    "sns.scatterplot(x=thr_gbc_df.index, y=thr_gbc_df['prob1'], hue=thr_gbc_df['label_003'], palette='YlGnBu')\n",
    "plt.axhline(0.5, color='red')\n",
    "plt.legend(loc='upper right')\n",
    "\n",
    "plt.show()"
   ]
  },
  {
   "cell_type": "code",
   "execution_count": 78,
   "metadata": {
    "scrolled": true
   },
   "outputs": [
    {
     "data": {
      "text/html": [
       "<div>\n",
       "<style scoped>\n",
       "    .dataframe tbody tr th:only-of-type {\n",
       "        vertical-align: middle;\n",
       "    }\n",
       "\n",
       "    .dataframe tbody tr th {\n",
       "        vertical-align: top;\n",
       "    }\n",
       "\n",
       "    .dataframe thead th {\n",
       "        text-align: right;\n",
       "    }\n",
       "</style>\n",
       "<table border=\"1\" class=\"dataframe\">\n",
       "  <thead>\n",
       "    <tr style=\"text-align: right;\">\n",
       "      <th></th>\n",
       "      <th>prediction_0</th>\n",
       "      <th>prediction_1</th>\n",
       "      <th>total_actual</th>\n",
       "    </tr>\n",
       "  </thead>\n",
       "  <tbody>\n",
       "    <tr>\n",
       "      <th>actual_0</th>\n",
       "      <td>140</td>\n",
       "      <td>74</td>\n",
       "      <td>214</td>\n",
       "    </tr>\n",
       "    <tr>\n",
       "      <th>actual_1</th>\n",
       "      <td>9</td>\n",
       "      <td>35</td>\n",
       "      <td>44</td>\n",
       "    </tr>\n",
       "    <tr>\n",
       "      <th>total_prediction</th>\n",
       "      <td>149</td>\n",
       "      <td>109</td>\n",
       "      <td>258</td>\n",
       "    </tr>\n",
       "  </tbody>\n",
       "</table>\n",
       "</div>"
      ],
      "text/plain": [
       "                  prediction_0  prediction_1  total_actual\n",
       "actual_0                   140            74           214\n",
       "actual_1                     9            35            44\n",
       "total_prediction           149           109           258"
      ]
     },
     "execution_count": 78,
     "metadata": {},
     "output_type": "execute_result"
    }
   ],
   "source": [
    "make_confusion_matrix(confusion_matrix(y_test, y_pred_thr_gbc))"
   ]
  },
  {
   "cell_type": "markdown",
   "metadata": {},
   "source": [
    "__Note :__ Berdasarkan hasil model improvement untuk Gradient Boosting, didapatkan peningkatan nilai recall. Namun yang disayangkan, untuk mendapatkan nilai Recall yang optimal ini penggeseran threshold sangat jauh dari threshold awal hingga 0,03. Hal tersebut membuat model improvement ini menjadi tidak baik jika digunakan."
   ]
  },
  {
   "cell_type": "markdown",
   "metadata": {},
   "source": [
    "# Model Comparison"
   ]
  },
  {
   "cell_type": "markdown",
   "metadata": {},
   "source": [
    "Pada kasus klasifikasi sendiri terdapat metrics False Positif (FP) dan False Negatif (FN). Dimana, jika diterapkan pada kasus attrition, maka diterjemahkan sebagai berikut :\n",
    "- FP = Terdapat karyawan yang diprediksi mengundurkan diri, namun sebenarnya akan bertahan.\n",
    "- FN = Terdapat karyawan yang diprediksi bertahan, namun sebenarnya akan mengundurkan diri.\n",
    "\n",
    "Berdasarkan metrics tersebut, maka harapan dari model yang dihasilkan dapat __menurunkan jumlah False Negatif (FN)__ dengan scoring yang difokuskan adalah __Recall__. Perusahaan berupaya untuk mencgah karyawan yang akan mengundurkan diri. Karena dengan adanya karyawan mengundurkan diri, maka peruhaan perlu untuk melakukan rekrutmen baru dan pelatihan ulang untuk karyawan baru."
   ]
  },
  {
   "cell_type": "code",
   "execution_count": 126,
   "metadata": {},
   "outputs": [
    {
     "data": {
      "image/png": "[encoded data removed]",
      "text/plain": [
       "<Figure size 1440x432 with 3 Axes>"
      ]
     },
     "metadata": {},
     "output_type": "display_data"
    }
   ],
   "source": [
    "plt.figure(figsize=(20, 6))\n",
    "plt.subplot(131)\n",
    "plt.title('K-Nearest Neighbor Model Improvement', fontweight=\"bold\")\n",
    "sns.scatterplot(x=thr_knn_df.index, y=thr_knn_df['prob1'], hue=thr_knn_df['label'], palette='YlGnBu')\n",
    "plt.axhline(thr_knn, color='red')\n",
    "plt.ylim([-0.05, 1.05])\n",
    "plt.legend(loc='upper right')\n",
    "\n",
    "plt.subplot(132)\n",
    "plt.title('Random Forest Model Improvement', fontweight=\"bold\")\n",
    "sns.scatterplot(x=thr_rfc_df.index, y=thr_rfc_df['prob1'], hue=thr_rfc_df['label'], palette='YlGnBu')\n",
    "plt.axhline(thr_rfc, color='red')\n",
    "plt.ylim([-0.05, 1.05])\n",
    "plt.legend(loc='upper right')\n",
    "\n",
    "plt.subplot(133)\n",
    "plt.title('Gradient Boosting Model Improvement', fontweight=\"bold\")\n",
    "sns.scatterplot(x=thr_gbc_df.index, y=thr_gbc_df['prob1'], hue=thr_gbc_df['label'], palette='YlGnBu')\n",
    "plt.axhline(thr_gbc, color='red')\n",
    "plt.ylim([-0.05, 1.05])\n",
    "plt.legend(loc='upper right')\n",
    "\n",
    "plt.show()"
   ]
  },
  {
   "cell_type": "code",
   "execution_count": 124,
   "metadata": {
    "scrolled": true
   },
   "outputs": [
    {
     "data": {
      "text/html": [
       "<div>\n",
       "<style scoped>\n",
       "    .dataframe tbody tr th:only-of-type {\n",
       "        vertical-align: middle;\n",
       "    }\n",
       "\n",
       "    .dataframe tbody tr th {\n",
       "        vertical-align: top;\n",
       "    }\n",
       "\n",
       "    .dataframe thead th {\n",
       "        text-align: right;\n",
       "    }\n",
       "</style>\n",
       "<table border=\"1\" class=\"dataframe\">\n",
       "  <thead>\n",
       "    <tr style=\"text-align: right;\">\n",
       "      <th></th>\n",
       "      <th>K-Nearest Neighbor</th>\n",
       "      <th>Random Forest</th>\n",
       "      <th>Gradient Boosting</th>\n",
       "    </tr>\n",
       "  </thead>\n",
       "  <tbody>\n",
       "    <tr>\n",
       "      <th>Accuracy Score</th>\n",
       "      <td>0.484496</td>\n",
       "      <td>0.705426</td>\n",
       "      <td>0.678295</td>\n",
       "    </tr>\n",
       "    <tr>\n",
       "      <th>Precision Score</th>\n",
       "      <td>0.233533</td>\n",
       "      <td>0.346154</td>\n",
       "      <td>0.321101</td>\n",
       "    </tr>\n",
       "    <tr>\n",
       "      <th>Recall Score</th>\n",
       "      <td>0.886364</td>\n",
       "      <td>0.818182</td>\n",
       "      <td>0.795455</td>\n",
       "    </tr>\n",
       "    <tr>\n",
       "      <th>F1 Score</th>\n",
       "      <td>0.369668</td>\n",
       "      <td>0.486486</td>\n",
       "      <td>0.457516</td>\n",
       "    </tr>\n",
       "  </tbody>\n",
       "</table>\n",
       "</div>"
      ],
      "text/plain": [
       "                 K-Nearest Neighbor  Random Forest  Gradient Boosting\n",
       "Accuracy Score             0.484496       0.705426           0.678295\n",
       "Precision Score            0.233533       0.346154           0.321101\n",
       "Recall Score               0.886364       0.818182           0.795455\n",
       "F1 Score                   0.369668       0.486486           0.457516"
      ]
     },
     "execution_count": 124,
     "metadata": {},
     "output_type": "execute_result"
    }
   ],
   "source": [
    "model_comp = pd.DataFrame({\n",
    "    \"K-Nearest Neighbor\": [accuracy_score(y_test, y_pred_thr_knn), \n",
    "                           precision_score(y_test, y_pred_thr_knn),\n",
    "                           recall_score(y_test, y_pred_thr_knn),\n",
    "                           f1_score(y_test, y_pred_thr_knn)],\n",
    "    \n",
    "    \"Random Forest\": [accuracy_score(y_test, y_pred_thr_rfc),\n",
    "                      precision_score(y_test, y_pred_thr_rfc),\n",
    "                      recall_score(y_test, y_pred_thr_rfc),\n",
    "                      f1_score(y_test, y_pred_thr_rfc)],\n",
    "    \n",
    "    \"Gradient Boosting\": [accuracy_score(y_test, y_pred_thr_gbc),\n",
    "                  precision_score(y_test, y_pred_thr_gbc),\n",
    "                  recall_score(y_test, y_pred_thr_gbc),\n",
    "                  f1_score(y_test, y_pred_thr_gbc),]\n",
    "    \n",
    "}, index=['Accuracy Score', 'Precision Score', 'Recall Score', 'F1 Score'])\n",
    "\n",
    "model_comp"
   ]
  },
  {
   "cell_type": "markdown",
   "metadata": {},
   "source": [
    "__Note :__ Berdasarkan hasil model yang telah dilakukan dengan menerapkan algoritma machine learning yang berbeda dan juga penerapan optimalisasi score di setiap algoritmanya, maka model yang dipilih untuk dilakukan deployment adalah __Random Forest Classifier__. Dimana, didapatkan  nilai yang cukup baik dengan nilai __Recall sebesar 0,82 dan Akurasi  sebesar 0,7__. Walaupun nilai Recall tersebut lebih rendah dibandingkan yang dihasilkan oleh K_Nearest Neighbor, namun scoring metrics lainnya lebih tollerable, khususnya akurasi."
   ]
  },
  {
   "cell_type": "markdown",
   "metadata": {},
   "source": [
    "# MODEL DEPLOYMENT"
   ]
  },
  {
   "cell_type": "markdown",
   "metadata": {},
   "source": [
    "# Save Model"
   ]
  },
  {
   "cell_type": "code",
   "execution_count": 79,
   "metadata": {},
   "outputs": [],
   "source": [
    "# rfc_tuned.fit(X,y)\n",
    "# filename = 'Random_Forest.sav'\n",
    "# pickle.dump(rfc_tuned, open(filename, 'wb')) "
   ]
  },
  {
   "cell_type": "markdown",
   "metadata": {},
   "source": [
    "# New Data Prediction"
   ]
  },
  {
   "cell_type": "markdown",
   "metadata": {},
   "source": [
    "> # Load Model"
   ]
  },
  {
   "cell_type": "code",
   "execution_count": 80,
   "metadata": {},
   "outputs": [],
   "source": [
    "filename = 'Random_Forest.sav'\n",
    "loaded_model = pickle.load((open(filename, 'rb')))"
   ]
  },
  {
   "cell_type": "code",
   "execution_count": 81,
   "metadata": {},
   "outputs": [
    {
     "data": {
      "text/plain": [
       "Pipeline(steps=[('transformer',\n",
       "                 ColumnTransformer(remainder='passthrough',\n",
       "                                   transformers=[('pipe_num',\n",
       "                                                  Pipeline(steps=[('imputer',\n",
       "                                                                   SimpleImputer(strategy='median'))]),\n",
       "                                                  ['Age', 'DistanceFromHome',\n",
       "                                                   'MonthlyIncome',\n",
       "                                                   'MonthlyRate',\n",
       "                                                   'NumCompaniesWorked',\n",
       "                                                   'PercentSalaryHike',\n",
       "                                                   'TotalWorkingYears',\n",
       "                                                   'TrainingTimesLastYear',\n",
       "                                                   'YearsAtCompany',\n",
       "                                                   'YearsInCurrentRole',\n",
       "                                                   'YearsSin...\n",
       "                                                  Index(['BusinessTravel', 'Department', 'EducationField', 'Gender', 'JobRole',\n",
       "       'MaritalStatus', 'OverTime'],\n",
       "      dtype='object'))])),\n",
       "                ('rfe',\n",
       "                 RFE(estimator=RandomForestClassifier(max_depth=10,\n",
       "                                                      random_state=77))),\n",
       "                ('resampling', SMOTE(random_state=77)),\n",
       "                ('rfc',\n",
       "                 RandomForestClassifier(max_depth=6, min_samples_leaf=150,\n",
       "                                        min_samples_split=400, n_estimators=300,\n",
       "                                        random_state=77))])"
      ]
     },
     "execution_count": 81,
     "metadata": {},
     "output_type": "execute_result"
    }
   ],
   "source": [
    "loaded_model"
   ]
  },
  {
   "cell_type": "markdown",
   "metadata": {},
   "source": [
    "> # New Prediction"
   ]
  },
  {
   "cell_type": "code",
   "execution_count": 82,
   "metadata": {},
   "outputs": [
    {
     "data": {
      "text/html": [
       "<div>\n",
       "<style scoped>\n",
       "    .dataframe tbody tr th:only-of-type {\n",
       "        vertical-align: middle;\n",
       "    }\n",
       "\n",
       "    .dataframe tbody tr th {\n",
       "        vertical-align: top;\n",
       "    }\n",
       "\n",
       "    .dataframe thead th {\n",
       "        text-align: right;\n",
       "    }\n",
       "</style>\n",
       "<table border=\"1\" class=\"dataframe\">\n",
       "  <thead>\n",
       "    <tr style=\"text-align: right;\">\n",
       "      <th></th>\n",
       "      <th>Age</th>\n",
       "      <th>BusinessTravel</th>\n",
       "      <th>Department</th>\n",
       "      <th>DistanceFromHome</th>\n",
       "      <th>Education</th>\n",
       "      <th>EducationField</th>\n",
       "      <th>EnvironmentSatisfaction</th>\n",
       "      <th>Gender</th>\n",
       "      <th>JobInvolvement</th>\n",
       "      <th>JobLevel</th>\n",
       "      <th>JobRole</th>\n",
       "      <th>JobSatisfaction</th>\n",
       "      <th>MaritalStatus</th>\n",
       "      <th>MonthlyIncome</th>\n",
       "      <th>MonthlyRate</th>\n",
       "      <th>NumCompaniesWorked</th>\n",
       "      <th>OverTime</th>\n",
       "      <th>PercentSalaryHike</th>\n",
       "      <th>PerformanceRating</th>\n",
       "      <th>RelationshipSatisfaction</th>\n",
       "      <th>StockOptionLevel</th>\n",
       "      <th>TotalWorkingYears</th>\n",
       "      <th>TrainingTimesLastYear</th>\n",
       "      <th>WorkLifeBalance</th>\n",
       "      <th>YearsAtCompany</th>\n",
       "      <th>YearsInCurrentRole</th>\n",
       "      <th>YearsSinceLastPromotion</th>\n",
       "      <th>YearsWithCurrManager</th>\n",
       "    </tr>\n",
       "  </thead>\n",
       "  <tbody>\n",
       "    <tr>\n",
       "      <th>0</th>\n",
       "      <td>25</td>\n",
       "      <td>Travel_Rarely</td>\n",
       "      <td>Research &amp; Development</td>\n",
       "      <td>2</td>\n",
       "      <td>3</td>\n",
       "      <td>Technical Degree</td>\n",
       "      <td>1</td>\n",
       "      <td>Male</td>\n",
       "      <td>2</td>\n",
       "      <td>2</td>\n",
       "      <td>Laboratory Technician</td>\n",
       "      <td>1</td>\n",
       "      <td>Single</td>\n",
       "      <td>1200</td>\n",
       "      <td>2100</td>\n",
       "      <td>1</td>\n",
       "      <td>Yes</td>\n",
       "      <td>11</td>\n",
       "      <td>3</td>\n",
       "      <td>2</td>\n",
       "      <td>1</td>\n",
       "      <td>1</td>\n",
       "      <td>4</td>\n",
       "      <td>3</td>\n",
       "      <td>1</td>\n",
       "      <td>1</td>\n",
       "      <td>0</td>\n",
       "      <td>1</td>\n",
       "    </tr>\n",
       "  </tbody>\n",
       "</table>\n",
       "</div>"
      ],
      "text/plain": [
       "   Age BusinessTravel              Department  DistanceFromHome  Education  \\\n",
       "0   25  Travel_Rarely  Research & Development                 2          3   \n",
       "\n",
       "     EducationField  EnvironmentSatisfaction Gender  JobInvolvement  JobLevel  \\\n",
       "0  Technical Degree                        1   Male               2         2   \n",
       "\n",
       "                 JobRole  JobSatisfaction MaritalStatus  MonthlyIncome  \\\n",
       "0  Laboratory Technician                1        Single           1200   \n",
       "\n",
       "   MonthlyRate  NumCompaniesWorked OverTime  PercentSalaryHike  \\\n",
       "0         2100                   1      Yes                 11   \n",
       "\n",
       "   PerformanceRating  RelationshipSatisfaction  StockOptionLevel  \\\n",
       "0                  3                         2                 1   \n",
       "\n",
       "   TotalWorkingYears  TrainingTimesLastYear  WorkLifeBalance  YearsAtCompany  \\\n",
       "0                  1                      4                3               1   \n",
       "\n",
       "   YearsInCurrentRole  YearsSinceLastPromotion  YearsWithCurrManager  \n",
       "0                   1                        0                     1  "
      ]
     },
     "execution_count": 82,
     "metadata": {},
     "output_type": "execute_result"
    }
   ],
   "source": [
    "df_predict = pd.DataFrame({\n",
    "    'Age' : [25], \n",
    "    'BusinessTravel' : 'Travel_Rarely', \n",
    "    'Department' : 'Research & Development', \n",
    "    'DistanceFromHome' : [2], \n",
    "    'Education' : [3],\n",
    "    'EducationField' : 'Technical Degree', \n",
    "    'EnvironmentSatisfaction' : [1], \n",
    "    'Gender' : 'Male', \n",
    "    'JobInvolvement' : [2],\n",
    "    'JobLevel' : [2], \n",
    "    'JobRole' : 'Laboratory Technician', \n",
    "    'JobSatisfaction' : [1], \n",
    "    'MaritalStatus' : 'Single',\n",
    "    'MonthlyIncome' : [1200], \n",
    "    'MonthlyRate' : [2100], \n",
    "    'NumCompaniesWorked' : [1], \n",
    "    'OverTime' : 'Yes',\n",
    "    'PercentSalaryHike' : [11], \n",
    "    'PerformanceRating' : [3], \n",
    "    'RelationshipSatisfaction' : [2],\n",
    "    'StockOptionLevel' : [1], \n",
    "    'TotalWorkingYears' : [1], \n",
    "    'TrainingTimesLastYear' : [4],\n",
    "    'WorkLifeBalance' : [3], \n",
    "    'YearsAtCompany' : [1], \n",
    "    'YearsInCurrentRole' : [1],\n",
    "    'YearsSinceLastPromotion' : [0], \n",
    "    'YearsWithCurrManager' : [1]\n",
    "})\n",
    "\n",
    "df_predict"
   ]
  },
  {
   "cell_type": "code",
   "execution_count": 83,
   "metadata": {},
   "outputs": [
    {
     "name": "stdout",
     "output_type": "stream",
     "text": [
      "Employee might Stay\n",
      "[[0.32089771 0.67910229]]\n"
     ]
    }
   ],
   "source": [
    "proba_predict = loaded_model.predict_proba(df_predict)\n",
    "class_predict = np.where(loaded_model.predict_proba(df_predict)[:,1]>thr_rfc, 1, 0)[0]\n",
    "\n",
    "if class_predict == 0:\n",
    "    print('Employee might Leave')\n",
    "else:\n",
    "    print('Employee might Stay')\n",
    "    \n",
    "print(proba_predict)"
   ]
  },
  {
   "cell_type": "code",
   "execution_count": null,
   "metadata": {},
   "outputs": [],
   "source": []
  }
 ],
 "metadata": {
  "kernelspec": {
   "display_name": "Python 3",
   "language": "python",
   "name": "python3"
  },
  "language_info": {
   "codemirror_mode": {
    "name": "ipython",
    "version": 3
   },
   "file_extension": ".py",
   "mimetype": "text/x-python",
   "name": "python",
   "nbconvert_exporter": "python",
   "pygments_lexer": "ipython3",
   "version": "3.8.3"
  }
 },
 "nbformat": 4,
 "nbformat_minor": 4
}
